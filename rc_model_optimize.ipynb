{
 "cells": [
  {
   "cell_type": "code",
   "id": "initial_id",
   "metadata": {
    "collapsed": true,
    "ExecuteTime": {
     "end_time": "2025-07-18T11:35:09.809640Z",
     "start_time": "2025-07-18T11:35:09.805107Z"
    }
   },
   "source": [
    "import numpy as np\n",
    "import matplotlib.pyplot as plt\n",
    "import pandas as pd\n",
    "from scipy.linalg import lstsq\n",
    "from sklearn.model_selection import train_test_split\n",
    "import cvxpy as cp\n",
    "#import ace_tools as tools  # if you want to display\n",
    "\n",
    "\n"
   ],
   "outputs": [],
   "execution_count": 54
  },
  {
   "metadata": {
    "ExecuteTime": {
     "end_time": "2025-07-18T11:35:09.998155Z",
     "start_time": "2025-07-18T11:35:09.828693Z"
    }
   },
   "cell_type": "code",
   "source": [
    "#Data import - clean, seperate & filter\n",
    "df_data = pd.read_parquet(\"training_data/initial_dataset.parquet\")\n",
    "df_train_detached = pd.read_parquet(\n",
    "    \"training_data/data_detached_with_weather.parquet\")\n",
    "type(df_data)\n",
    "type(df_train_detached)\n",
    "df_train_detached"
   ],
   "id": "de704a60f7e03931",
   "outputs": [
    {
     "data": {
      "text/plain": [
       "       Property_ID           Timestamp half-hour  Boiler_Energy_Output  \\\n",
       "0          EOH0279 2020-10-26 00:00:00  00:00:00                   NaN   \n",
       "1          EOH1703 2020-10-26 00:00:00  00:00:00                   NaN   \n",
       "2          EOH1703 2020-10-26 00:30:00  00:30:00                   NaN   \n",
       "3          EOH0279 2020-10-26 00:30:00  00:30:00                   NaN   \n",
       "4          EOH0279 2020-10-26 01:00:00  01:00:00                   NaN   \n",
       "...            ...                 ...       ...                   ...   \n",
       "505054     EOH3154 2023-09-29 00:00:00  00:00:00                   NaN   \n",
       "505055     EOH1637 2023-09-29 00:00:00  00:00:00                   NaN   \n",
       "505056     EOH2329 2023-09-29 00:00:00  00:00:00                   NaN   \n",
       "505057     EOH2675 2023-09-29 00:00:00  00:00:00                   NaN   \n",
       "505058     EOH3196 2023-09-29 00:00:00  00:00:00                   NaN   \n",
       "\n",
       "        Circulation_Pump_Energy_Consumed  Heat_Pump_Energy_Output  \\\n",
       "0                                  0.000                    0.000   \n",
       "1                                  0.013                    0.242   \n",
       "2                                  0.029                    0.622   \n",
       "3                                  0.000                    0.000   \n",
       "4                                  0.000                    2.730   \n",
       "...                                  ...                      ...   \n",
       "505054                             0.000                44801.768   \n",
       "505055                           203.311                43996.381   \n",
       "505056                            31.139                14128.100   \n",
       "505057                           212.928                59675.471   \n",
       "505058                            62.837                23051.352   \n",
       "\n",
       "        Whole_System_Energy_Consumed  External_Air_Temperature  \\\n",
       "0                              0.008                      9.38   \n",
       "1                              0.078                      7.08   \n",
       "2                              0.212                      6.83   \n",
       "3                              0.019                      9.33   \n",
       "4                              0.967                      9.21   \n",
       "...                              ...                       ...   \n",
       "505054                     14989.282                     12.44   \n",
       "505055                     13830.005                     12.17   \n",
       "505056                      5775.602                     12.44   \n",
       "505057                     19247.887                     12.44   \n",
       "505058                      6703.286                     12.44   \n",
       "\n",
       "        Heat_Pump_Heating_Flow_Temperature  Heat_Pump_Return_Temperature  ...  \\\n",
       "0                                    23.14                         23.35  ...   \n",
       "1                                    25.04                         24.04  ...   \n",
       "2                                    25.43                         24.23  ...   \n",
       "3                                    22.54                         22.80  ...   \n",
       "4                                    35.27                         30.93  ...   \n",
       "...                                    ...                           ...  ...   \n",
       "505054                               18.87                         50.46  ...   \n",
       "505055                               16.70                         16.53  ...   \n",
       "505056                               24.80                         26.31  ...   \n",
       "505057                               14.82                         14.85  ...   \n",
       "505058                               24.70                         24.82  ...   \n",
       "\n",
       "        Postcode      Time  Temperature  FeelsLike  Humidity   Dew  \\\n",
       "0           EH22  00:00:00         8.90       6.10     79.75   5.6   \n",
       "1           NE15  00:00:00         7.00       4.30     81.71   4.1   \n",
       "2           NE15  00:30:00         6.95       4.05     81.93   4.1   \n",
       "3           EH22  00:30:00         8.85       6.30     79.94   5.6   \n",
       "4           EH22  01:00:00         8.80       6.50     80.13   5.6   \n",
       "...          ...       ...          ...        ...       ...   ...   \n",
       "505054      EH15  00:00:00        12.80      12.80     90.62  11.3   \n",
       "505055       PH7  00:00:00        13.20      13.20     86.43  11.0   \n",
       "505056       EH4  00:00:00        12.90      12.90     90.75  11.4   \n",
       "505057       EH9  00:00:00        13.00      13.00     93.04  11.9   \n",
       "505058      EH16  00:00:00        12.80      12.80     90.57  11.3   \n",
       "\n",
       "       Precipitation  SolarRadiation  SolarEnergy Windspeed  \n",
       "0              0.154             0.0          0.0     19.30  \n",
       "1              0.170             0.0          0.0     14.30  \n",
       "2              0.085             0.0          0.0     15.85  \n",
       "3              0.077             0.0          0.0     17.00  \n",
       "4              0.000             0.0          0.0     14.70  \n",
       "...              ...             ...          ...       ...  \n",
       "505054         0.333             0.0          0.0     16.00  \n",
       "505055         0.004             0.0          0.0     17.00  \n",
       "505056         0.378             0.0          0.0     15.00  \n",
       "505057         0.024             0.0          0.0     24.30  \n",
       "505058         0.360             0.0          0.0     15.50  \n",
       "\n",
       "[505059 rows x 29 columns]"
      ],
      "text/html": [
       "<div>\n",
       "<style scoped>\n",
       "    .dataframe tbody tr th:only-of-type {\n",
       "        vertical-align: middle;\n",
       "    }\n",
       "\n",
       "    .dataframe tbody tr th {\n",
       "        vertical-align: top;\n",
       "    }\n",
       "\n",
       "    .dataframe thead th {\n",
       "        text-align: right;\n",
       "    }\n",
       "</style>\n",
       "<table border=\"1\" class=\"dataframe\">\n",
       "  <thead>\n",
       "    <tr style=\"text-align: right;\">\n",
       "      <th></th>\n",
       "      <th>Property_ID</th>\n",
       "      <th>Timestamp</th>\n",
       "      <th>half-hour</th>\n",
       "      <th>Boiler_Energy_Output</th>\n",
       "      <th>Circulation_Pump_Energy_Consumed</th>\n",
       "      <th>Heat_Pump_Energy_Output</th>\n",
       "      <th>Whole_System_Energy_Consumed</th>\n",
       "      <th>External_Air_Temperature</th>\n",
       "      <th>Heat_Pump_Heating_Flow_Temperature</th>\n",
       "      <th>Heat_Pump_Return_Temperature</th>\n",
       "      <th>...</th>\n",
       "      <th>Postcode</th>\n",
       "      <th>Time</th>\n",
       "      <th>Temperature</th>\n",
       "      <th>FeelsLike</th>\n",
       "      <th>Humidity</th>\n",
       "      <th>Dew</th>\n",
       "      <th>Precipitation</th>\n",
       "      <th>SolarRadiation</th>\n",
       "      <th>SolarEnergy</th>\n",
       "      <th>Windspeed</th>\n",
       "    </tr>\n",
       "  </thead>\n",
       "  <tbody>\n",
       "    <tr>\n",
       "      <th>0</th>\n",
       "      <td>EOH0279</td>\n",
       "      <td>2020-10-26 00:00:00</td>\n",
       "      <td>00:00:00</td>\n",
       "      <td>NaN</td>\n",
       "      <td>0.000</td>\n",
       "      <td>0.000</td>\n",
       "      <td>0.008</td>\n",
       "      <td>9.38</td>\n",
       "      <td>23.14</td>\n",
       "      <td>23.35</td>\n",
       "      <td>...</td>\n",
       "      <td>EH22</td>\n",
       "      <td>00:00:00</td>\n",
       "      <td>8.90</td>\n",
       "      <td>6.10</td>\n",
       "      <td>79.75</td>\n",
       "      <td>5.6</td>\n",
       "      <td>0.154</td>\n",
       "      <td>0.0</td>\n",
       "      <td>0.0</td>\n",
       "      <td>19.30</td>\n",
       "    </tr>\n",
       "    <tr>\n",
       "      <th>1</th>\n",
       "      <td>EOH1703</td>\n",
       "      <td>2020-10-26 00:00:00</td>\n",
       "      <td>00:00:00</td>\n",
       "      <td>NaN</td>\n",
       "      <td>0.013</td>\n",
       "      <td>0.242</td>\n",
       "      <td>0.078</td>\n",
       "      <td>7.08</td>\n",
       "      <td>25.04</td>\n",
       "      <td>24.04</td>\n",
       "      <td>...</td>\n",
       "      <td>NE15</td>\n",
       "      <td>00:00:00</td>\n",
       "      <td>7.00</td>\n",
       "      <td>4.30</td>\n",
       "      <td>81.71</td>\n",
       "      <td>4.1</td>\n",
       "      <td>0.170</td>\n",
       "      <td>0.0</td>\n",
       "      <td>0.0</td>\n",
       "      <td>14.30</td>\n",
       "    </tr>\n",
       "    <tr>\n",
       "      <th>2</th>\n",
       "      <td>EOH1703</td>\n",
       "      <td>2020-10-26 00:30:00</td>\n",
       "      <td>00:30:00</td>\n",
       "      <td>NaN</td>\n",
       "      <td>0.029</td>\n",
       "      <td>0.622</td>\n",
       "      <td>0.212</td>\n",
       "      <td>6.83</td>\n",
       "      <td>25.43</td>\n",
       "      <td>24.23</td>\n",
       "      <td>...</td>\n",
       "      <td>NE15</td>\n",
       "      <td>00:30:00</td>\n",
       "      <td>6.95</td>\n",
       "      <td>4.05</td>\n",
       "      <td>81.93</td>\n",
       "      <td>4.1</td>\n",
       "      <td>0.085</td>\n",
       "      <td>0.0</td>\n",
       "      <td>0.0</td>\n",
       "      <td>15.85</td>\n",
       "    </tr>\n",
       "    <tr>\n",
       "      <th>3</th>\n",
       "      <td>EOH0279</td>\n",
       "      <td>2020-10-26 00:30:00</td>\n",
       "      <td>00:30:00</td>\n",
       "      <td>NaN</td>\n",
       "      <td>0.000</td>\n",
       "      <td>0.000</td>\n",
       "      <td>0.019</td>\n",
       "      <td>9.33</td>\n",
       "      <td>22.54</td>\n",
       "      <td>22.80</td>\n",
       "      <td>...</td>\n",
       "      <td>EH22</td>\n",
       "      <td>00:30:00</td>\n",
       "      <td>8.85</td>\n",
       "      <td>6.30</td>\n",
       "      <td>79.94</td>\n",
       "      <td>5.6</td>\n",
       "      <td>0.077</td>\n",
       "      <td>0.0</td>\n",
       "      <td>0.0</td>\n",
       "      <td>17.00</td>\n",
       "    </tr>\n",
       "    <tr>\n",
       "      <th>4</th>\n",
       "      <td>EOH0279</td>\n",
       "      <td>2020-10-26 01:00:00</td>\n",
       "      <td>01:00:00</td>\n",
       "      <td>NaN</td>\n",
       "      <td>0.000</td>\n",
       "      <td>2.730</td>\n",
       "      <td>0.967</td>\n",
       "      <td>9.21</td>\n",
       "      <td>35.27</td>\n",
       "      <td>30.93</td>\n",
       "      <td>...</td>\n",
       "      <td>EH22</td>\n",
       "      <td>01:00:00</td>\n",
       "      <td>8.80</td>\n",
       "      <td>6.50</td>\n",
       "      <td>80.13</td>\n",
       "      <td>5.6</td>\n",
       "      <td>0.000</td>\n",
       "      <td>0.0</td>\n",
       "      <td>0.0</td>\n",
       "      <td>14.70</td>\n",
       "    </tr>\n",
       "    <tr>\n",
       "      <th>...</th>\n",
       "      <td>...</td>\n",
       "      <td>...</td>\n",
       "      <td>...</td>\n",
       "      <td>...</td>\n",
       "      <td>...</td>\n",
       "      <td>...</td>\n",
       "      <td>...</td>\n",
       "      <td>...</td>\n",
       "      <td>...</td>\n",
       "      <td>...</td>\n",
       "      <td>...</td>\n",
       "      <td>...</td>\n",
       "      <td>...</td>\n",
       "      <td>...</td>\n",
       "      <td>...</td>\n",
       "      <td>...</td>\n",
       "      <td>...</td>\n",
       "      <td>...</td>\n",
       "      <td>...</td>\n",
       "      <td>...</td>\n",
       "      <td>...</td>\n",
       "    </tr>\n",
       "    <tr>\n",
       "      <th>505054</th>\n",
       "      <td>EOH3154</td>\n",
       "      <td>2023-09-29 00:00:00</td>\n",
       "      <td>00:00:00</td>\n",
       "      <td>NaN</td>\n",
       "      <td>0.000</td>\n",
       "      <td>44801.768</td>\n",
       "      <td>14989.282</td>\n",
       "      <td>12.44</td>\n",
       "      <td>18.87</td>\n",
       "      <td>50.46</td>\n",
       "      <td>...</td>\n",
       "      <td>EH15</td>\n",
       "      <td>00:00:00</td>\n",
       "      <td>12.80</td>\n",
       "      <td>12.80</td>\n",
       "      <td>90.62</td>\n",
       "      <td>11.3</td>\n",
       "      <td>0.333</td>\n",
       "      <td>0.0</td>\n",
       "      <td>0.0</td>\n",
       "      <td>16.00</td>\n",
       "    </tr>\n",
       "    <tr>\n",
       "      <th>505055</th>\n",
       "      <td>EOH1637</td>\n",
       "      <td>2023-09-29 00:00:00</td>\n",
       "      <td>00:00:00</td>\n",
       "      <td>NaN</td>\n",
       "      <td>203.311</td>\n",
       "      <td>43996.381</td>\n",
       "      <td>13830.005</td>\n",
       "      <td>12.17</td>\n",
       "      <td>16.70</td>\n",
       "      <td>16.53</td>\n",
       "      <td>...</td>\n",
       "      <td>PH7</td>\n",
       "      <td>00:00:00</td>\n",
       "      <td>13.20</td>\n",
       "      <td>13.20</td>\n",
       "      <td>86.43</td>\n",
       "      <td>11.0</td>\n",
       "      <td>0.004</td>\n",
       "      <td>0.0</td>\n",
       "      <td>0.0</td>\n",
       "      <td>17.00</td>\n",
       "    </tr>\n",
       "    <tr>\n",
       "      <th>505056</th>\n",
       "      <td>EOH2329</td>\n",
       "      <td>2023-09-29 00:00:00</td>\n",
       "      <td>00:00:00</td>\n",
       "      <td>NaN</td>\n",
       "      <td>31.139</td>\n",
       "      <td>14128.100</td>\n",
       "      <td>5775.602</td>\n",
       "      <td>12.44</td>\n",
       "      <td>24.80</td>\n",
       "      <td>26.31</td>\n",
       "      <td>...</td>\n",
       "      <td>EH4</td>\n",
       "      <td>00:00:00</td>\n",
       "      <td>12.90</td>\n",
       "      <td>12.90</td>\n",
       "      <td>90.75</td>\n",
       "      <td>11.4</td>\n",
       "      <td>0.378</td>\n",
       "      <td>0.0</td>\n",
       "      <td>0.0</td>\n",
       "      <td>15.00</td>\n",
       "    </tr>\n",
       "    <tr>\n",
       "      <th>505057</th>\n",
       "      <td>EOH2675</td>\n",
       "      <td>2023-09-29 00:00:00</td>\n",
       "      <td>00:00:00</td>\n",
       "      <td>NaN</td>\n",
       "      <td>212.928</td>\n",
       "      <td>59675.471</td>\n",
       "      <td>19247.887</td>\n",
       "      <td>12.44</td>\n",
       "      <td>14.82</td>\n",
       "      <td>14.85</td>\n",
       "      <td>...</td>\n",
       "      <td>EH9</td>\n",
       "      <td>00:00:00</td>\n",
       "      <td>13.00</td>\n",
       "      <td>13.00</td>\n",
       "      <td>93.04</td>\n",
       "      <td>11.9</td>\n",
       "      <td>0.024</td>\n",
       "      <td>0.0</td>\n",
       "      <td>0.0</td>\n",
       "      <td>24.30</td>\n",
       "    </tr>\n",
       "    <tr>\n",
       "      <th>505058</th>\n",
       "      <td>EOH3196</td>\n",
       "      <td>2023-09-29 00:00:00</td>\n",
       "      <td>00:00:00</td>\n",
       "      <td>NaN</td>\n",
       "      <td>62.837</td>\n",
       "      <td>23051.352</td>\n",
       "      <td>6703.286</td>\n",
       "      <td>12.44</td>\n",
       "      <td>24.70</td>\n",
       "      <td>24.82</td>\n",
       "      <td>...</td>\n",
       "      <td>EH16</td>\n",
       "      <td>00:00:00</td>\n",
       "      <td>12.80</td>\n",
       "      <td>12.80</td>\n",
       "      <td>90.57</td>\n",
       "      <td>11.3</td>\n",
       "      <td>0.360</td>\n",
       "      <td>0.0</td>\n",
       "      <td>0.0</td>\n",
       "      <td>15.50</td>\n",
       "    </tr>\n",
       "  </tbody>\n",
       "</table>\n",
       "<p>505059 rows × 29 columns</p>\n",
       "</div>"
      ]
     },
     "execution_count": 55,
     "metadata": {},
     "output_type": "execute_result"
    }
   ],
   "execution_count": 55
  },
  {
   "metadata": {
    "ExecuteTime": {
     "end_time": "2025-07-18T11:35:10.243546Z",
     "start_time": "2025-07-18T11:35:10.158932Z"
    }
   },
   "cell_type": "code",
   "source": [
    "id_use = \"EOH0279\"\n",
    "#id_use = \"EOH1703\"\n",
    "\n",
    "df_single = df_train_detached[df_train_detached[\"Property_ID\"] == id_use].copy()\n",
    "\n",
    "#re-adjust Heat Pump Diff and add temp differences\n",
    "df_single[\"Heat_Pump_Energy_Output_Diff\"] = df_single[\"Heat_Pump_Energy_Output\"].diff()\n",
    "df_single[\"Internal_Temperature_Diff\"] = df_single[\"Internal_Air_Temperature\"].diff()\n",
    "df_single[\"Internal_Ambient_Temperature_Diff\"] = \\\n",
    "    (df_single[\"External_Air_Temperature\"] - \n",
    "     df_single[\"Internal_Air_Temperature\"])\n",
    "     \n",
    "\n",
    "\n",
    "# 1. Drop columns with almost all missing data (e.g., more than 90% missing)\n",
    "threshold = 0.90 * len(df_single)\n",
    "df_single_cleaned = df_single.dropna(axis=1, thresh=threshold)\n",
    "print(\"Columns dropped due to high missing values:\")\n",
    "print(df_single.columns.difference(df_single_cleaned.columns).tolist())\n",
    "\n",
    "df_single = df_single_cleaned\n",
    "\n",
    "print(\"\\nColumns remaining after dropping highly missing columns:\")\n",
    "print(df_single.columns.tolist())\n",
    "\n",
    "# 2. Handle missing values: Interpolate if missing for up to 2 hours (4 half-hour intervals), else drop rows\n",
    "df_single = df_single.set_index('Timestamp')\n",
    "df_single = df_single.sort_index()\n",
    "\n",
    "# Apply interpolation with a limit of 4 (for 2 hours of half-hourly data)\n",
    "numeric_cols = df_single.select_dtypes(include=['number']).columns\n",
    "df_single_numeric_interpolated = df_single[numeric_cols].interpolate(method='time', limit=4, limit_direction='both')\n",
    "\n",
    "df_single_interpolated = df_single.copy() \n",
    "df_single_interpolated[numeric_cols] = df_single_numeric_interpolated\n",
    "\n",
    "# After interpolation, drop rows that still contain NaN values (meaning they were missing for > 2 hours)\n",
    "initial_rows = len(df_single_interpolated)\n",
    "df_single_processed = df_single_interpolated.dropna()\n",
    "rows_dropped_after_interpolation = initial_rows - len(df_single_processed)\n",
    "\n",
    "print(f\"\\nNumber of rows dropped after handling NA values (missing for > 2 hours): {rows_dropped_after_interpolation}\")\n",
    "\n",
    "\n",
    "# 3. Split 80% to train and 20% to validate (based on time)\n",
    "train_size = 0.8\n",
    "split_point = int(len(df_single_processed) * train_size)\n",
    "\n",
    "train_df = df_single_processed.iloc[:split_point].copy()\n",
    "val_df = df_single_processed.iloc[split_point:].copy()\n",
    "\n",
    "print(f\"\\nTrain data shape: {train_df.shape}\")\n",
    "print(f\"Validation data shape: {val_df.shape}\")\n",
    "print(f\"Train data date range: {train_df.index.min()} to {train_df.index\n",
    "      .max()}\")\n",
    "print(f\"Validation data date range: {val_df.index.min()} to {val_df.index\n",
    ".max()}\")\n",
    "\n",
    "\n",
    "# 4. Split the data between night and day\n",
    "# Assuming night is from 10 PM (22:00) to 6 AM (06:00) AND SolarRadiation is 0.\n",
    "\n",
    "# Extract hour from Timestamp\n",
    "df_train_single = train_df.copy()\n",
    "df_train_single['Hour'] = train_df.index.hour\n",
    "\n",
    "# Define night and day conditions\n",
    "# Condition 1: Time is between 10 PM and 6 AM\n",
    "night_time_condition = (df_train_single['Hour'] >= 22) | \\\n",
    "                       (df_train_single['Hour'] < 6)\n",
    "\n",
    "# Condition 2: Solar Irradiation is 0 (assuming 'SolarRadiation' is the correct column name)\n",
    "if 'SolarRadiation' in df_train_single.columns:\n",
    "    night_solar_condition = (df_train_single['SolarRadiation'] == 0)\n",
    "    df_train_single['is_night'] = night_time_condition & night_solar_condition\n",
    "else:\n",
    "    print(\"\\nWarning: 'SolarRadiation' column not found after preprocessing. Cannot use it for night/day split.\")\n",
    "    df_train_single['is_night'] = night_time_condition # Fallback to just time condition\n",
    "\n",
    "day_df = df_train_single[df_train_single['is_night'] == False]\n",
    "night_df = df_train_single[df_train_single['is_night'] == True]\n",
    "\n",
    "print(f\"\\nDay data shape: {day_df.shape}\")\n",
    "print(f\"Night data shape: {night_df.shape}\")\n",
    "\n",
    "print(\"\\nExample of Day data head:\")\n",
    "print(day_df.head())\n",
    "print(\"\\nExample of Night data head:\")\n",
    "print(night_df.head())"
   ],
   "id": "d6b64b51928fedf3",
   "outputs": [
    {
     "name": "stdout",
     "output_type": "stream",
     "text": [
      "Columns dropped due to high missing values:\n",
      "['Back-up_Heater_Energy_Consumed', 'Boiler_Energy_Output', 'Brine_Flow_Temperature', 'Brine_Return_Temperature']\n",
      "\n",
      "Columns remaining after dropping highly missing columns:\n",
      "['Property_ID', 'Timestamp', 'half-hour', 'Circulation_Pump_Energy_Consumed', 'Heat_Pump_Energy_Output', 'Whole_System_Energy_Consumed', 'External_Air_Temperature', 'Heat_Pump_Heating_Flow_Temperature', 'Heat_Pump_Return_Temperature', 'Internal_Air_Temperature', 'Hot_Water_Flow_Temperature', 'Immersion_Heater_Energy_Consumed', 'Date', 'has_data', 'Heat_Pump_Energy_Output_Diff', 'Postcode', 'Time', 'Temperature', 'FeelsLike', 'Humidity', 'Dew', 'Precipitation', 'SolarRadiation', 'SolarEnergy', 'Windspeed', 'Internal_Temperature_Diff', 'Internal_Ambient_Temperature_Diff']\n",
      "\n",
      "Number of rows dropped after handling NA values (missing for > 2 hours): 8\n",
      "\n",
      "Train data shape: (41010, 26)\n",
      "Validation data shape: (10253, 26)\n",
      "Train data date range: 2020-10-26 00:00:00 to 2023-02-27 09:30:00\n",
      "Validation data date range: 2023-02-27 10:00:00 to 2023-09-29 00:00:00\n",
      "\n",
      "Day data shape: (28479, 28)\n",
      "Night data shape: (12531, 28)\n",
      "\n",
      "Example of Day data head:\n",
      "                    Property_ID half-hour  Circulation_Pump_Energy_Consumed  \\\n",
      "Timestamp                                                                     \n",
      "2020-10-26 06:00:00     EOH0279  06:00:00                             0.004   \n",
      "2020-10-26 06:30:00     EOH0279  06:30:00                             0.013   \n",
      "2020-10-26 07:00:00     EOH0279  07:00:00                             0.022   \n",
      "2020-10-26 07:30:00     EOH0279  07:30:00                             0.032   \n",
      "2020-10-26 08:00:00     EOH0279  08:00:00                             0.041   \n",
      "\n",
      "                     Heat_Pump_Energy_Output  Whole_System_Energy_Consumed  \\\n",
      "Timestamp                                                                    \n",
      "2020-10-26 06:00:00                    5.411                         1.982   \n",
      "2020-10-26 06:30:00                    9.285                         2.890   \n",
      "2020-10-26 07:00:00                   12.588                         3.654   \n",
      "2020-10-26 07:30:00                   15.040                         4.213   \n",
      "2020-10-26 08:00:00                   16.525                         4.584   \n",
      "\n",
      "                     External_Air_Temperature  \\\n",
      "Timestamp                                       \n",
      "2020-10-26 06:00:00                      8.27   \n",
      "2020-10-26 06:30:00                      8.42   \n",
      "2020-10-26 07:00:00                      8.57   \n",
      "2020-10-26 07:30:00                      8.72   \n",
      "2020-10-26 08:00:00                      8.87   \n",
      "\n",
      "                     Heat_Pump_Heating_Flow_Temperature  \\\n",
      "Timestamp                                                 \n",
      "2020-10-26 06:00:00                               21.63   \n",
      "2020-10-26 06:30:00                               30.24   \n",
      "2020-10-26 07:00:00                               35.89   \n",
      "2020-10-26 07:30:00                               34.08   \n",
      "2020-10-26 08:00:00                               30.97   \n",
      "\n",
      "                     Heat_Pump_Return_Temperature  Internal_Air_Temperature  \\\n",
      "Timestamp                                                                     \n",
      "2020-10-26 06:00:00                         20.90                     15.93   \n",
      "2020-10-26 06:30:00                         24.31                     15.92   \n",
      "2020-10-26 07:00:00                         31.12                     16.30   \n",
      "2020-10-26 07:30:00                         30.52                     16.81   \n",
      "2020-10-26 08:00:00                         28.75                     17.26   \n",
      "\n",
      "                     Hot_Water_Flow_Temperature  ...  Humidity  Dew  \\\n",
      "Timestamp                                        ...                  \n",
      "2020-10-26 06:00:00                       22.68  ...    87.670  6.0   \n",
      "2020-10-26 06:30:00                       22.68  ...    88.035  6.2   \n",
      "2020-10-26 07:00:00                       22.68  ...    88.400  6.4   \n",
      "2020-10-26 07:30:00                       22.68  ...    88.830  6.6   \n",
      "2020-10-26 08:00:00                       22.68  ...    89.260  6.8   \n",
      "\n",
      "                     Precipitation  SolarRadiation SolarEnergy Windspeed  \\\n",
      "Timestamp                                                                  \n",
      "2020-10-26 06:00:00         0.5470             0.0        0.00      13.6   \n",
      "2020-10-26 06:30:00         0.2735             2.5        0.00      14.6   \n",
      "2020-10-26 07:00:00         0.0000             5.0        0.00      15.6   \n",
      "2020-10-26 07:30:00         0.0000            12.5        0.05      15.0   \n",
      "2020-10-26 08:00:00         0.0000            20.0        0.10      14.4   \n",
      "\n",
      "                     Internal_Temperature_Diff  \\\n",
      "Timestamp                                        \n",
      "2020-10-26 06:00:00                      -0.07   \n",
      "2020-10-26 06:30:00                      -0.01   \n",
      "2020-10-26 07:00:00                       0.38   \n",
      "2020-10-26 07:30:00                       0.51   \n",
      "2020-10-26 08:00:00                       0.45   \n",
      "\n",
      "                     Internal_Ambient_Temperature_Diff  Hour  is_night  \n",
      "Timestamp                                                               \n",
      "2020-10-26 06:00:00                              -7.66     6     False  \n",
      "2020-10-26 06:30:00                              -7.50     6     False  \n",
      "2020-10-26 07:00:00                              -7.73     7     False  \n",
      "2020-10-26 07:30:00                              -8.09     7     False  \n",
      "2020-10-26 08:00:00                              -8.39     8     False  \n",
      "\n",
      "[5 rows x 28 columns]\n",
      "\n",
      "Example of Night data head:\n",
      "                    Property_ID half-hour  Circulation_Pump_Energy_Consumed  \\\n",
      "Timestamp                                                                     \n",
      "2020-10-26 00:00:00     EOH0279  00:00:00                               0.0   \n",
      "2020-10-26 00:30:00     EOH0279  00:30:00                               0.0   \n",
      "2020-10-26 01:00:00     EOH0279  01:00:00                               0.0   \n",
      "2020-10-26 01:30:00     EOH0279  01:30:00                               0.0   \n",
      "2020-10-26 02:00:00     EOH0279  02:00:00                               0.0   \n",
      "\n",
      "                     Heat_Pump_Energy_Output  Whole_System_Energy_Consumed  \\\n",
      "Timestamp                                                                    \n",
      "2020-10-26 00:00:00                    0.000                         0.008   \n",
      "2020-10-26 00:30:00                    0.000                         0.019   \n",
      "2020-10-26 01:00:00                    2.730                         0.967   \n",
      "2020-10-26 01:30:00                    4.312                         1.647   \n",
      "2020-10-26 02:00:00                    4.312                         1.657   \n",
      "\n",
      "                     External_Air_Temperature  \\\n",
      "Timestamp                                       \n",
      "2020-10-26 00:00:00                      9.38   \n",
      "2020-10-26 00:30:00                      9.33   \n",
      "2020-10-26 01:00:00                      9.21   \n",
      "2020-10-26 01:30:00                      9.01   \n",
      "2020-10-26 02:00:00                      8.88   \n",
      "\n",
      "                     Heat_Pump_Heating_Flow_Temperature  \\\n",
      "Timestamp                                                 \n",
      "2020-10-26 00:00:00                               23.14   \n",
      "2020-10-26 00:30:00                               22.54   \n",
      "2020-10-26 01:00:00                               35.27   \n",
      "2020-10-26 01:30:00                               52.94   \n",
      "2020-10-26 02:00:00                               41.04   \n",
      "\n",
      "                     Heat_Pump_Return_Temperature  Internal_Air_Temperature  \\\n",
      "Timestamp                                                                     \n",
      "2020-10-26 00:00:00                         23.35                     17.21   \n",
      "2020-10-26 00:30:00                         22.80                     17.02   \n",
      "2020-10-26 01:00:00                         30.93                     16.87   \n",
      "2020-10-26 01:30:00                         46.32                     16.76   \n",
      "2020-10-26 02:00:00                         42.52                     16.68   \n",
      "\n",
      "                     Hot_Water_Flow_Temperature  ...  Humidity  Dew  \\\n",
      "Timestamp                                        ...                  \n",
      "2020-10-26 00:00:00                       22.68  ...    79.750  5.6   \n",
      "2020-10-26 00:30:00                       22.68  ...    79.940  5.6   \n",
      "2020-10-26 01:00:00                       22.68  ...    80.130  5.6   \n",
      "2020-10-26 01:30:00                       22.68  ...    82.785  5.9   \n",
      "2020-10-26 02:00:00                       22.68  ...    85.440  6.2   \n",
      "\n",
      "                     Precipitation  SolarRadiation SolarEnergy Windspeed  \\\n",
      "Timestamp                                                                  \n",
      "2020-10-26 00:00:00          0.154             0.0         0.0     19.30   \n",
      "2020-10-26 00:30:00          0.077             0.0         0.0     17.00   \n",
      "2020-10-26 01:00:00          0.000             0.0         0.0     14.70   \n",
      "2020-10-26 01:30:00          0.000             0.0         0.0     15.75   \n",
      "2020-10-26 02:00:00          0.000             0.0         0.0     16.80   \n",
      "\n",
      "                     Internal_Temperature_Diff  \\\n",
      "Timestamp                                        \n",
      "2020-10-26 00:00:00                      -0.19   \n",
      "2020-10-26 00:30:00                      -0.19   \n",
      "2020-10-26 01:00:00                      -0.15   \n",
      "2020-10-26 01:30:00                      -0.11   \n",
      "2020-10-26 02:00:00                      -0.08   \n",
      "\n",
      "                     Internal_Ambient_Temperature_Diff  Hour  is_night  \n",
      "Timestamp                                                               \n",
      "2020-10-26 00:00:00                              -7.83     0      True  \n",
      "2020-10-26 00:30:00                              -7.69     0      True  \n",
      "2020-10-26 01:00:00                              -7.66     1      True  \n",
      "2020-10-26 01:30:00                              -7.75     1      True  \n",
      "2020-10-26 02:00:00                              -7.80     2      True  \n",
      "\n",
      "[5 rows x 28 columns]\n"
     ]
    }
   ],
   "execution_count": 56
  },
  {
   "metadata": {
    "ExecuteTime": {
     "end_time": "2025-07-18T11:35:10.273623Z",
     "start_time": "2025-07-18T11:35:10.263924Z"
    }
   },
   "cell_type": "code",
   "source": [
    "# Less than 18 C\n",
    "df_heating_single = df_single_processed.copy()\n",
    "#df_heating_single = [df_single_processed[\"External_Air_Temperature\"]<=18]\n",
    "\n",
    "\n",
    "#time range\n",
    "t_start = pd.to_datetime(\"2022 01 01 00:00:00\")\n",
    "t_end = pd.to_datetime(\"2022 12 31 23:59:00\")\n",
    "df_heating_annual = df_heating_single[df_heating_single.index>=t_start]\n",
    "df_heating_annual = df_heating_annual[df_heating_annual.index<=t_end]\n",
    "\n",
    "t_step = 30 # minutes\n",
    "delta_t = t_step/60\n",
    "\n",
    "T_a = (df_heating_annual[\"External_Air_Temperature\"].iloc[:-1].reset_index\n",
    "       (drop=True).to_numpy()) \n",
    "T_i = (df_heating_annual[\"Internal_Air_Temperature\"].iloc[:-1].reset_index\n",
    "       (drop=True).to_numpy()) \n",
    "delta_T_a = (df_heating_annual[\"Internal_Ambient_Temperature_Diff\"].iloc[:-1]\n",
    "             .reset_index(drop=True).to_numpy()) \n",
    "delta_T_i = (df_heating_annual[\"Internal_Temperature_Diff\"].iloc[1:]\n",
    "             .reset_index(drop=True).to_numpy() / delta_t) \n",
    "q_hp = (df_heating_annual[\"Heat_Pump_Energy_Output_Diff\"].iloc[:-1]\n",
    "        .reset_index(drop=True).to_numpy()) \n",
    "q_solar = (df_heating_annual[\"SolarRadiation\"].iloc[:-1].reset_index\n",
    "           (drop=True).to_numpy()) \n",
    "v_wind = (df_heating_annual[\"Windspeed\"].iloc[:-1].reset_index(drop=True)\n",
    "          .to_numpy()) \n",
    "\n"
   ],
   "id": "1990c0f5b7d08c35",
   "outputs": [],
   "execution_count": 57
  },
  {
   "metadata": {
    "ExecuteTime": {
     "end_time": "2025-07-18T11:35:10.286648Z",
     "start_time": "2025-07-18T11:35:10.277367Z"
    }
   },
   "cell_type": "code",
   "source": [
    "# Less than 18 C\n",
    "df_heating_single = df_single_processed.copy()\n",
    "#df_heating_single = [df_single_processed[\"External_Air_Temperature\"]<=18]\n",
    "\n",
    "\n",
    "#time range\n",
    "t_start = pd.to_datetime(\"2022 01 01 00:00:00\")\n",
    "t_mid_end = pd.to_datetime(\"2022 5 30 23:59:59\")\n",
    "t_mid_start = pd.to_datetime(\"2022 08 31 00:00:00\")\n",
    "t_end = pd.to_datetime(\"2022 12 31 23:59:59\")\n",
    "df_heating_annual = df_heating_single[df_heating_single.index>=t_start]\n",
    "df_heating_annual = df_heating_annual[df_heating_annual.index<=t_end]\n",
    "df_heating_annual = df_heating_annual[\n",
    "    (df_heating_annual.index<=t_mid_end) | (df_heating_annual\n",
    "                                              .index>=t_mid_start)]\n",
    "t_step = 30 # minutes\n",
    "delta_t = t_step/60\n",
    "\n",
    "T_a = (df_heating_annual[\"External_Air_Temperature\"].iloc[:-1].reset_index\n",
    "       (drop=True).to_numpy()) \n",
    "T_i = (df_heating_annual[\"Internal_Air_Temperature\"].iloc[:-1].reset_index\n",
    "       (drop=True).to_numpy()) \n",
    "delta_T_a = (df_heating_annual[\"Internal_Ambient_Temperature_Diff\"].iloc[:-1]\n",
    "             .reset_index(drop=True).to_numpy()) \n",
    "delta_T_i = (df_heating_annual[\"Internal_Temperature_Diff\"].iloc[1:]\n",
    "             .reset_index(drop=True).to_numpy() / delta_t) \n",
    "q_hp = (df_heating_annual[\"Heat_Pump_Energy_Output_Diff\"].iloc[:-1]\n",
    "        .reset_index(drop=True).to_numpy()) \n",
    "q_solar = (df_heating_annual[\"SolarRadiation\"].iloc[:-1].reset_index\n",
    "           (drop=True).to_numpy()) \n",
    "v_wind = (df_heating_annual[\"Windspeed\"].iloc[:-1].reset_index(drop=True)\n",
    "          .to_numpy()) "
   ],
   "id": "f0ac311bc937e1e3",
   "outputs": [],
   "execution_count": 58
  },
  {
   "metadata": {
    "ExecuteTime": {
     "end_time": "2025-07-18T11:35:10.432467Z",
     "start_time": "2025-07-18T11:35:10.431264Z"
    }
   },
   "cell_type": "code",
   "source": "",
   "id": "d827bb35d5a7a2a",
   "outputs": [],
   "execution_count": null
  },
  {
   "metadata": {
    "ExecuteTime": {
     "end_time": "2025-07-18T11:35:10.565627Z",
     "start_time": "2025-07-18T11:35:10.557331Z"
    }
   },
   "cell_type": "code",
   "source": [
    "# Less than 18 C\n",
    "df_heating_single = df_single_processed.copy()\n",
    "\n",
    "# Time range\n",
    "t_start = pd.to_datetime(\"2022-6-01 00:00:00\")\n",
    "t_end = pd.to_datetime(\"2022-08-30 23:59:00\")\n",
    "df_DHW = df_heating_single[\n",
    "    (df_heating_single.index >= t_start) & (df_heating_single.index <= t_end)\n",
    "].copy()\n",
    "\n",
    "df_DHW.drop(\"Property_ID\", axis=1, inplace=True)\n",
    "df_DHW.drop(\"half-hour\", axis=1, inplace=True)\n",
    "df_DHW.drop(\"Date\", axis=1, inplace=True)\n",
    "df_DHW.drop(\"has_data\", axis=1, inplace=True)\n",
    "\n",
    "i = 24\n",
    "\n",
    "df_numeric = df_DHW.select_dtypes(include='number')\n",
    "\n",
    "# Resample and compute mean\n",
    "df_resampled = df_numeric.resample(f'{i}h').mean()\n",
    "\n",
    "df_DHW_only = df_resampled[df_resampled[\"Heat_Pump_Energy_Output_Diff\"] <=0.15]\n",
    "\n",
    "DHW_sum = []\n",
    "DHW_sum = df_DHW_only[\"Heat_Pump_Energy_Output_Diff\"].sum()*24\n",
    "\n",
    "df_spc_only = df_resampled[df_resampled[\"Heat_Pump_Energy_Output_Diff\"] >0.15]\n",
    "SPC_sum = df_spc_only[\"Heat_Pump_Energy_Output_Diff\"].sum()*24"
   ],
   "id": "4f6110f0443ae927",
   "outputs": [],
   "execution_count": 59
  },
  {
   "metadata": {
    "ExecuteTime": {
     "end_time": "2025-07-18T11:35:10.699993Z",
     "start_time": "2025-07-18T11:35:10.697957Z"
    }
   },
   "cell_type": "code",
   "source": [
    "#Solves but can't constrain q_hp\n",
    "'''\n",
    "N = len(delta_T_i)\n",
    "\n",
    "# Total heating energy (space conditioning) minus DHW\n",
    "Q_sc = np.sum(q_hp) - 4075  # in kWh\n",
    "\n",
    "# Known parameter\n",
    "C = 7\n",
    "\n",
    "phi_z = 2\n",
    "phi_w = 2\n",
    "phi = 10\n",
    "# CVXPY variables\n",
    "a = cp.Variable(pos=True)  #  a = 1/(R_a*C)\n",
    "w_s = cp.Variable(nonneg=True)\n",
    "w_w = cp.Variable(nonneg=True)\n",
    "w   = cp.Variable()\n",
    "e   = cp.Variable()\n",
    "#z   = cp.Variable(N, nonneg=True)\n",
    "q_hat = cp.Variable(N)\n",
    "\n",
    "# Constraint: temperature dynamics match model\n",
    "#model_rhs = (delta_T_a * a + q_hat + w_s * q_solar + w_w * \n",
    "#             delta_T_a * v_wind.T + w * np.ones(N,)) / C\n",
    "\n",
    "model_rhs = (delta_T_a * a / C + q_hat / C + (w_s / C) * q_solar  + w_w * \n",
    "             delta_T_a * v_wind.T + w * np.ones(N,)) \n",
    "\n",
    "constraints = [\n",
    "    cp.sum(q_hat) - Q_sc == e,\n",
    "    delta_T_i == model_rhs,\n",
    "    q_hat >= np.zeros(N,),\n",
    "    q_hat <= 9, #q_hp + z,\n",
    "    #w_s <= 3\n",
    "]\n",
    "\n",
    "# Objective: minimize squared error on energy balance\n",
    "objective = cp.Minimize(\n",
    "    e**2\n",
    "    #+ phi_z*cp.norm2(z)\n",
    "    #+ phi_w*w_w\n",
    "    #+ phi * w \n",
    "    ) #+ cp.norm2(z))\n",
    "\n",
    "# Solve\n",
    "prob = cp.Problem(objective, constraints)\n",
    "result = prob.solve(solver=cp.GUROBI, verbose = True)\n",
    "R_a = 1/a\n",
    "\n",
    "# Output\n",
    "print(\"Optimal R_a:\", R_a.value)\n",
    "print(\"w_s (solar gain):\", w_s.value)\n",
    "print(\"w_w (wind effect):\", w_w.value)\n",
    "print(\"w (bias):\", w.value)\n",
    "print(\"Q_hat total:\", np.sum(q_hat.value))\n",
    "print(\"Q_sc:\", Q_sc)\n",
    "print(\"Residual (e):\", e.value)\n",
    "'''"
   ],
   "id": "412d1929ebedbdc7",
   "outputs": [
    {
     "data": {
      "text/plain": [
       "'\\nN = len(delta_T_i)\\n\\n# Total heating energy (space conditioning) minus DHW\\nQ_sc = np.sum(q_hp) - 4075  # in kWh\\n\\n# Known parameter\\nC = 7\\n\\nphi_z = 2\\nphi_w = 2\\nphi = 10\\n# CVXPY variables\\na = cp.Variable(pos=True)  #  a = 1/(R_a*C)\\nw_s = cp.Variable(nonneg=True)\\nw_w = cp.Variable(nonneg=True)\\nw   = cp.Variable()\\ne   = cp.Variable()\\n#z   = cp.Variable(N, nonneg=True)\\nq_hat = cp.Variable(N)\\n\\n# Constraint: temperature dynamics match model\\n#model_rhs = (delta_T_a * a + q_hat + w_s * q_solar + w_w * \\n#             delta_T_a * v_wind.T + w * np.ones(N,)) / C\\n\\nmodel_rhs = (delta_T_a * a / C + q_hat / C + (w_s / C) * q_solar  + w_w * \\n             delta_T_a * v_wind.T + w * np.ones(N,)) \\n\\nconstraints = [\\n    cp.sum(q_hat) - Q_sc == e,\\n    delta_T_i == model_rhs,\\n    q_hat >= np.zeros(N,),\\n    q_hat <= 9, #q_hp + z,\\n    #w_s <= 3\\n]\\n\\n# Objective: minimize squared error on energy balance\\nobjective = cp.Minimize(\\n    e**2\\n    #+ phi_z*cp.norm2(z)\\n    #+ phi_w*w_w\\n    #+ phi * w \\n    ) #+ cp.norm2(z))\\n\\n# Solve\\nprob = cp.Problem(objective, constraints)\\nresult = prob.solve(solver=cp.GUROBI, verbose = True)\\nR_a = 1/a\\n\\n# Output\\nprint(\"Optimal R_a:\", R_a.value)\\nprint(\"w_s (solar gain):\", w_s.value)\\nprint(\"w_w (wind effect):\", w_w.value)\\nprint(\"w (bias):\", w.value)\\nprint(\"Q_hat total:\", np.sum(q_hat.value))\\nprint(\"Q_sc:\", Q_sc)\\nprint(\"Residual (e):\", e.value)\\n'"
      ]
     },
     "execution_count": 60,
     "metadata": {},
     "output_type": "execute_result"
    }
   ],
   "execution_count": 60
  },
  {
   "metadata": {
    "ExecuteTime": {
     "end_time": "2025-07-18T11:35:10.822864Z",
     "start_time": "2025-07-18T11:35:10.821008Z"
    }
   },
   "cell_type": "code",
   "source": [
    "'''\n",
    "# compare q_hat with q_hp\n",
    "plt.plot(df_heating_annual.index[:-1],q_hat.value, label = \"q_optimize\")\n",
    "plt.plot(df_heating_annual.index[:-1],q_hp, label = \"q_meas\")\n",
    "plt.legend()\n",
    "plt.xlabel(\"Time\")\n",
    "plt.ylabel(\"kWh\")\n",
    "plt.show()\n",
    "'''"
   ],
   "id": "2443e4369f57b393",
   "outputs": [
    {
     "data": {
      "text/plain": [
       "'\\n# compare q_hat with q_hp\\nplt.plot(df_heating_annual.index[:-1],q_hat.value, label = \"q_optimize\")\\nplt.plot(df_heating_annual.index[:-1],q_hp, label = \"q_meas\")\\nplt.legend()\\nplt.xlabel(\"Time\")\\nplt.ylabel(\"kWh\")\\nplt.show()\\n'"
      ]
     },
     "execution_count": 61,
     "metadata": {},
     "output_type": "execute_result"
    }
   ],
   "execution_count": 61
  },
  {
   "metadata": {
    "ExecuteTime": {
     "end_time": "2025-07-18T11:35:12.262098Z",
     "start_time": "2025-07-18T11:35:10.943307Z"
    }
   },
   "cell_type": "code",
   "source": [
    "# solves with error terms around dT_i and q_hp\n",
    "\n",
    "N = len(delta_T_i)\n",
    "\n",
    "# Total heating energy (space conditioning) minus DHW\n",
    "Q_sc = np.sum(q_hp) - 4075 - SPC_sum + DHW_sum  # in kWh\n",
    "\n",
    "# Known parameter\n",
    "C = 7\n",
    "phi_e = 0.1\n",
    "phi_z = 0.001\n",
    "phi_w = 2\n",
    "phi_u = 2000\n",
    "phi = 5\n",
    "# CVXPY variables\n",
    "a = cp.Variable(pos=True)  #  a = 1/(R_a*C)\n",
    "w_s = cp.Variable(nonneg=True)\n",
    "w_w = cp.Variable(nonneg=True)\n",
    "w = cp.Variable()\n",
    "e = cp.Variable()\n",
    "z = cp.Variable(N, nonneg=True)\n",
    "u = cp.Variable(N)\n",
    "q_hat = cp.Variable(N)\n",
    "\n",
    "# Constraint: temperature dynamics match model\n",
    "model_rhs = (delta_T_a * a + q_hat + w_s * q_solar * T_a + w_w *\n",
    "             delta_T_a @ v_wind.T + w * np.ones(N, )) / C\n",
    "\n",
    "constraints = [\n",
    "    cp.sum(q_hat) - Q_sc == e,\n",
    "    delta_T_i + u == model_rhs,\n",
    "    q_hat >= np.zeros(N, ),\n",
    "    q_hat <= q_hp*delta_t + z,\n",
    "    q_hat <= 9*delta_t,\n",
    "    a >= 1/25\n",
    "    #w_s <= 3\n",
    "]\n",
    "\n",
    "# Objective: minimize squared error on energy balance\n",
    "objective = cp.Minimize(\n",
    "    phi_e * e ** 2\n",
    "    + phi_z * cp.norm2(z)\n",
    "    + phi_u * cp.norm2(u)\n",
    "    #+ phi_w*w_w\n",
    "    #+ phi * w \n",
    ")  #+ cp.norm2(z))\n",
    "\n",
    "# Solve\n",
    "prob = cp.Problem(objective, constraints)\n",
    "result = prob.solve(solver=cp.GUROBI, verbose=False)\n",
    "R_a = 1 / a\n",
    "\n",
    "rmse_dTi = np.sqrt(np.mean(u.value ** 2))\n",
    "rmse_q_hp = np.sqrt(np.mean(z.value ** 2))\n",
    "\n",
    "# Output\n",
    "print(\"Optimal R_a:\", R_a.value)\n",
    "print(\"w_s (solar gain):\", w_s.value)\n",
    "print(\"w_w (wind effect):\", w_w.value)\n",
    "print(\"w (bias):\", w.value)\n",
    "print(\"Q_hat total:\", np.sum(q_hat.value))\n",
    "print(\"Q_sc:\", Q_sc)\n",
    "print(\"Residual (e):\", e.value)\n",
    "print(\"RMSE dTi:\", rmse_dTi)\n",
    "print(\"RMSE q_hat:\", rmse_q_hp)"
   ],
   "id": "f50f2d10d5e69fd6",
   "outputs": [
    {
     "name": "stderr",
     "output_type": "stream",
     "text": [
      "/Users/levipremer/PycharmProjects/uk_data_electric_heating/.venv/lib/python3.12/site-packages/cvxpy/expressions/expression.py:674: UserWarning: \n",
      "This use of ``*`` has resulted in matrix multiplication.\n",
      "Using ``*`` for matrix multiplication has been deprecated since CVXPY 1.1.\n",
      "    Use ``*`` for matrix-scalar and vector-scalar multiplication.\n",
      "    Use ``@`` for matrix-matrix and matrix-vector multiplication.\n",
      "    Use ``multiply`` for elementwise multiplication.\n",
      "This code path has been hit 102 times so far.\n",
      "\n",
      "  warnings.warn(msg, UserWarning)\n"
     ]
    },
    {
     "name": "stdout",
     "output_type": "stream",
     "text": [
      "Optimal R_a: 15.889540513619133\n",
      "w_s (solar gain): 0.0\n",
      "w_w (wind effect): 0.0\n",
      "w (bias): -0.30824098752603063\n",
      "Q_hat total: 5535.5761250962205\n",
      "Q_sc: 5521.046999999999\n",
      "Residual (e): 14.529125096188467\n",
      "RMSE dTi: 0.25063440684951455\n",
      "RMSE q_hat: 0.6503283568810302\n"
     ]
    }
   ],
   "execution_count": 62
  },
  {
   "metadata": {
    "ExecuteTime": {
     "end_time": "2025-07-18T11:37:20.411824Z",
     "start_time": "2025-07-18T11:35:12.524724Z"
    }
   },
   "cell_type": "code",
   "source": [
    "def solve_inner_and_gradient(C):\n",
    "    \"\"\"Solve inner CVXPY problem for a given C, return rmse and gradient w.r.t C.\"\"\"\n",
    "    N = len(delta_T_i)\n",
    "    Q_sc = np.sum(q_hp) - 4075 - SPC_sum + DHW_sum\n",
    "\n",
    "    # CVXPY variables\n",
    "    a   = cp.Variable(pos=True)\n",
    "    w_s = cp.Variable(nonneg=True)\n",
    "    w_w = cp.Variable(nonneg=True)\n",
    "    w   = cp.Variable()\n",
    "    e   = cp.Variable()\n",
    "    z   = cp.Variable(N, nonneg=True)\n",
    "    u   = cp.Variable(N)\n",
    "    q_hat = cp.Variable(N)\n",
    "\n",
    "    expr = (delta_T_a * a * delta_t + q_hat + w_s * q_solar * delta_T_a +\n",
    "            w_w * delta_T_a @ v_wind.T + w * np.ones(N) * delta_t)\n",
    "\n",
    "    # Constraints\n",
    "    constraints = [\n",
    "        cp.sum(q_hat) - Q_sc == e,\n",
    "        delta_T_i + u == expr / C,\n",
    "        q_hat >= 0,\n",
    "        q_hat <= q_hp + z,\n",
    "        q_hat <= 9 ,\n",
    "        a >= 1/25\n",
    "    ]\n",
    "\n",
    "    # Objective\n",
    "    phi_e = 0.1\n",
    "    phi_z = 0.001\n",
    "    phi_u = 2000\n",
    "    objective = cp.Minimize(\n",
    "        phi_e * e**2 +\n",
    "        phi_z * cp.norm2(z) +\n",
    "        phi_u * cp.norm2(u)\n",
    "    )\n",
    "\n",
    "    prob = cp.Problem(objective, constraints)\n",
    "    _ = prob.solve(solver=cp.GUROBI, verbose=False)\n",
    "\n",
    "    # Get values\n",
    "    u_val = u.value\n",
    "    expr_val = expr.value\n",
    "    rmse = np.sqrt(np.mean(u_val**2))\n",
    "\n",
    "    # Compute gradient analytically\n",
    "    du_dC = -(expr_val) / (C**2)\n",
    "    grad = (1 / (rmse * N)) * np.sum(u_val * du_dC)\n",
    "\n",
    "    R_a = (1 / a.value) * delta_t\n",
    "    return rmse, R_a, grad\n",
    "\n",
    "\n",
    "# Gradient descent parameters\n",
    "C = 6.0\n",
    "alpha = 1\n",
    "iters = 100\n",
    "tol = 1e-4  # convergence tolerance on gradient\n",
    "\n",
    "\n",
    "for i in range(iters):\n",
    "    loss, R_a, grad = solve_inner_and_gradient(C)\n",
    "    C -= alpha * grad\n",
    "    print(f\"Iter {i+1:02d}: C = {C:.4f}, R_a = {R_a:.4f}, rmse = {loss:.4f}, grad = {grad:.6f}\")\n",
    "    \n",
    "    # Check convergence\n",
    "    if abs(grad) < tol:\n",
    "        print(f\"✅ Converged after {i+1} iterations: |grad|={abs(grad):.6e}\")\n",
    "        break\n",
    "else:\n",
    "    print(f\"⚠️ Exited after {iters} iterations (not fully converged). Final |grad|={abs(grad):.6e}\")"
   ],
   "id": "54090553b65497e7",
   "outputs": [
    {
     "name": "stderr",
     "output_type": "stream",
     "text": [
      "/Users/levipremer/PycharmProjects/uk_data_electric_heating/.venv/lib/python3.12/site-packages/cvxpy/expressions/expression.py:674: UserWarning: \n",
      "This use of ``*`` has resulted in matrix multiplication.\n",
      "Using ``*`` for matrix multiplication has been deprecated since CVXPY 1.1.\n",
      "    Use ``*`` for matrix-scalar and vector-scalar multiplication.\n",
      "    Use ``@`` for matrix-matrix and matrix-vector multiplication.\n",
      "    Use ``multiply`` for elementwise multiplication.\n",
      "This code path has been hit 103 times so far.\n",
      "\n",
      "  warnings.warn(msg, UserWarning)\n"
     ]
    },
    {
     "name": "stdout",
     "output_type": "stream",
     "text": [
      "Iter 01: C = 5.9835, R_a = 5.3247, rmse = 0.2154, grad = 0.016529\n"
     ]
    },
    {
     "name": "stderr",
     "output_type": "stream",
     "text": [
      "/Users/levipremer/PycharmProjects/uk_data_electric_heating/.venv/lib/python3.12/site-packages/cvxpy/expressions/expression.py:674: UserWarning: \n",
      "This use of ``*`` has resulted in matrix multiplication.\n",
      "Using ``*`` for matrix multiplication has been deprecated since CVXPY 1.1.\n",
      "    Use ``*`` for matrix-scalar and vector-scalar multiplication.\n",
      "    Use ``@`` for matrix-matrix and matrix-vector multiplication.\n",
      "    Use ``multiply`` for elementwise multiplication.\n",
      "This code path has been hit 104 times so far.\n",
      "\n",
      "  warnings.warn(msg, UserWarning)\n"
     ]
    },
    {
     "name": "stdout",
     "output_type": "stream",
     "text": [
      "Iter 02: C = 5.9671, R_a = 5.3238, rmse = 0.2156, grad = 0.016420\n"
     ]
    },
    {
     "name": "stderr",
     "output_type": "stream",
     "text": [
      "/Users/levipremer/PycharmProjects/uk_data_electric_heating/.venv/lib/python3.12/site-packages/cvxpy/expressions/expression.py:674: UserWarning: \n",
      "This use of ``*`` has resulted in matrix multiplication.\n",
      "Using ``*`` for matrix multiplication has been deprecated since CVXPY 1.1.\n",
      "    Use ``*`` for matrix-scalar and vector-scalar multiplication.\n",
      "    Use ``@`` for matrix-matrix and matrix-vector multiplication.\n",
      "    Use ``multiply`` for elementwise multiplication.\n",
      "This code path has been hit 105 times so far.\n",
      "\n",
      "  warnings.warn(msg, UserWarning)\n"
     ]
    },
    {
     "name": "stdout",
     "output_type": "stream",
     "text": [
      "Iter 03: C = 5.9501, R_a = 5.3243, rmse = 0.2142, grad = 0.016971\n"
     ]
    },
    {
     "name": "stderr",
     "output_type": "stream",
     "text": [
      "/Users/levipremer/PycharmProjects/uk_data_electric_heating/.venv/lib/python3.12/site-packages/cvxpy/expressions/expression.py:674: UserWarning: \n",
      "This use of ``*`` has resulted in matrix multiplication.\n",
      "Using ``*`` for matrix multiplication has been deprecated since CVXPY 1.1.\n",
      "    Use ``*`` for matrix-scalar and vector-scalar multiplication.\n",
      "    Use ``@`` for matrix-matrix and matrix-vector multiplication.\n",
      "    Use ``multiply`` for elementwise multiplication.\n",
      "This code path has been hit 106 times so far.\n",
      "\n",
      "  warnings.warn(msg, UserWarning)\n"
     ]
    },
    {
     "name": "stdout",
     "output_type": "stream",
     "text": [
      "Iter 04: C = 5.9331, R_a = 5.3232, rmse = 0.2139, grad = 0.017021\n"
     ]
    },
    {
     "name": "stderr",
     "output_type": "stream",
     "text": [
      "/Users/levipremer/PycharmProjects/uk_data_electric_heating/.venv/lib/python3.12/site-packages/cvxpy/expressions/expression.py:674: UserWarning: \n",
      "This use of ``*`` has resulted in matrix multiplication.\n",
      "Using ``*`` for matrix multiplication has been deprecated since CVXPY 1.1.\n",
      "    Use ``*`` for matrix-scalar and vector-scalar multiplication.\n",
      "    Use ``@`` for matrix-matrix and matrix-vector multiplication.\n",
      "    Use ``multiply`` for elementwise multiplication.\n",
      "This code path has been hit 107 times so far.\n",
      "\n",
      "  warnings.warn(msg, UserWarning)\n"
     ]
    },
    {
     "name": "stdout",
     "output_type": "stream",
     "text": [
      "Iter 05: C = 5.9159, R_a = 5.3233, rmse = 0.2136, grad = 0.017118\n"
     ]
    },
    {
     "name": "stderr",
     "output_type": "stream",
     "text": [
      "/Users/levipremer/PycharmProjects/uk_data_electric_heating/.venv/lib/python3.12/site-packages/cvxpy/expressions/expression.py:674: UserWarning: \n",
      "This use of ``*`` has resulted in matrix multiplication.\n",
      "Using ``*`` for matrix multiplication has been deprecated since CVXPY 1.1.\n",
      "    Use ``*`` for matrix-scalar and vector-scalar multiplication.\n",
      "    Use ``@`` for matrix-matrix and matrix-vector multiplication.\n",
      "    Use ``multiply`` for elementwise multiplication.\n",
      "This code path has been hit 108 times so far.\n",
      "\n",
      "  warnings.warn(msg, UserWarning)\n"
     ]
    },
    {
     "name": "stdout",
     "output_type": "stream",
     "text": [
      "Iter 06: C = 5.8988, R_a = 5.3224, rmse = 0.2133, grad = 0.017191\n"
     ]
    },
    {
     "name": "stderr",
     "output_type": "stream",
     "text": [
      "/Users/levipremer/PycharmProjects/uk_data_electric_heating/.venv/lib/python3.12/site-packages/cvxpy/expressions/expression.py:674: UserWarning: \n",
      "This use of ``*`` has resulted in matrix multiplication.\n",
      "Using ``*`` for matrix multiplication has been deprecated since CVXPY 1.1.\n",
      "    Use ``*`` for matrix-scalar and vector-scalar multiplication.\n",
      "    Use ``@`` for matrix-matrix and matrix-vector multiplication.\n",
      "    Use ``multiply`` for elementwise multiplication.\n",
      "This code path has been hit 109 times so far.\n",
      "\n",
      "  warnings.warn(msg, UserWarning)\n"
     ]
    },
    {
     "name": "stdout",
     "output_type": "stream",
     "text": [
      "Iter 07: C = 5.8815, R_a = 5.3208, rmse = 0.2130, grad = 0.017246\n"
     ]
    },
    {
     "name": "stderr",
     "output_type": "stream",
     "text": [
      "/Users/levipremer/PycharmProjects/uk_data_electric_heating/.venv/lib/python3.12/site-packages/cvxpy/expressions/expression.py:674: UserWarning: \n",
      "This use of ``*`` has resulted in matrix multiplication.\n",
      "Using ``*`` for matrix multiplication has been deprecated since CVXPY 1.1.\n",
      "    Use ``*`` for matrix-scalar and vector-scalar multiplication.\n",
      "    Use ``@`` for matrix-matrix and matrix-vector multiplication.\n",
      "    Use ``multiply`` for elementwise multiplication.\n",
      "This code path has been hit 110 times so far.\n",
      "\n",
      "  warnings.warn(msg, UserWarning)\n"
     ]
    },
    {
     "name": "stdout",
     "output_type": "stream",
     "text": [
      "Iter 08: C = 5.8644, R_a = 5.3208, rmse = 0.2132, grad = 0.017113\n"
     ]
    },
    {
     "name": "stderr",
     "output_type": "stream",
     "text": [
      "/Users/levipremer/PycharmProjects/uk_data_electric_heating/.venv/lib/python3.12/site-packages/cvxpy/expressions/expression.py:674: UserWarning: \n",
      "This use of ``*`` has resulted in matrix multiplication.\n",
      "Using ``*`` for matrix multiplication has been deprecated since CVXPY 1.1.\n",
      "    Use ``*`` for matrix-scalar and vector-scalar multiplication.\n",
      "    Use ``@`` for matrix-matrix and matrix-vector multiplication.\n",
      "    Use ``multiply`` for elementwise multiplication.\n",
      "This code path has been hit 111 times so far.\n",
      "\n",
      "  warnings.warn(msg, UserWarning)\n"
     ]
    },
    {
     "name": "stdout",
     "output_type": "stream",
     "text": [
      "Iter 09: C = 5.8470, R_a = 5.3195, rmse = 0.2125, grad = 0.017384\n"
     ]
    },
    {
     "name": "stderr",
     "output_type": "stream",
     "text": [
      "/Users/levipremer/PycharmProjects/uk_data_electric_heating/.venv/lib/python3.12/site-packages/cvxpy/expressions/expression.py:674: UserWarning: \n",
      "This use of ``*`` has resulted in matrix multiplication.\n",
      "Using ``*`` for matrix multiplication has been deprecated since CVXPY 1.1.\n",
      "    Use ``*`` for matrix-scalar and vector-scalar multiplication.\n",
      "    Use ``@`` for matrix-matrix and matrix-vector multiplication.\n",
      "    Use ``multiply`` for elementwise multiplication.\n",
      "This code path has been hit 112 times so far.\n",
      "\n",
      "  warnings.warn(msg, UserWarning)\n"
     ]
    },
    {
     "name": "stdout",
     "output_type": "stream",
     "text": [
      "Iter 10: C = 5.8295, R_a = 5.3182, rmse = 0.2121, grad = 0.017479\n"
     ]
    },
    {
     "name": "stderr",
     "output_type": "stream",
     "text": [
      "/Users/levipremer/PycharmProjects/uk_data_electric_heating/.venv/lib/python3.12/site-packages/cvxpy/expressions/expression.py:674: UserWarning: \n",
      "This use of ``*`` has resulted in matrix multiplication.\n",
      "Using ``*`` for matrix multiplication has been deprecated since CVXPY 1.1.\n",
      "    Use ``*`` for matrix-scalar and vector-scalar multiplication.\n",
      "    Use ``@`` for matrix-matrix and matrix-vector multiplication.\n",
      "    Use ``multiply`` for elementwise multiplication.\n",
      "This code path has been hit 113 times so far.\n",
      "\n",
      "  warnings.warn(msg, UserWarning)\n"
     ]
    },
    {
     "name": "stdout",
     "output_type": "stream",
     "text": [
      "Iter 11: C = 5.8119, R_a = 5.3189, rmse = 0.2118, grad = 0.017581\n"
     ]
    },
    {
     "name": "stderr",
     "output_type": "stream",
     "text": [
      "/Users/levipremer/PycharmProjects/uk_data_electric_heating/.venv/lib/python3.12/site-packages/cvxpy/expressions/expression.py:674: UserWarning: \n",
      "This use of ``*`` has resulted in matrix multiplication.\n",
      "Using ``*`` for matrix multiplication has been deprecated since CVXPY 1.1.\n",
      "    Use ``*`` for matrix-scalar and vector-scalar multiplication.\n",
      "    Use ``@`` for matrix-matrix and matrix-vector multiplication.\n",
      "    Use ``multiply`` for elementwise multiplication.\n",
      "This code path has been hit 114 times so far.\n",
      "\n",
      "  warnings.warn(msg, UserWarning)\n"
     ]
    },
    {
     "name": "stdout",
     "output_type": "stream",
     "text": [
      "Iter 12: C = 5.7943, R_a = 5.3160, rmse = 0.2115, grad = 0.017638\n"
     ]
    },
    {
     "name": "stderr",
     "output_type": "stream",
     "text": [
      "/Users/levipremer/PycharmProjects/uk_data_electric_heating/.venv/lib/python3.12/site-packages/cvxpy/expressions/expression.py:674: UserWarning: \n",
      "This use of ``*`` has resulted in matrix multiplication.\n",
      "Using ``*`` for matrix multiplication has been deprecated since CVXPY 1.1.\n",
      "    Use ``*`` for matrix-scalar and vector-scalar multiplication.\n",
      "    Use ``@`` for matrix-matrix and matrix-vector multiplication.\n",
      "    Use ``multiply`` for elementwise multiplication.\n",
      "This code path has been hit 115 times so far.\n",
      "\n",
      "  warnings.warn(msg, UserWarning)\n"
     ]
    },
    {
     "name": "stdout",
     "output_type": "stream",
     "text": [
      "Iter 13: C = 5.7767, R_a = 5.3161, rmse = 0.2114, grad = 0.017654\n"
     ]
    },
    {
     "name": "stderr",
     "output_type": "stream",
     "text": [
      "/Users/levipremer/PycharmProjects/uk_data_electric_heating/.venv/lib/python3.12/site-packages/cvxpy/expressions/expression.py:674: UserWarning: \n",
      "This use of ``*`` has resulted in matrix multiplication.\n",
      "Using ``*`` for matrix multiplication has been deprecated since CVXPY 1.1.\n",
      "    Use ``*`` for matrix-scalar and vector-scalar multiplication.\n",
      "    Use ``@`` for matrix-matrix and matrix-vector multiplication.\n",
      "    Use ``multiply`` for elementwise multiplication.\n",
      "This code path has been hit 116 times so far.\n",
      "\n",
      "  warnings.warn(msg, UserWarning)\n"
     ]
    },
    {
     "name": "stdout",
     "output_type": "stream",
     "text": [
      "Iter 14: C = 5.7589, R_a = 5.3166, rmse = 0.2109, grad = 0.017806\n"
     ]
    },
    {
     "name": "stderr",
     "output_type": "stream",
     "text": [
      "/Users/levipremer/PycharmProjects/uk_data_electric_heating/.venv/lib/python3.12/site-packages/cvxpy/expressions/expression.py:674: UserWarning: \n",
      "This use of ``*`` has resulted in matrix multiplication.\n",
      "Using ``*`` for matrix multiplication has been deprecated since CVXPY 1.1.\n",
      "    Use ``*`` for matrix-scalar and vector-scalar multiplication.\n",
      "    Use ``@`` for matrix-matrix and matrix-vector multiplication.\n",
      "    Use ``multiply`` for elementwise multiplication.\n",
      "This code path has been hit 117 times so far.\n",
      "\n",
      "  warnings.warn(msg, UserWarning)\n"
     ]
    },
    {
     "name": "stdout",
     "output_type": "stream",
     "text": [
      "Iter 15: C = 5.7409, R_a = 5.3144, rmse = 0.2105, grad = 0.017904\n"
     ]
    },
    {
     "name": "stderr",
     "output_type": "stream",
     "text": [
      "/Users/levipremer/PycharmProjects/uk_data_electric_heating/.venv/lib/python3.12/site-packages/cvxpy/expressions/expression.py:674: UserWarning: \n",
      "This use of ``*`` has resulted in matrix multiplication.\n",
      "Using ``*`` for matrix multiplication has been deprecated since CVXPY 1.1.\n",
      "    Use ``*`` for matrix-scalar and vector-scalar multiplication.\n",
      "    Use ``@`` for matrix-matrix and matrix-vector multiplication.\n",
      "    Use ``multiply`` for elementwise multiplication.\n",
      "This code path has been hit 118 times so far.\n",
      "\n",
      "  warnings.warn(msg, UserWarning)\n"
     ]
    },
    {
     "name": "stdout",
     "output_type": "stream",
     "text": [
      "Iter 16: C = 5.7230, R_a = 5.3153, rmse = 0.2102, grad = 0.017987\n"
     ]
    },
    {
     "name": "stderr",
     "output_type": "stream",
     "text": [
      "/Users/levipremer/PycharmProjects/uk_data_electric_heating/.venv/lib/python3.12/site-packages/cvxpy/expressions/expression.py:674: UserWarning: \n",
      "This use of ``*`` has resulted in matrix multiplication.\n",
      "Using ``*`` for matrix multiplication has been deprecated since CVXPY 1.1.\n",
      "    Use ``*`` for matrix-scalar and vector-scalar multiplication.\n",
      "    Use ``@`` for matrix-matrix and matrix-vector multiplication.\n",
      "    Use ``multiply`` for elementwise multiplication.\n",
      "This code path has been hit 119 times so far.\n",
      "\n",
      "  warnings.warn(msg, UserWarning)\n"
     ]
    },
    {
     "name": "stdout",
     "output_type": "stream",
     "text": [
      "Iter 17: C = 5.7049, R_a = 5.3142, rmse = 0.2099, grad = 0.018065\n"
     ]
    },
    {
     "name": "stderr",
     "output_type": "stream",
     "text": [
      "/Users/levipremer/PycharmProjects/uk_data_electric_heating/.venv/lib/python3.12/site-packages/cvxpy/expressions/expression.py:674: UserWarning: \n",
      "This use of ``*`` has resulted in matrix multiplication.\n",
      "Using ``*`` for matrix multiplication has been deprecated since CVXPY 1.1.\n",
      "    Use ``*`` for matrix-scalar and vector-scalar multiplication.\n",
      "    Use ``@`` for matrix-matrix and matrix-vector multiplication.\n",
      "    Use ``multiply`` for elementwise multiplication.\n",
      "This code path has been hit 120 times so far.\n",
      "\n",
      "  warnings.warn(msg, UserWarning)\n"
     ]
    },
    {
     "name": "stdout",
     "output_type": "stream",
     "text": [
      "Iter 18: C = 5.6868, R_a = 5.3146, rmse = 0.2097, grad = 0.018097\n"
     ]
    },
    {
     "name": "stderr",
     "output_type": "stream",
     "text": [
      "/Users/levipremer/PycharmProjects/uk_data_electric_heating/.venv/lib/python3.12/site-packages/cvxpy/expressions/expression.py:674: UserWarning: \n",
      "This use of ``*`` has resulted in matrix multiplication.\n",
      "Using ``*`` for matrix multiplication has been deprecated since CVXPY 1.1.\n",
      "    Use ``*`` for matrix-scalar and vector-scalar multiplication.\n",
      "    Use ``@`` for matrix-matrix and matrix-vector multiplication.\n",
      "    Use ``multiply`` for elementwise multiplication.\n",
      "This code path has been hit 121 times so far.\n",
      "\n",
      "  warnings.warn(msg, UserWarning)\n"
     ]
    },
    {
     "name": "stdout",
     "output_type": "stream",
     "text": [
      "Iter 19: C = 5.6686, R_a = 5.3119, rmse = 0.2093, grad = 0.018214\n"
     ]
    },
    {
     "name": "stderr",
     "output_type": "stream",
     "text": [
      "/Users/levipremer/PycharmProjects/uk_data_electric_heating/.venv/lib/python3.12/site-packages/cvxpy/expressions/expression.py:674: UserWarning: \n",
      "This use of ``*`` has resulted in matrix multiplication.\n",
      "Using ``*`` for matrix multiplication has been deprecated since CVXPY 1.1.\n",
      "    Use ``*`` for matrix-scalar and vector-scalar multiplication.\n",
      "    Use ``@`` for matrix-matrix and matrix-vector multiplication.\n",
      "    Use ``multiply`` for elementwise multiplication.\n",
      "This code path has been hit 122 times so far.\n",
      "\n",
      "  warnings.warn(msg, UserWarning)\n"
     ]
    },
    {
     "name": "stdout",
     "output_type": "stream",
     "text": [
      "Iter 20: C = 5.6502, R_a = 5.3121, rmse = 0.2089, grad = 0.018346\n"
     ]
    },
    {
     "name": "stderr",
     "output_type": "stream",
     "text": [
      "/Users/levipremer/PycharmProjects/uk_data_electric_heating/.venv/lib/python3.12/site-packages/cvxpy/expressions/expression.py:674: UserWarning: \n",
      "This use of ``*`` has resulted in matrix multiplication.\n",
      "Using ``*`` for matrix multiplication has been deprecated since CVXPY 1.1.\n",
      "    Use ``*`` for matrix-scalar and vector-scalar multiplication.\n",
      "    Use ``@`` for matrix-matrix and matrix-vector multiplication.\n",
      "    Use ``multiply`` for elementwise multiplication.\n",
      "This code path has been hit 123 times so far.\n",
      "\n",
      "  warnings.warn(msg, UserWarning)\n"
     ]
    },
    {
     "name": "stdout",
     "output_type": "stream",
     "text": [
      "Iter 21: C = 5.6318, R_a = 5.3088, rmse = 0.2086, grad = 0.018395\n"
     ]
    },
    {
     "name": "stderr",
     "output_type": "stream",
     "text": [
      "/Users/levipremer/PycharmProjects/uk_data_electric_heating/.venv/lib/python3.12/site-packages/cvxpy/expressions/expression.py:674: UserWarning: \n",
      "This use of ``*`` has resulted in matrix multiplication.\n",
      "Using ``*`` for matrix multiplication has been deprecated since CVXPY 1.1.\n",
      "    Use ``*`` for matrix-scalar and vector-scalar multiplication.\n",
      "    Use ``@`` for matrix-matrix and matrix-vector multiplication.\n",
      "    Use ``multiply`` for elementwise multiplication.\n",
      "This code path has been hit 124 times so far.\n",
      "\n",
      "  warnings.warn(msg, UserWarning)\n"
     ]
    },
    {
     "name": "stdout",
     "output_type": "stream",
     "text": [
      "Iter 22: C = 5.6135, R_a = 5.3089, rmse = 0.2086, grad = 0.018337\n"
     ]
    },
    {
     "name": "stderr",
     "output_type": "stream",
     "text": [
      "/Users/levipremer/PycharmProjects/uk_data_electric_heating/.venv/lib/python3.12/site-packages/cvxpy/expressions/expression.py:674: UserWarning: \n",
      "This use of ``*`` has resulted in matrix multiplication.\n",
      "Using ``*`` for matrix multiplication has been deprecated since CVXPY 1.1.\n",
      "    Use ``*`` for matrix-scalar and vector-scalar multiplication.\n",
      "    Use ``@`` for matrix-matrix and matrix-vector multiplication.\n",
      "    Use ``multiply`` for elementwise multiplication.\n",
      "This code path has been hit 125 times so far.\n",
      "\n",
      "  warnings.warn(msg, UserWarning)\n"
     ]
    },
    {
     "name": "stdout",
     "output_type": "stream",
     "text": [
      "Iter 23: C = 5.5949, R_a = 5.3087, rmse = 0.2079, grad = 0.018621\n"
     ]
    },
    {
     "name": "stderr",
     "output_type": "stream",
     "text": [
      "/Users/levipremer/PycharmProjects/uk_data_electric_heating/.venv/lib/python3.12/site-packages/cvxpy/expressions/expression.py:674: UserWarning: \n",
      "This use of ``*`` has resulted in matrix multiplication.\n",
      "Using ``*`` for matrix multiplication has been deprecated since CVXPY 1.1.\n",
      "    Use ``*`` for matrix-scalar and vector-scalar multiplication.\n",
      "    Use ``@`` for matrix-matrix and matrix-vector multiplication.\n",
      "    Use ``multiply`` for elementwise multiplication.\n",
      "This code path has been hit 126 times so far.\n",
      "\n",
      "  warnings.warn(msg, UserWarning)\n"
     ]
    },
    {
     "name": "stdout",
     "output_type": "stream",
     "text": [
      "Iter 24: C = 5.5762, R_a = 5.3078, rmse = 0.2075, grad = 0.018705\n"
     ]
    },
    {
     "name": "stderr",
     "output_type": "stream",
     "text": [
      "/Users/levipremer/PycharmProjects/uk_data_electric_heating/.venv/lib/python3.12/site-packages/cvxpy/expressions/expression.py:674: UserWarning: \n",
      "This use of ``*`` has resulted in matrix multiplication.\n",
      "Using ``*`` for matrix multiplication has been deprecated since CVXPY 1.1.\n",
      "    Use ``*`` for matrix-scalar and vector-scalar multiplication.\n",
      "    Use ``@`` for matrix-matrix and matrix-vector multiplication.\n",
      "    Use ``multiply`` for elementwise multiplication.\n",
      "This code path has been hit 127 times so far.\n",
      "\n",
      "  warnings.warn(msg, UserWarning)\n"
     ]
    },
    {
     "name": "stdout",
     "output_type": "stream",
     "text": [
      "Iter 25: C = 5.5575, R_a = 5.3045, rmse = 0.2075, grad = 0.018649\n"
     ]
    },
    {
     "name": "stderr",
     "output_type": "stream",
     "text": [
      "/Users/levipremer/PycharmProjects/uk_data_electric_heating/.venv/lib/python3.12/site-packages/cvxpy/expressions/expression.py:674: UserWarning: \n",
      "This use of ``*`` has resulted in matrix multiplication.\n",
      "Using ``*`` for matrix multiplication has been deprecated since CVXPY 1.1.\n",
      "    Use ``*`` for matrix-scalar and vector-scalar multiplication.\n",
      "    Use ``@`` for matrix-matrix and matrix-vector multiplication.\n",
      "    Use ``multiply`` for elementwise multiplication.\n",
      "This code path has been hit 128 times so far.\n",
      "\n",
      "  warnings.warn(msg, UserWarning)\n"
     ]
    },
    {
     "name": "stdout",
     "output_type": "stream",
     "text": [
      "Iter 26: C = 5.5386, R_a = 5.3052, rmse = 0.2068, grad = 0.018905\n"
     ]
    },
    {
     "name": "stderr",
     "output_type": "stream",
     "text": [
      "/Users/levipremer/PycharmProjects/uk_data_electric_heating/.venv/lib/python3.12/site-packages/cvxpy/expressions/expression.py:674: UserWarning: \n",
      "This use of ``*`` has resulted in matrix multiplication.\n",
      "Using ``*`` for matrix multiplication has been deprecated since CVXPY 1.1.\n",
      "    Use ``*`` for matrix-scalar and vector-scalar multiplication.\n",
      "    Use ``@`` for matrix-matrix and matrix-vector multiplication.\n",
      "    Use ``multiply`` for elementwise multiplication.\n",
      "This code path has been hit 129 times so far.\n",
      "\n",
      "  warnings.warn(msg, UserWarning)\n"
     ]
    },
    {
     "name": "stdout",
     "output_type": "stream",
     "text": [
      "Iter 27: C = 5.5196, R_a = 5.3028, rmse = 0.2065, grad = 0.019005\n"
     ]
    },
    {
     "name": "stderr",
     "output_type": "stream",
     "text": [
      "/Users/levipremer/PycharmProjects/uk_data_electric_heating/.venv/lib/python3.12/site-packages/cvxpy/expressions/expression.py:674: UserWarning: \n",
      "This use of ``*`` has resulted in matrix multiplication.\n",
      "Using ``*`` for matrix multiplication has been deprecated since CVXPY 1.1.\n",
      "    Use ``*`` for matrix-scalar and vector-scalar multiplication.\n",
      "    Use ``@`` for matrix-matrix and matrix-vector multiplication.\n",
      "    Use ``multiply`` for elementwise multiplication.\n",
      "This code path has been hit 130 times so far.\n",
      "\n",
      "  warnings.warn(msg, UserWarning)\n"
     ]
    },
    {
     "name": "stdout",
     "output_type": "stream",
     "text": [
      "Iter 28: C = 5.5005, R_a = 5.3022, rmse = 0.2061, grad = 0.019111\n"
     ]
    },
    {
     "name": "stderr",
     "output_type": "stream",
     "text": [
      "/Users/levipremer/PycharmProjects/uk_data_electric_heating/.venv/lib/python3.12/site-packages/cvxpy/expressions/expression.py:674: UserWarning: \n",
      "This use of ``*`` has resulted in matrix multiplication.\n",
      "Using ``*`` for matrix multiplication has been deprecated since CVXPY 1.1.\n",
      "    Use ``*`` for matrix-scalar and vector-scalar multiplication.\n",
      "    Use ``@`` for matrix-matrix and matrix-vector multiplication.\n",
      "    Use ``multiply`` for elementwise multiplication.\n",
      "This code path has been hit 131 times so far.\n",
      "\n",
      "  warnings.warn(msg, UserWarning)\n"
     ]
    },
    {
     "name": "stdout",
     "output_type": "stream",
     "text": [
      "Iter 29: C = 5.4813, R_a = 5.2984, rmse = 0.2057, grad = 0.019215\n"
     ]
    },
    {
     "name": "stderr",
     "output_type": "stream",
     "text": [
      "/Users/levipremer/PycharmProjects/uk_data_electric_heating/.venv/lib/python3.12/site-packages/cvxpy/expressions/expression.py:674: UserWarning: \n",
      "This use of ``*`` has resulted in matrix multiplication.\n",
      "Using ``*`` for matrix multiplication has been deprecated since CVXPY 1.1.\n",
      "    Use ``*`` for matrix-scalar and vector-scalar multiplication.\n",
      "    Use ``@`` for matrix-matrix and matrix-vector multiplication.\n",
      "    Use ``multiply`` for elementwise multiplication.\n",
      "This code path has been hit 132 times so far.\n",
      "\n",
      "  warnings.warn(msg, UserWarning)\n"
     ]
    },
    {
     "name": "stdout",
     "output_type": "stream",
     "text": [
      "Iter 30: C = 5.4621, R_a = 5.2991, rmse = 0.2055, grad = 0.019237\n"
     ]
    },
    {
     "name": "stderr",
     "output_type": "stream",
     "text": [
      "/Users/levipremer/PycharmProjects/uk_data_electric_heating/.venv/lib/python3.12/site-packages/cvxpy/expressions/expression.py:674: UserWarning: \n",
      "This use of ``*`` has resulted in matrix multiplication.\n",
      "Using ``*`` for matrix multiplication has been deprecated since CVXPY 1.1.\n",
      "    Use ``*`` for matrix-scalar and vector-scalar multiplication.\n",
      "    Use ``@`` for matrix-matrix and matrix-vector multiplication.\n",
      "    Use ``multiply`` for elementwise multiplication.\n",
      "This code path has been hit 133 times so far.\n",
      "\n",
      "  warnings.warn(msg, UserWarning)\n"
     ]
    },
    {
     "name": "stdout",
     "output_type": "stream",
     "text": [
      "Iter 31: C = 5.4427, R_a = 5.2950, rmse = 0.2051, grad = 0.019344\n"
     ]
    },
    {
     "name": "stderr",
     "output_type": "stream",
     "text": [
      "/Users/levipremer/PycharmProjects/uk_data_electric_heating/.venv/lib/python3.12/site-packages/cvxpy/expressions/expression.py:674: UserWarning: \n",
      "This use of ``*`` has resulted in matrix multiplication.\n",
      "Using ``*`` for matrix multiplication has been deprecated since CVXPY 1.1.\n",
      "    Use ``*`` for matrix-scalar and vector-scalar multiplication.\n",
      "    Use ``@`` for matrix-matrix and matrix-vector multiplication.\n",
      "    Use ``multiply`` for elementwise multiplication.\n",
      "This code path has been hit 134 times so far.\n",
      "\n",
      "  warnings.warn(msg, UserWarning)\n"
     ]
    },
    {
     "name": "stdout",
     "output_type": "stream",
     "text": [
      "Iter 32: C = 5.4232, R_a = 5.2967, rmse = 0.2046, grad = 0.019503\n"
     ]
    },
    {
     "name": "stderr",
     "output_type": "stream",
     "text": [
      "/Users/levipremer/PycharmProjects/uk_data_electric_heating/.venv/lib/python3.12/site-packages/cvxpy/expressions/expression.py:674: UserWarning: \n",
      "This use of ``*`` has resulted in matrix multiplication.\n",
      "Using ``*`` for matrix multiplication has been deprecated since CVXPY 1.1.\n",
      "    Use ``*`` for matrix-scalar and vector-scalar multiplication.\n",
      "    Use ``@`` for matrix-matrix and matrix-vector multiplication.\n",
      "    Use ``multiply`` for elementwise multiplication.\n",
      "This code path has been hit 135 times so far.\n",
      "\n",
      "  warnings.warn(msg, UserWarning)\n"
     ]
    },
    {
     "name": "stdout",
     "output_type": "stream",
     "text": [
      "Iter 33: C = 5.4042, R_a = 5.2950, rmse = 0.2056, grad = 0.018985\n"
     ]
    },
    {
     "name": "stderr",
     "output_type": "stream",
     "text": [
      "/Users/levipremer/PycharmProjects/uk_data_electric_heating/.venv/lib/python3.12/site-packages/cvxpy/expressions/expression.py:674: UserWarning: \n",
      "This use of ``*`` has resulted in matrix multiplication.\n",
      "Using ``*`` for matrix multiplication has been deprecated since CVXPY 1.1.\n",
      "    Use ``*`` for matrix-scalar and vector-scalar multiplication.\n",
      "    Use ``@`` for matrix-matrix and matrix-vector multiplication.\n",
      "    Use ``multiply`` for elementwise multiplication.\n",
      "This code path has been hit 136 times so far.\n",
      "\n",
      "  warnings.warn(msg, UserWarning)\n"
     ]
    },
    {
     "name": "stdout",
     "output_type": "stream",
     "text": [
      "Iter 34: C = 5.3845, R_a = 5.2933, rmse = 0.2038, grad = 0.019737\n"
     ]
    },
    {
     "name": "stderr",
     "output_type": "stream",
     "text": [
      "/Users/levipremer/PycharmProjects/uk_data_electric_heating/.venv/lib/python3.12/site-packages/cvxpy/expressions/expression.py:674: UserWarning: \n",
      "This use of ``*`` has resulted in matrix multiplication.\n",
      "Using ``*`` for matrix multiplication has been deprecated since CVXPY 1.1.\n",
      "    Use ``*`` for matrix-scalar and vector-scalar multiplication.\n",
      "    Use ``@`` for matrix-matrix and matrix-vector multiplication.\n",
      "    Use ``multiply`` for elementwise multiplication.\n",
      "This code path has been hit 137 times so far.\n",
      "\n",
      "  warnings.warn(msg, UserWarning)\n"
     ]
    },
    {
     "name": "stdout",
     "output_type": "stream",
     "text": [
      "Iter 35: C = 5.3646, R_a = 5.2912, rmse = 0.2034, grad = 0.019850\n"
     ]
    },
    {
     "name": "stderr",
     "output_type": "stream",
     "text": [
      "/Users/levipremer/PycharmProjects/uk_data_electric_heating/.venv/lib/python3.12/site-packages/cvxpy/expressions/expression.py:674: UserWarning: \n",
      "This use of ``*`` has resulted in matrix multiplication.\n",
      "Using ``*`` for matrix multiplication has been deprecated since CVXPY 1.1.\n",
      "    Use ``*`` for matrix-scalar and vector-scalar multiplication.\n",
      "    Use ``@`` for matrix-matrix and matrix-vector multiplication.\n",
      "    Use ``multiply`` for elementwise multiplication.\n",
      "This code path has been hit 138 times so far.\n",
      "\n",
      "  warnings.warn(msg, UserWarning)\n"
     ]
    },
    {
     "name": "stdout",
     "output_type": "stream",
     "text": [
      "Iter 36: C = 5.3448, R_a = 5.2854, rmse = 0.2032, grad = 0.019873\n"
     ]
    },
    {
     "name": "stderr",
     "output_type": "stream",
     "text": [
      "/Users/levipremer/PycharmProjects/uk_data_electric_heating/.venv/lib/python3.12/site-packages/cvxpy/expressions/expression.py:674: UserWarning: \n",
      "This use of ``*`` has resulted in matrix multiplication.\n",
      "Using ``*`` for matrix multiplication has been deprecated since CVXPY 1.1.\n",
      "    Use ``*`` for matrix-scalar and vector-scalar multiplication.\n",
      "    Use ``@`` for matrix-matrix and matrix-vector multiplication.\n",
      "    Use ``multiply`` for elementwise multiplication.\n",
      "This code path has been hit 139 times so far.\n",
      "\n",
      "  warnings.warn(msg, UserWarning)\n"
     ]
    },
    {
     "name": "stdout",
     "output_type": "stream",
     "text": [
      "Iter 37: C = 5.3254, R_a = 5.2886, rmse = 0.2043, grad = 0.019319\n"
     ]
    },
    {
     "name": "stderr",
     "output_type": "stream",
     "text": [
      "/Users/levipremer/PycharmProjects/uk_data_electric_heating/.venv/lib/python3.12/site-packages/cvxpy/expressions/expression.py:674: UserWarning: \n",
      "This use of ``*`` has resulted in matrix multiplication.\n",
      "Using ``*`` for matrix multiplication has been deprecated since CVXPY 1.1.\n",
      "    Use ``*`` for matrix-scalar and vector-scalar multiplication.\n",
      "    Use ``@`` for matrix-matrix and matrix-vector multiplication.\n",
      "    Use ``multiply`` for elementwise multiplication.\n",
      "This code path has been hit 140 times so far.\n",
      "\n",
      "  warnings.warn(msg, UserWarning)\n"
     ]
    },
    {
     "name": "stdout",
     "output_type": "stream",
     "text": [
      "Iter 38: C = 5.3055, R_a = 5.2852, rmse = 0.2028, grad = 0.019919\n"
     ]
    },
    {
     "name": "stderr",
     "output_type": "stream",
     "text": [
      "/Users/levipremer/PycharmProjects/uk_data_electric_heating/.venv/lib/python3.12/site-packages/cvxpy/expressions/expression.py:674: UserWarning: \n",
      "This use of ``*`` has resulted in matrix multiplication.\n",
      "Using ``*`` for matrix multiplication has been deprecated since CVXPY 1.1.\n",
      "    Use ``*`` for matrix-scalar and vector-scalar multiplication.\n",
      "    Use ``@`` for matrix-matrix and matrix-vector multiplication.\n",
      "    Use ``multiply`` for elementwise multiplication.\n",
      "This code path has been hit 141 times so far.\n",
      "\n",
      "  warnings.warn(msg, UserWarning)\n"
     ]
    },
    {
     "name": "stdout",
     "output_type": "stream",
     "text": [
      "Iter 39: C = 5.2852, R_a = 5.2854, rmse = 0.2019, grad = 0.020298\n"
     ]
    },
    {
     "name": "stderr",
     "output_type": "stream",
     "text": [
      "/Users/levipremer/PycharmProjects/uk_data_electric_heating/.venv/lib/python3.12/site-packages/cvxpy/expressions/expression.py:674: UserWarning: \n",
      "This use of ``*`` has resulted in matrix multiplication.\n",
      "Using ``*`` for matrix multiplication has been deprecated since CVXPY 1.1.\n",
      "    Use ``*`` for matrix-scalar and vector-scalar multiplication.\n",
      "    Use ``@`` for matrix-matrix and matrix-vector multiplication.\n",
      "    Use ``multiply`` for elementwise multiplication.\n",
      "This code path has been hit 142 times so far.\n",
      "\n",
      "  warnings.warn(msg, UserWarning)\n"
     ]
    },
    {
     "name": "stdout",
     "output_type": "stream",
     "text": [
      "Iter 40: C = 5.2648, R_a = 5.2804, rmse = 0.2014, grad = 0.020423\n"
     ]
    },
    {
     "name": "stderr",
     "output_type": "stream",
     "text": [
      "/Users/levipremer/PycharmProjects/uk_data_electric_heating/.venv/lib/python3.12/site-packages/cvxpy/expressions/expression.py:674: UserWarning: \n",
      "This use of ``*`` has resulted in matrix multiplication.\n",
      "Using ``*`` for matrix multiplication has been deprecated since CVXPY 1.1.\n",
      "    Use ``*`` for matrix-scalar and vector-scalar multiplication.\n",
      "    Use ``@`` for matrix-matrix and matrix-vector multiplication.\n",
      "    Use ``multiply`` for elementwise multiplication.\n",
      "This code path has been hit 143 times so far.\n",
      "\n",
      "  warnings.warn(msg, UserWarning)\n"
     ]
    },
    {
     "name": "stdout",
     "output_type": "stream",
     "text": [
      "Iter 41: C = 5.2443, R_a = 5.2817, rmse = 0.2010, grad = 0.020548\n"
     ]
    },
    {
     "name": "stderr",
     "output_type": "stream",
     "text": [
      "/Users/levipremer/PycharmProjects/uk_data_electric_heating/.venv/lib/python3.12/site-packages/cvxpy/expressions/expression.py:674: UserWarning: \n",
      "This use of ``*`` has resulted in matrix multiplication.\n",
      "Using ``*`` for matrix multiplication has been deprecated since CVXPY 1.1.\n",
      "    Use ``*`` for matrix-scalar and vector-scalar multiplication.\n",
      "    Use ``@`` for matrix-matrix and matrix-vector multiplication.\n",
      "    Use ``multiply`` for elementwise multiplication.\n",
      "This code path has been hit 144 times so far.\n",
      "\n",
      "  warnings.warn(msg, UserWarning)\n"
     ]
    },
    {
     "name": "stdout",
     "output_type": "stream",
     "text": [
      "Iter 42: C = 5.2238, R_a = 5.2741, rmse = 0.2010, grad = 0.020490\n"
     ]
    },
    {
     "name": "stderr",
     "output_type": "stream",
     "text": [
      "/Users/levipremer/PycharmProjects/uk_data_electric_heating/.venv/lib/python3.12/site-packages/cvxpy/expressions/expression.py:674: UserWarning: \n",
      "This use of ``*`` has resulted in matrix multiplication.\n",
      "Using ``*`` for matrix multiplication has been deprecated since CVXPY 1.1.\n",
      "    Use ``*`` for matrix-scalar and vector-scalar multiplication.\n",
      "    Use ``@`` for matrix-matrix and matrix-vector multiplication.\n",
      "    Use ``multiply`` for elementwise multiplication.\n",
      "This code path has been hit 145 times so far.\n",
      "\n",
      "  warnings.warn(msg, UserWarning)\n"
     ]
    },
    {
     "name": "stdout",
     "output_type": "stream",
     "text": [
      "Iter 43: C = 5.2031, R_a = 5.2719, rmse = 0.2004, grad = 0.020675\n"
     ]
    },
    {
     "name": "stderr",
     "output_type": "stream",
     "text": [
      "/Users/levipremer/PycharmProjects/uk_data_electric_heating/.venv/lib/python3.12/site-packages/cvxpy/expressions/expression.py:674: UserWarning: \n",
      "This use of ``*`` has resulted in matrix multiplication.\n",
      "Using ``*`` for matrix multiplication has been deprecated since CVXPY 1.1.\n",
      "    Use ``*`` for matrix-scalar and vector-scalar multiplication.\n",
      "    Use ``@`` for matrix-matrix and matrix-vector multiplication.\n",
      "    Use ``multiply`` for elementwise multiplication.\n",
      "This code path has been hit 146 times so far.\n",
      "\n",
      "  warnings.warn(msg, UserWarning)\n"
     ]
    },
    {
     "name": "stdout",
     "output_type": "stream",
     "text": [
      "Iter 44: C = 5.1822, R_a = 5.2751, rmse = 0.1997, grad = 0.020923\n"
     ]
    },
    {
     "name": "stderr",
     "output_type": "stream",
     "text": [
      "/Users/levipremer/PycharmProjects/uk_data_electric_heating/.venv/lib/python3.12/site-packages/cvxpy/expressions/expression.py:674: UserWarning: \n",
      "This use of ``*`` has resulted in matrix multiplication.\n",
      "Using ``*`` for matrix multiplication has been deprecated since CVXPY 1.1.\n",
      "    Use ``*`` for matrix-scalar and vector-scalar multiplication.\n",
      "    Use ``@`` for matrix-matrix and matrix-vector multiplication.\n",
      "    Use ``multiply`` for elementwise multiplication.\n",
      "This code path has been hit 147 times so far.\n",
      "\n",
      "  warnings.warn(msg, UserWarning)\n"
     ]
    },
    {
     "name": "stdout",
     "output_type": "stream",
     "text": [
      "Iter 45: C = 5.1611, R_a = 5.2710, rmse = 0.1993, grad = 0.021038\n"
     ]
    },
    {
     "name": "stderr",
     "output_type": "stream",
     "text": [
      "/Users/levipremer/PycharmProjects/uk_data_electric_heating/.venv/lib/python3.12/site-packages/cvxpy/expressions/expression.py:674: UserWarning: \n",
      "This use of ``*`` has resulted in matrix multiplication.\n",
      "Using ``*`` for matrix multiplication has been deprecated since CVXPY 1.1.\n",
      "    Use ``*`` for matrix-scalar and vector-scalar multiplication.\n",
      "    Use ``@`` for matrix-matrix and matrix-vector multiplication.\n",
      "    Use ``multiply`` for elementwise multiplication.\n",
      "This code path has been hit 148 times so far.\n",
      "\n",
      "  warnings.warn(msg, UserWarning)\n"
     ]
    },
    {
     "name": "stdout",
     "output_type": "stream",
     "text": [
      "Iter 46: C = 5.1400, R_a = 5.2697, rmse = 0.1990, grad = 0.021118\n"
     ]
    },
    {
     "name": "stderr",
     "output_type": "stream",
     "text": [
      "/Users/levipremer/PycharmProjects/uk_data_electric_heating/.venv/lib/python3.12/site-packages/cvxpy/expressions/expression.py:674: UserWarning: \n",
      "This use of ``*`` has resulted in matrix multiplication.\n",
      "Using ``*`` for matrix multiplication has been deprecated since CVXPY 1.1.\n",
      "    Use ``*`` for matrix-scalar and vector-scalar multiplication.\n",
      "    Use ``@`` for matrix-matrix and matrix-vector multiplication.\n",
      "    Use ``multiply`` for elementwise multiplication.\n",
      "This code path has been hit 149 times so far.\n",
      "\n",
      "  warnings.warn(msg, UserWarning)\n"
     ]
    },
    {
     "name": "stdout",
     "output_type": "stream",
     "text": [
      "Iter 47: C = 5.1190, R_a = 5.2621, rmse = 0.1990, grad = 0.021015\n"
     ]
    },
    {
     "name": "stderr",
     "output_type": "stream",
     "text": [
      "/Users/levipremer/PycharmProjects/uk_data_electric_heating/.venv/lib/python3.12/site-packages/cvxpy/expressions/expression.py:674: UserWarning: \n",
      "This use of ``*`` has resulted in matrix multiplication.\n",
      "Using ``*`` for matrix multiplication has been deprecated since CVXPY 1.1.\n",
      "    Use ``*`` for matrix-scalar and vector-scalar multiplication.\n",
      "    Use ``@`` for matrix-matrix and matrix-vector multiplication.\n",
      "    Use ``multiply`` for elementwise multiplication.\n",
      "This code path has been hit 150 times so far.\n",
      "\n",
      "  warnings.warn(msg, UserWarning)\n"
     ]
    },
    {
     "name": "stdout",
     "output_type": "stream",
     "text": [
      "Iter 48: C = 5.0978, R_a = 5.2612, rmse = 0.1984, grad = 0.021204\n"
     ]
    },
    {
     "name": "stderr",
     "output_type": "stream",
     "text": [
      "/Users/levipremer/PycharmProjects/uk_data_electric_heating/.venv/lib/python3.12/site-packages/cvxpy/expressions/expression.py:674: UserWarning: \n",
      "This use of ``*`` has resulted in matrix multiplication.\n",
      "Using ``*`` for matrix multiplication has been deprecated since CVXPY 1.1.\n",
      "    Use ``*`` for matrix-scalar and vector-scalar multiplication.\n",
      "    Use ``@`` for matrix-matrix and matrix-vector multiplication.\n",
      "    Use ``multiply`` for elementwise multiplication.\n",
      "This code path has been hit 151 times so far.\n",
      "\n",
      "  warnings.warn(msg, UserWarning)\n"
     ]
    },
    {
     "name": "stdout",
     "output_type": "stream",
     "text": [
      "Iter 49: C = 5.0763, R_a = 5.2635, rmse = 0.1976, grad = 0.021521\n"
     ]
    },
    {
     "name": "stderr",
     "output_type": "stream",
     "text": [
      "/Users/levipremer/PycharmProjects/uk_data_electric_heating/.venv/lib/python3.12/site-packages/cvxpy/expressions/expression.py:674: UserWarning: \n",
      "This use of ``*`` has resulted in matrix multiplication.\n",
      "Using ``*`` for matrix multiplication has been deprecated since CVXPY 1.1.\n",
      "    Use ``*`` for matrix-scalar and vector-scalar multiplication.\n",
      "    Use ``@`` for matrix-matrix and matrix-vector multiplication.\n",
      "    Use ``multiply`` for elementwise multiplication.\n",
      "This code path has been hit 152 times so far.\n",
      "\n",
      "  warnings.warn(msg, UserWarning)\n"
     ]
    },
    {
     "name": "stdout",
     "output_type": "stream",
     "text": [
      "Iter 50: C = 5.0546, R_a = 5.2606, rmse = 0.1971, grad = 0.021702\n"
     ]
    },
    {
     "name": "stderr",
     "output_type": "stream",
     "text": [
      "/Users/levipremer/PycharmProjects/uk_data_electric_heating/.venv/lib/python3.12/site-packages/cvxpy/expressions/expression.py:674: UserWarning: \n",
      "This use of ``*`` has resulted in matrix multiplication.\n",
      "Using ``*`` for matrix multiplication has been deprecated since CVXPY 1.1.\n",
      "    Use ``*`` for matrix-scalar and vector-scalar multiplication.\n",
      "    Use ``@`` for matrix-matrix and matrix-vector multiplication.\n",
      "    Use ``multiply`` for elementwise multiplication.\n",
      "This code path has been hit 153 times so far.\n",
      "\n",
      "  warnings.warn(msg, UserWarning)\n"
     ]
    },
    {
     "name": "stdout",
     "output_type": "stream",
     "text": [
      "Iter 51: C = 5.0328, R_a = 5.2555, rmse = 0.1967, grad = 0.021793\n"
     ]
    },
    {
     "name": "stderr",
     "output_type": "stream",
     "text": [
      "/Users/levipremer/PycharmProjects/uk_data_electric_heating/.venv/lib/python3.12/site-packages/cvxpy/expressions/expression.py:674: UserWarning: \n",
      "This use of ``*`` has resulted in matrix multiplication.\n",
      "Using ``*`` for matrix multiplication has been deprecated since CVXPY 1.1.\n",
      "    Use ``*`` for matrix-scalar and vector-scalar multiplication.\n",
      "    Use ``@`` for matrix-matrix and matrix-vector multiplication.\n",
      "    Use ``multiply`` for elementwise multiplication.\n",
      "This code path has been hit 154 times so far.\n",
      "\n",
      "  warnings.warn(msg, UserWarning)\n"
     ]
    },
    {
     "name": "stdout",
     "output_type": "stream",
     "text": [
      "Iter 52: C = 5.0114, R_a = 5.2518, rmse = 0.1973, grad = 0.021395\n"
     ]
    },
    {
     "name": "stderr",
     "output_type": "stream",
     "text": [
      "/Users/levipremer/PycharmProjects/uk_data_electric_heating/.venv/lib/python3.12/site-packages/cvxpy/expressions/expression.py:674: UserWarning: \n",
      "This use of ``*`` has resulted in matrix multiplication.\n",
      "Using ``*`` for matrix multiplication has been deprecated since CVXPY 1.1.\n",
      "    Use ``*`` for matrix-scalar and vector-scalar multiplication.\n",
      "    Use ``@`` for matrix-matrix and matrix-vector multiplication.\n",
      "    Use ``multiply`` for elementwise multiplication.\n",
      "This code path has been hit 155 times so far.\n",
      "\n",
      "  warnings.warn(msg, UserWarning)\n"
     ]
    },
    {
     "name": "stdout",
     "output_type": "stream",
     "text": [
      "Iter 53: C = 4.9921, R_a = 5.2507, rmse = 0.2014, grad = 0.019242\n"
     ]
    },
    {
     "name": "stderr",
     "output_type": "stream",
     "text": [
      "/Users/levipremer/PycharmProjects/uk_data_electric_heating/.venv/lib/python3.12/site-packages/cvxpy/expressions/expression.py:674: UserWarning: \n",
      "This use of ``*`` has resulted in matrix multiplication.\n",
      "Using ``*`` for matrix multiplication has been deprecated since CVXPY 1.1.\n",
      "    Use ``*`` for matrix-scalar and vector-scalar multiplication.\n",
      "    Use ``@`` for matrix-matrix and matrix-vector multiplication.\n",
      "    Use ``multiply`` for elementwise multiplication.\n",
      "This code path has been hit 156 times so far.\n",
      "\n",
      "  warnings.warn(msg, UserWarning)\n"
     ]
    },
    {
     "name": "stdout",
     "output_type": "stream",
     "text": [
      "Iter 54: C = 4.9699, R_a = 5.2472, rmse = 0.1952, grad = 0.022279\n"
     ]
    },
    {
     "name": "stderr",
     "output_type": "stream",
     "text": [
      "/Users/levipremer/PycharmProjects/uk_data_electric_heating/.venv/lib/python3.12/site-packages/cvxpy/expressions/expression.py:674: UserWarning: \n",
      "This use of ``*`` has resulted in matrix multiplication.\n",
      "Using ``*`` for matrix multiplication has been deprecated since CVXPY 1.1.\n",
      "    Use ``*`` for matrix-scalar and vector-scalar multiplication.\n",
      "    Use ``@`` for matrix-matrix and matrix-vector multiplication.\n",
      "    Use ``multiply`` for elementwise multiplication.\n",
      "This code path has been hit 157 times so far.\n",
      "\n",
      "  warnings.warn(msg, UserWarning)\n"
     ]
    },
    {
     "name": "stdout",
     "output_type": "stream",
     "text": [
      "Iter 55: C = 4.9474, R_a = 5.2489, rmse = 0.1947, grad = 0.022436\n"
     ]
    },
    {
     "name": "stderr",
     "output_type": "stream",
     "text": [
      "/Users/levipremer/PycharmProjects/uk_data_electric_heating/.venv/lib/python3.12/site-packages/cvxpy/expressions/expression.py:674: UserWarning: \n",
      "This use of ``*`` has resulted in matrix multiplication.\n",
      "Using ``*`` for matrix multiplication has been deprecated since CVXPY 1.1.\n",
      "    Use ``*`` for matrix-scalar and vector-scalar multiplication.\n",
      "    Use ``@`` for matrix-matrix and matrix-vector multiplication.\n",
      "    Use ``multiply`` for elementwise multiplication.\n",
      "This code path has been hit 158 times so far.\n",
      "\n",
      "  warnings.warn(msg, UserWarning)\n"
     ]
    },
    {
     "name": "stdout",
     "output_type": "stream",
     "text": [
      "Iter 56: C = 4.9250, R_a = 5.2428, rmse = 0.1944, grad = 0.022452\n"
     ]
    },
    {
     "name": "stderr",
     "output_type": "stream",
     "text": [
      "/Users/levipremer/PycharmProjects/uk_data_electric_heating/.venv/lib/python3.12/site-packages/cvxpy/expressions/expression.py:674: UserWarning: \n",
      "This use of ``*`` has resulted in matrix multiplication.\n",
      "Using ``*`` for matrix multiplication has been deprecated since CVXPY 1.1.\n",
      "    Use ``*`` for matrix-scalar and vector-scalar multiplication.\n",
      "    Use ``@`` for matrix-matrix and matrix-vector multiplication.\n",
      "    Use ``multiply`` for elementwise multiplication.\n",
      "This code path has been hit 159 times so far.\n",
      "\n",
      "  warnings.warn(msg, UserWarning)\n"
     ]
    },
    {
     "name": "stdout",
     "output_type": "stream",
     "text": [
      "Iter 57: C = 4.9034, R_a = 5.2426, rmse = 0.1959, grad = 0.021589\n"
     ]
    },
    {
     "name": "stderr",
     "output_type": "stream",
     "text": [
      "/Users/levipremer/PycharmProjects/uk_data_electric_heating/.venv/lib/python3.12/site-packages/cvxpy/expressions/expression.py:674: UserWarning: \n",
      "This use of ``*`` has resulted in matrix multiplication.\n",
      "Using ``*`` for matrix multiplication has been deprecated since CVXPY 1.1.\n",
      "    Use ``*`` for matrix-scalar and vector-scalar multiplication.\n",
      "    Use ``@`` for matrix-matrix and matrix-vector multiplication.\n",
      "    Use ``multiply`` for elementwise multiplication.\n",
      "This code path has been hit 160 times so far.\n",
      "\n",
      "  warnings.warn(msg, UserWarning)\n"
     ]
    },
    {
     "name": "stdout",
     "output_type": "stream",
     "text": [
      "Iter 58: C = 4.8810, R_a = 5.2378, rmse = 0.1941, grad = 0.022382\n"
     ]
    },
    {
     "name": "stderr",
     "output_type": "stream",
     "text": [
      "/Users/levipremer/PycharmProjects/uk_data_electric_heating/.venv/lib/python3.12/site-packages/cvxpy/expressions/expression.py:674: UserWarning: \n",
      "This use of ``*`` has resulted in matrix multiplication.\n",
      "Using ``*`` for matrix multiplication has been deprecated since CVXPY 1.1.\n",
      "    Use ``*`` for matrix-scalar and vector-scalar multiplication.\n",
      "    Use ``@`` for matrix-matrix and matrix-vector multiplication.\n",
      "    Use ``multiply`` for elementwise multiplication.\n",
      "This code path has been hit 161 times so far.\n",
      "\n",
      "  warnings.warn(msg, UserWarning)\n"
     ]
    },
    {
     "name": "stdout",
     "output_type": "stream",
     "text": [
      "Iter 59: C = 4.8581, R_a = 5.2337, rmse = 0.1929, grad = 0.022934\n"
     ]
    },
    {
     "name": "stderr",
     "output_type": "stream",
     "text": [
      "/Users/levipremer/PycharmProjects/uk_data_electric_heating/.venv/lib/python3.12/site-packages/cvxpy/expressions/expression.py:674: UserWarning: \n",
      "This use of ``*`` has resulted in matrix multiplication.\n",
      "Using ``*`` for matrix multiplication has been deprecated since CVXPY 1.1.\n",
      "    Use ``*`` for matrix-scalar and vector-scalar multiplication.\n",
      "    Use ``@`` for matrix-matrix and matrix-vector multiplication.\n",
      "    Use ``multiply`` for elementwise multiplication.\n",
      "This code path has been hit 162 times so far.\n",
      "\n",
      "  warnings.warn(msg, UserWarning)\n"
     ]
    },
    {
     "name": "stdout",
     "output_type": "stream",
     "text": [
      "Iter 60: C = 4.8362, R_a = 5.2324, rmse = 0.1948, grad = 0.021822\n"
     ]
    },
    {
     "name": "stderr",
     "output_type": "stream",
     "text": [
      "/Users/levipremer/PycharmProjects/uk_data_electric_heating/.venv/lib/python3.12/site-packages/cvxpy/expressions/expression.py:674: UserWarning: \n",
      "This use of ``*`` has resulted in matrix multiplication.\n",
      "Using ``*`` for matrix multiplication has been deprecated since CVXPY 1.1.\n",
      "    Use ``*`` for matrix-scalar and vector-scalar multiplication.\n",
      "    Use ``@`` for matrix-matrix and matrix-vector multiplication.\n",
      "    Use ``multiply`` for elementwise multiplication.\n",
      "This code path has been hit 163 times so far.\n",
      "\n",
      "  warnings.warn(msg, UserWarning)\n"
     ]
    },
    {
     "name": "stdout",
     "output_type": "stream",
     "text": [
      "Iter 61: C = 4.8130, R_a = 5.2339, rmse = 0.1918, grad = 0.023274\n"
     ]
    },
    {
     "name": "stderr",
     "output_type": "stream",
     "text": [
      "/Users/levipremer/PycharmProjects/uk_data_electric_heating/.venv/lib/python3.12/site-packages/cvxpy/expressions/expression.py:674: UserWarning: \n",
      "This use of ``*`` has resulted in matrix multiplication.\n",
      "Using ``*`` for matrix multiplication has been deprecated since CVXPY 1.1.\n",
      "    Use ``*`` for matrix-scalar and vector-scalar multiplication.\n",
      "    Use ``@`` for matrix-matrix and matrix-vector multiplication.\n",
      "    Use ``multiply`` for elementwise multiplication.\n",
      "This code path has been hit 164 times so far.\n",
      "\n",
      "  warnings.warn(msg, UserWarning)\n"
     ]
    },
    {
     "name": "stdout",
     "output_type": "stream",
     "text": [
      "Iter 62: C = 4.7894, R_a = 5.2294, rmse = 0.1911, grad = 0.023550\n"
     ]
    },
    {
     "name": "stderr",
     "output_type": "stream",
     "text": [
      "/Users/levipremer/PycharmProjects/uk_data_electric_heating/.venv/lib/python3.12/site-packages/cvxpy/expressions/expression.py:674: UserWarning: \n",
      "This use of ``*`` has resulted in matrix multiplication.\n",
      "Using ``*`` for matrix multiplication has been deprecated since CVXPY 1.1.\n",
      "    Use ``*`` for matrix-scalar and vector-scalar multiplication.\n",
      "    Use ``@`` for matrix-matrix and matrix-vector multiplication.\n",
      "    Use ``multiply`` for elementwise multiplication.\n",
      "This code path has been hit 165 times so far.\n",
      "\n",
      "  warnings.warn(msg, UserWarning)\n"
     ]
    },
    {
     "name": "stdout",
     "output_type": "stream",
     "text": [
      "Iter 63: C = 4.7657, R_a = 5.2270, rmse = 0.1906, grad = 0.023699\n"
     ]
    },
    {
     "name": "stderr",
     "output_type": "stream",
     "text": [
      "/Users/levipremer/PycharmProjects/uk_data_electric_heating/.venv/lib/python3.12/site-packages/cvxpy/expressions/expression.py:674: UserWarning: \n",
      "This use of ``*`` has resulted in matrix multiplication.\n",
      "Using ``*`` for matrix multiplication has been deprecated since CVXPY 1.1.\n",
      "    Use ``*`` for matrix-scalar and vector-scalar multiplication.\n",
      "    Use ``@`` for matrix-matrix and matrix-vector multiplication.\n",
      "    Use ``multiply`` for elementwise multiplication.\n",
      "This code path has been hit 166 times so far.\n",
      "\n",
      "  warnings.warn(msg, UserWarning)\n"
     ]
    },
    {
     "name": "stdout",
     "output_type": "stream",
     "text": [
      "Iter 64: C = 4.7418, R_a = 5.2219, rmse = 0.1900, grad = 0.023879\n"
     ]
    },
    {
     "name": "stderr",
     "output_type": "stream",
     "text": [
      "/Users/levipremer/PycharmProjects/uk_data_electric_heating/.venv/lib/python3.12/site-packages/cvxpy/expressions/expression.py:674: UserWarning: \n",
      "This use of ``*`` has resulted in matrix multiplication.\n",
      "Using ``*`` for matrix multiplication has been deprecated since CVXPY 1.1.\n",
      "    Use ``*`` for matrix-scalar and vector-scalar multiplication.\n",
      "    Use ``@`` for matrix-matrix and matrix-vector multiplication.\n",
      "    Use ``multiply`` for elementwise multiplication.\n",
      "This code path has been hit 167 times so far.\n",
      "\n",
      "  warnings.warn(msg, UserWarning)\n"
     ]
    },
    {
     "name": "stdout",
     "output_type": "stream",
     "text": [
      "Iter 65: C = 4.7178, R_a = 5.2203, rmse = 0.1894, grad = 0.024071\n"
     ]
    },
    {
     "name": "stderr",
     "output_type": "stream",
     "text": [
      "/Users/levipremer/PycharmProjects/uk_data_electric_heating/.venv/lib/python3.12/site-packages/cvxpy/expressions/expression.py:674: UserWarning: \n",
      "This use of ``*`` has resulted in matrix multiplication.\n",
      "Using ``*`` for matrix multiplication has been deprecated since CVXPY 1.1.\n",
      "    Use ``*`` for matrix-scalar and vector-scalar multiplication.\n",
      "    Use ``@`` for matrix-matrix and matrix-vector multiplication.\n",
      "    Use ``multiply`` for elementwise multiplication.\n",
      "This code path has been hit 168 times so far.\n",
      "\n",
      "  warnings.warn(msg, UserWarning)\n"
     ]
    },
    {
     "name": "stdout",
     "output_type": "stream",
     "text": [
      "Iter 66: C = 4.6935, R_a = 5.2185, rmse = 0.1888, grad = 0.024266\n"
     ]
    },
    {
     "name": "stderr",
     "output_type": "stream",
     "text": [
      "/Users/levipremer/PycharmProjects/uk_data_electric_heating/.venv/lib/python3.12/site-packages/cvxpy/expressions/expression.py:674: UserWarning: \n",
      "This use of ``*`` has resulted in matrix multiplication.\n",
      "Using ``*`` for matrix multiplication has been deprecated since CVXPY 1.1.\n",
      "    Use ``*`` for matrix-scalar and vector-scalar multiplication.\n",
      "    Use ``@`` for matrix-matrix and matrix-vector multiplication.\n",
      "    Use ``multiply`` for elementwise multiplication.\n",
      "This code path has been hit 169 times so far.\n",
      "\n",
      "  warnings.warn(msg, UserWarning)\n"
     ]
    },
    {
     "name": "stdout",
     "output_type": "stream",
     "text": [
      "Iter 67: C = 4.6692, R_a = 5.2164, rmse = 0.1884, grad = 0.024324\n"
     ]
    },
    {
     "name": "stderr",
     "output_type": "stream",
     "text": [
      "/Users/levipremer/PycharmProjects/uk_data_electric_heating/.venv/lib/python3.12/site-packages/cvxpy/expressions/expression.py:674: UserWarning: \n",
      "This use of ``*`` has resulted in matrix multiplication.\n",
      "Using ``*`` for matrix multiplication has been deprecated since CVXPY 1.1.\n",
      "    Use ``*`` for matrix-scalar and vector-scalar multiplication.\n",
      "    Use ``@`` for matrix-matrix and matrix-vector multiplication.\n",
      "    Use ``multiply`` for elementwise multiplication.\n",
      "This code path has been hit 170 times so far.\n",
      "\n",
      "  warnings.warn(msg, UserWarning)\n"
     ]
    },
    {
     "name": "stdout",
     "output_type": "stream",
     "text": [
      "Iter 68: C = 4.6446, R_a = 5.2138, rmse = 0.1877, grad = 0.024575\n"
     ]
    },
    {
     "name": "stderr",
     "output_type": "stream",
     "text": [
      "/Users/levipremer/PycharmProjects/uk_data_electric_heating/.venv/lib/python3.12/site-packages/cvxpy/expressions/expression.py:674: UserWarning: \n",
      "This use of ``*`` has resulted in matrix multiplication.\n",
      "Using ``*`` for matrix multiplication has been deprecated since CVXPY 1.1.\n",
      "    Use ``*`` for matrix-scalar and vector-scalar multiplication.\n",
      "    Use ``@`` for matrix-matrix and matrix-vector multiplication.\n",
      "    Use ``multiply`` for elementwise multiplication.\n",
      "This code path has been hit 171 times so far.\n",
      "\n",
      "  warnings.warn(msg, UserWarning)\n"
     ]
    },
    {
     "name": "stdout",
     "output_type": "stream",
     "text": [
      "Iter 69: C = 4.6212, R_a = 5.2072, rmse = 0.1896, grad = 0.023384\n"
     ]
    },
    {
     "name": "stderr",
     "output_type": "stream",
     "text": [
      "/Users/levipremer/PycharmProjects/uk_data_electric_heating/.venv/lib/python3.12/site-packages/cvxpy/expressions/expression.py:674: UserWarning: \n",
      "This use of ``*`` has resulted in matrix multiplication.\n",
      "Using ``*`` for matrix multiplication has been deprecated since CVXPY 1.1.\n",
      "    Use ``*`` for matrix-scalar and vector-scalar multiplication.\n",
      "    Use ``@`` for matrix-matrix and matrix-vector multiplication.\n",
      "    Use ``multiply`` for elementwise multiplication.\n",
      "This code path has been hit 172 times so far.\n",
      "\n",
      "  warnings.warn(msg, UserWarning)\n"
     ]
    },
    {
     "name": "stdout",
     "output_type": "stream",
     "text": [
      "Iter 70: C = 4.5963, R_a = 5.2064, rmse = 0.1866, grad = 0.024888\n"
     ]
    },
    {
     "name": "stderr",
     "output_type": "stream",
     "text": [
      "/Users/levipremer/PycharmProjects/uk_data_electric_heating/.venv/lib/python3.12/site-packages/cvxpy/expressions/expression.py:674: UserWarning: \n",
      "This use of ``*`` has resulted in matrix multiplication.\n",
      "Using ``*`` for matrix multiplication has been deprecated since CVXPY 1.1.\n",
      "    Use ``*`` for matrix-scalar and vector-scalar multiplication.\n",
      "    Use ``@`` for matrix-matrix and matrix-vector multiplication.\n",
      "    Use ``multiply`` for elementwise multiplication.\n",
      "This code path has been hit 173 times so far.\n",
      "\n",
      "  warnings.warn(msg, UserWarning)\n"
     ]
    },
    {
     "name": "stdout",
     "output_type": "stream",
     "text": [
      "Iter 71: C = 4.5711, R_a = 5.2062, rmse = 0.1858, grad = 0.025224\n"
     ]
    },
    {
     "name": "stderr",
     "output_type": "stream",
     "text": [
      "/Users/levipremer/PycharmProjects/uk_data_electric_heating/.venv/lib/python3.12/site-packages/cvxpy/expressions/expression.py:674: UserWarning: \n",
      "This use of ``*`` has resulted in matrix multiplication.\n",
      "Using ``*`` for matrix multiplication has been deprecated since CVXPY 1.1.\n",
      "    Use ``*`` for matrix-scalar and vector-scalar multiplication.\n",
      "    Use ``@`` for matrix-matrix and matrix-vector multiplication.\n",
      "    Use ``multiply`` for elementwise multiplication.\n",
      "This code path has been hit 174 times so far.\n",
      "\n",
      "  warnings.warn(msg, UserWarning)\n"
     ]
    },
    {
     "name": "stdout",
     "output_type": "stream",
     "text": [
      "Iter 72: C = 4.5457, R_a = 5.2035, rmse = 0.1852, grad = 0.025410\n"
     ]
    },
    {
     "name": "stderr",
     "output_type": "stream",
     "text": [
      "/Users/levipremer/PycharmProjects/uk_data_electric_heating/.venv/lib/python3.12/site-packages/cvxpy/expressions/expression.py:674: UserWarning: \n",
      "This use of ``*`` has resulted in matrix multiplication.\n",
      "Using ``*`` for matrix multiplication has been deprecated since CVXPY 1.1.\n",
      "    Use ``*`` for matrix-scalar and vector-scalar multiplication.\n",
      "    Use ``@`` for matrix-matrix and matrix-vector multiplication.\n",
      "    Use ``multiply`` for elementwise multiplication.\n",
      "This code path has been hit 175 times so far.\n",
      "\n",
      "  warnings.warn(msg, UserWarning)\n"
     ]
    },
    {
     "name": "stdout",
     "output_type": "stream",
     "text": [
      "Iter 73: C = 4.5204, R_a = 5.1993, rmse = 0.1851, grad = 0.025297\n"
     ]
    },
    {
     "name": "stderr",
     "output_type": "stream",
     "text": [
      "/Users/levipremer/PycharmProjects/uk_data_electric_heating/.venv/lib/python3.12/site-packages/cvxpy/expressions/expression.py:674: UserWarning: \n",
      "This use of ``*`` has resulted in matrix multiplication.\n",
      "Using ``*`` for matrix multiplication has been deprecated since CVXPY 1.1.\n",
      "    Use ``*`` for matrix-scalar and vector-scalar multiplication.\n",
      "    Use ``@`` for matrix-matrix and matrix-vector multiplication.\n",
      "    Use ``multiply`` for elementwise multiplication.\n",
      "This code path has been hit 176 times so far.\n",
      "\n",
      "  warnings.warn(msg, UserWarning)\n"
     ]
    },
    {
     "name": "stdout",
     "output_type": "stream",
     "text": [
      "Iter 74: C = 4.4949, R_a = 5.1961, rmse = 0.1843, grad = 0.025554\n"
     ]
    },
    {
     "name": "stderr",
     "output_type": "stream",
     "text": [
      "/Users/levipremer/PycharmProjects/uk_data_electric_heating/.venv/lib/python3.12/site-packages/cvxpy/expressions/expression.py:674: UserWarning: \n",
      "This use of ``*`` has resulted in matrix multiplication.\n",
      "Using ``*`` for matrix multiplication has been deprecated since CVXPY 1.1.\n",
      "    Use ``*`` for matrix-scalar and vector-scalar multiplication.\n",
      "    Use ``@`` for matrix-matrix and matrix-vector multiplication.\n",
      "    Use ``multiply`` for elementwise multiplication.\n",
      "This code path has been hit 177 times so far.\n",
      "\n",
      "  warnings.warn(msg, UserWarning)\n"
     ]
    },
    {
     "name": "stdout",
     "output_type": "stream",
     "text": [
      "Iter 75: C = 4.4692, R_a = 5.1946, rmse = 0.1839, grad = 0.025654\n"
     ]
    },
    {
     "name": "stderr",
     "output_type": "stream",
     "text": [
      "/Users/levipremer/PycharmProjects/uk_data_electric_heating/.venv/lib/python3.12/site-packages/cvxpy/expressions/expression.py:674: UserWarning: \n",
      "This use of ``*`` has resulted in matrix multiplication.\n",
      "Using ``*`` for matrix multiplication has been deprecated since CVXPY 1.1.\n",
      "    Use ``*`` for matrix-scalar and vector-scalar multiplication.\n",
      "    Use ``@`` for matrix-matrix and matrix-vector multiplication.\n",
      "    Use ``multiply`` for elementwise multiplication.\n",
      "This code path has been hit 178 times so far.\n",
      "\n",
      "  warnings.warn(msg, UserWarning)\n"
     ]
    },
    {
     "name": "stdout",
     "output_type": "stream",
     "text": [
      "Iter 76: C = 4.4433, R_a = 5.1901, rmse = 0.1831, grad = 0.025944\n"
     ]
    },
    {
     "name": "stderr",
     "output_type": "stream",
     "text": [
      "/Users/levipremer/PycharmProjects/uk_data_electric_heating/.venv/lib/python3.12/site-packages/cvxpy/expressions/expression.py:674: UserWarning: \n",
      "This use of ``*`` has resulted in matrix multiplication.\n",
      "Using ``*`` for matrix multiplication has been deprecated since CVXPY 1.1.\n",
      "    Use ``*`` for matrix-scalar and vector-scalar multiplication.\n",
      "    Use ``@`` for matrix-matrix and matrix-vector multiplication.\n",
      "    Use ``multiply`` for elementwise multiplication.\n",
      "This code path has been hit 179 times so far.\n",
      "\n",
      "  warnings.warn(msg, UserWarning)\n"
     ]
    },
    {
     "name": "stdout",
     "output_type": "stream",
     "text": [
      "Iter 77: C = 4.4167, R_a = 5.1898, rmse = 0.1818, grad = 0.026514\n"
     ]
    },
    {
     "name": "stderr",
     "output_type": "stream",
     "text": [
      "/Users/levipremer/PycharmProjects/uk_data_electric_heating/.venv/lib/python3.12/site-packages/cvxpy/expressions/expression.py:674: UserWarning: \n",
      "This use of ``*`` has resulted in matrix multiplication.\n",
      "Using ``*`` for matrix multiplication has been deprecated since CVXPY 1.1.\n",
      "    Use ``*`` for matrix-scalar and vector-scalar multiplication.\n",
      "    Use ``@`` for matrix-matrix and matrix-vector multiplication.\n",
      "    Use ``multiply`` for elementwise multiplication.\n",
      "This code path has been hit 180 times so far.\n",
      "\n",
      "  warnings.warn(msg, UserWarning)\n"
     ]
    },
    {
     "name": "stdout",
     "output_type": "stream",
     "text": [
      "Iter 78: C = 4.3900, R_a = 5.1855, rmse = 0.1812, grad = 0.026705\n"
     ]
    },
    {
     "name": "stderr",
     "output_type": "stream",
     "text": [
      "/Users/levipremer/PycharmProjects/uk_data_electric_heating/.venv/lib/python3.12/site-packages/cvxpy/expressions/expression.py:674: UserWarning: \n",
      "This use of ``*`` has resulted in matrix multiplication.\n",
      "Using ``*`` for matrix multiplication has been deprecated since CVXPY 1.1.\n",
      "    Use ``*`` for matrix-scalar and vector-scalar multiplication.\n",
      "    Use ``@`` for matrix-matrix and matrix-vector multiplication.\n",
      "    Use ``multiply`` for elementwise multiplication.\n",
      "This code path has been hit 181 times so far.\n",
      "\n",
      "  warnings.warn(msg, UserWarning)\n"
     ]
    },
    {
     "name": "stdout",
     "output_type": "stream",
     "text": [
      "Iter 79: C = 4.3631, R_a = 5.1827, rmse = 0.1804, grad = 0.026978\n"
     ]
    },
    {
     "name": "stderr",
     "output_type": "stream",
     "text": [
      "/Users/levipremer/PycharmProjects/uk_data_electric_heating/.venv/lib/python3.12/site-packages/cvxpy/expressions/expression.py:674: UserWarning: \n",
      "This use of ``*`` has resulted in matrix multiplication.\n",
      "Using ``*`` for matrix multiplication has been deprecated since CVXPY 1.1.\n",
      "    Use ``*`` for matrix-scalar and vector-scalar multiplication.\n",
      "    Use ``@`` for matrix-matrix and matrix-vector multiplication.\n",
      "    Use ``multiply`` for elementwise multiplication.\n",
      "This code path has been hit 182 times so far.\n",
      "\n",
      "  warnings.warn(msg, UserWarning)\n"
     ]
    },
    {
     "name": "stdout",
     "output_type": "stream",
     "text": [
      "Iter 80: C = 4.3358, R_a = 5.1796, rmse = 0.1796, grad = 0.027223\n"
     ]
    },
    {
     "name": "stderr",
     "output_type": "stream",
     "text": [
      "/Users/levipremer/PycharmProjects/uk_data_electric_heating/.venv/lib/python3.12/site-packages/cvxpy/expressions/expression.py:674: UserWarning: \n",
      "This use of ``*`` has resulted in matrix multiplication.\n",
      "Using ``*`` for matrix multiplication has been deprecated since CVXPY 1.1.\n",
      "    Use ``*`` for matrix-scalar and vector-scalar multiplication.\n",
      "    Use ``@`` for matrix-matrix and matrix-vector multiplication.\n",
      "    Use ``multiply`` for elementwise multiplication.\n",
      "This code path has been hit 183 times so far.\n",
      "\n",
      "  warnings.warn(msg, UserWarning)\n"
     ]
    },
    {
     "name": "stdout",
     "output_type": "stream",
     "text": [
      "Iter 81: C = 4.3089, R_a = 5.1711, rmse = 0.1797, grad = 0.026964\n"
     ]
    },
    {
     "name": "stderr",
     "output_type": "stream",
     "text": [
      "/Users/levipremer/PycharmProjects/uk_data_electric_heating/.venv/lib/python3.12/site-packages/cvxpy/expressions/expression.py:674: UserWarning: \n",
      "This use of ``*`` has resulted in matrix multiplication.\n",
      "Using ``*`` for matrix multiplication has been deprecated since CVXPY 1.1.\n",
      "    Use ``*`` for matrix-scalar and vector-scalar multiplication.\n",
      "    Use ``@`` for matrix-matrix and matrix-vector multiplication.\n",
      "    Use ``multiply`` for elementwise multiplication.\n",
      "This code path has been hit 184 times so far.\n",
      "\n",
      "  warnings.warn(msg, UserWarning)\n"
     ]
    },
    {
     "name": "stdout",
     "output_type": "stream",
     "text": [
      "Iter 82: C = 4.2813, R_a = 5.1707, rmse = 0.1783, grad = 0.027612\n"
     ]
    },
    {
     "name": "stderr",
     "output_type": "stream",
     "text": [
      "/Users/levipremer/PycharmProjects/uk_data_electric_heating/.venv/lib/python3.12/site-packages/cvxpy/expressions/expression.py:674: UserWarning: \n",
      "This use of ``*`` has resulted in matrix multiplication.\n",
      "Using ``*`` for matrix multiplication has been deprecated since CVXPY 1.1.\n",
      "    Use ``*`` for matrix-scalar and vector-scalar multiplication.\n",
      "    Use ``@`` for matrix-matrix and matrix-vector multiplication.\n",
      "    Use ``multiply`` for elementwise multiplication.\n",
      "This code path has been hit 185 times so far.\n",
      "\n",
      "  warnings.warn(msg, UserWarning)\n"
     ]
    },
    {
     "name": "stdout",
     "output_type": "stream",
     "text": [
      "Iter 83: C = 4.2543, R_a = 5.1682, rmse = 0.1790, grad = 0.026972\n"
     ]
    },
    {
     "name": "stderr",
     "output_type": "stream",
     "text": [
      "/Users/levipremer/PycharmProjects/uk_data_electric_heating/.venv/lib/python3.12/site-packages/cvxpy/expressions/expression.py:674: UserWarning: \n",
      "This use of ``*`` has resulted in matrix multiplication.\n",
      "Using ``*`` for matrix multiplication has been deprecated since CVXPY 1.1.\n",
      "    Use ``*`` for matrix-scalar and vector-scalar multiplication.\n",
      "    Use ``@`` for matrix-matrix and matrix-vector multiplication.\n",
      "    Use ``multiply`` for elementwise multiplication.\n",
      "This code path has been hit 186 times so far.\n",
      "\n",
      "  warnings.warn(msg, UserWarning)\n"
     ]
    },
    {
     "name": "stdout",
     "output_type": "stream",
     "text": [
      "Iter 84: C = 4.2264, R_a = 5.1627, rmse = 0.1772, grad = 0.027860\n"
     ]
    },
    {
     "name": "stderr",
     "output_type": "stream",
     "text": [
      "/Users/levipremer/PycharmProjects/uk_data_electric_heating/.venv/lib/python3.12/site-packages/cvxpy/expressions/expression.py:674: UserWarning: \n",
      "This use of ``*`` has resulted in matrix multiplication.\n",
      "Using ``*`` for matrix multiplication has been deprecated since CVXPY 1.1.\n",
      "    Use ``*`` for matrix-scalar and vector-scalar multiplication.\n",
      "    Use ``@`` for matrix-matrix and matrix-vector multiplication.\n",
      "    Use ``multiply`` for elementwise multiplication.\n",
      "This code path has been hit 187 times so far.\n",
      "\n",
      "  warnings.warn(msg, UserWarning)\n"
     ]
    },
    {
     "name": "stdout",
     "output_type": "stream",
     "text": [
      "Iter 85: C = 4.1990, R_a = 5.1557, rmse = 0.1774, grad = 0.027472\n"
     ]
    },
    {
     "name": "stderr",
     "output_type": "stream",
     "text": [
      "/Users/levipremer/PycharmProjects/uk_data_electric_heating/.venv/lib/python3.12/site-packages/cvxpy/expressions/expression.py:674: UserWarning: \n",
      "This use of ``*`` has resulted in matrix multiplication.\n",
      "Using ``*`` for matrix multiplication has been deprecated since CVXPY 1.1.\n",
      "    Use ``*`` for matrix-scalar and vector-scalar multiplication.\n",
      "    Use ``@`` for matrix-matrix and matrix-vector multiplication.\n",
      "    Use ``multiply`` for elementwise multiplication.\n",
      "This code path has been hit 188 times so far.\n",
      "\n",
      "  warnings.warn(msg, UserWarning)\n"
     ]
    },
    {
     "name": "stdout",
     "output_type": "stream",
     "text": [
      "Iter 86: C = 4.1702, R_a = 5.1530, rmse = 0.1751, grad = 0.028707\n"
     ]
    },
    {
     "name": "stderr",
     "output_type": "stream",
     "text": [
      "/Users/levipremer/PycharmProjects/uk_data_electric_heating/.venv/lib/python3.12/site-packages/cvxpy/expressions/expression.py:674: UserWarning: \n",
      "This use of ``*`` has resulted in matrix multiplication.\n",
      "Using ``*`` for matrix multiplication has been deprecated since CVXPY 1.1.\n",
      "    Use ``*`` for matrix-scalar and vector-scalar multiplication.\n",
      "    Use ``@`` for matrix-matrix and matrix-vector multiplication.\n",
      "    Use ``multiply`` for elementwise multiplication.\n",
      "This code path has been hit 189 times so far.\n",
      "\n",
      "  warnings.warn(msg, UserWarning)\n"
     ]
    },
    {
     "name": "stdout",
     "output_type": "stream",
     "text": [
      "Iter 87: C = 4.1412, R_a = 5.1533, rmse = 0.1742, grad = 0.029027\n"
     ]
    },
    {
     "name": "stderr",
     "output_type": "stream",
     "text": [
      "/Users/levipremer/PycharmProjects/uk_data_electric_heating/.venv/lib/python3.12/site-packages/cvxpy/expressions/expression.py:674: UserWarning: \n",
      "This use of ``*`` has resulted in matrix multiplication.\n",
      "Using ``*`` for matrix multiplication has been deprecated since CVXPY 1.1.\n",
      "    Use ``*`` for matrix-scalar and vector-scalar multiplication.\n",
      "    Use ``@`` for matrix-matrix and matrix-vector multiplication.\n",
      "    Use ``multiply`` for elementwise multiplication.\n",
      "This code path has been hit 190 times so far.\n",
      "\n",
      "  warnings.warn(msg, UserWarning)\n"
     ]
    },
    {
     "name": "stdout",
     "output_type": "stream",
     "text": [
      "Iter 88: C = 4.1126, R_a = 5.1460, rmse = 0.1745, grad = 0.028592\n"
     ]
    },
    {
     "name": "stderr",
     "output_type": "stream",
     "text": [
      "/Users/levipremer/PycharmProjects/uk_data_electric_heating/.venv/lib/python3.12/site-packages/cvxpy/expressions/expression.py:674: UserWarning: \n",
      "This use of ``*`` has resulted in matrix multiplication.\n",
      "Using ``*`` for matrix multiplication has been deprecated since CVXPY 1.1.\n",
      "    Use ``*`` for matrix-scalar and vector-scalar multiplication.\n",
      "    Use ``@`` for matrix-matrix and matrix-vector multiplication.\n",
      "    Use ``multiply`` for elementwise multiplication.\n",
      "This code path has been hit 191 times so far.\n",
      "\n",
      "  warnings.warn(msg, UserWarning)\n"
     ]
    },
    {
     "name": "stdout",
     "output_type": "stream",
     "text": [
      "Iter 89: C = 4.0830, R_a = 5.1437, rmse = 0.1725, grad = 0.029599\n"
     ]
    },
    {
     "name": "stderr",
     "output_type": "stream",
     "text": [
      "/Users/levipremer/PycharmProjects/uk_data_electric_heating/.venv/lib/python3.12/site-packages/cvxpy/expressions/expression.py:674: UserWarning: \n",
      "This use of ``*`` has resulted in matrix multiplication.\n",
      "Using ``*`` for matrix multiplication has been deprecated since CVXPY 1.1.\n",
      "    Use ``*`` for matrix-scalar and vector-scalar multiplication.\n",
      "    Use ``@`` for matrix-matrix and matrix-vector multiplication.\n",
      "    Use ``multiply`` for elementwise multiplication.\n",
      "This code path has been hit 192 times so far.\n",
      "\n",
      "  warnings.warn(msg, UserWarning)\n"
     ]
    },
    {
     "name": "stdout",
     "output_type": "stream",
     "text": [
      "Iter 90: C = 4.0531, R_a = 5.1405, rmse = 0.1716, grad = 0.029911\n"
     ]
    },
    {
     "name": "stderr",
     "output_type": "stream",
     "text": [
      "/Users/levipremer/PycharmProjects/uk_data_electric_heating/.venv/lib/python3.12/site-packages/cvxpy/expressions/expression.py:674: UserWarning: \n",
      "This use of ``*`` has resulted in matrix multiplication.\n",
      "Using ``*`` for matrix multiplication has been deprecated since CVXPY 1.1.\n",
      "    Use ``*`` for matrix-scalar and vector-scalar multiplication.\n",
      "    Use ``@`` for matrix-matrix and matrix-vector multiplication.\n",
      "    Use ``multiply`` for elementwise multiplication.\n",
      "This code path has been hit 193 times so far.\n",
      "\n",
      "  warnings.warn(msg, UserWarning)\n"
     ]
    },
    {
     "name": "stdout",
     "output_type": "stream",
     "text": [
      "Iter 91: C = 4.0229, R_a = 5.1333, rmse = 0.1708, grad = 0.030195\n"
     ]
    },
    {
     "name": "stderr",
     "output_type": "stream",
     "text": [
      "/Users/levipremer/PycharmProjects/uk_data_electric_heating/.venv/lib/python3.12/site-packages/cvxpy/expressions/expression.py:674: UserWarning: \n",
      "This use of ``*`` has resulted in matrix multiplication.\n",
      "Using ``*`` for matrix multiplication has been deprecated since CVXPY 1.1.\n",
      "    Use ``*`` for matrix-scalar and vector-scalar multiplication.\n",
      "    Use ``@`` for matrix-matrix and matrix-vector multiplication.\n",
      "    Use ``multiply`` for elementwise multiplication.\n",
      "This code path has been hit 194 times so far.\n",
      "\n",
      "  warnings.warn(msg, UserWarning)\n"
     ]
    },
    {
     "name": "stdout",
     "output_type": "stream",
     "text": [
      "Iter 92: C = 3.9924, R_a = 5.1304, rmse = 0.1699, grad = 0.030502\n"
     ]
    },
    {
     "name": "stderr",
     "output_type": "stream",
     "text": [
      "/Users/levipremer/PycharmProjects/uk_data_electric_heating/.venv/lib/python3.12/site-packages/cvxpy/expressions/expression.py:674: UserWarning: \n",
      "This use of ``*`` has resulted in matrix multiplication.\n",
      "Using ``*`` for matrix multiplication has been deprecated since CVXPY 1.1.\n",
      "    Use ``*`` for matrix-scalar and vector-scalar multiplication.\n",
      "    Use ``@`` for matrix-matrix and matrix-vector multiplication.\n",
      "    Use ``multiply`` for elementwise multiplication.\n",
      "This code path has been hit 195 times so far.\n",
      "\n",
      "  warnings.warn(msg, UserWarning)\n"
     ]
    },
    {
     "name": "stdout",
     "output_type": "stream",
     "text": [
      "Iter 93: C = 3.9616, R_a = 5.1267, rmse = 0.1689, grad = 0.030856\n"
     ]
    },
    {
     "name": "stderr",
     "output_type": "stream",
     "text": [
      "/Users/levipremer/PycharmProjects/uk_data_electric_heating/.venv/lib/python3.12/site-packages/cvxpy/expressions/expression.py:674: UserWarning: \n",
      "This use of ``*`` has resulted in matrix multiplication.\n",
      "Using ``*`` for matrix multiplication has been deprecated since CVXPY 1.1.\n",
      "    Use ``*`` for matrix-scalar and vector-scalar multiplication.\n",
      "    Use ``@`` for matrix-matrix and matrix-vector multiplication.\n",
      "    Use ``multiply`` for elementwise multiplication.\n",
      "This code path has been hit 196 times so far.\n",
      "\n",
      "  warnings.warn(msg, UserWarning)\n"
     ]
    },
    {
     "name": "stdout",
     "output_type": "stream",
     "text": [
      "Iter 94: C = 3.9306, R_a = 5.1179, rmse = 0.1683, grad = 0.030931\n"
     ]
    },
    {
     "name": "stderr",
     "output_type": "stream",
     "text": [
      "/Users/levipremer/PycharmProjects/uk_data_electric_heating/.venv/lib/python3.12/site-packages/cvxpy/expressions/expression.py:674: UserWarning: \n",
      "This use of ``*`` has resulted in matrix multiplication.\n",
      "Using ``*`` for matrix multiplication has been deprecated since CVXPY 1.1.\n",
      "    Use ``*`` for matrix-scalar and vector-scalar multiplication.\n",
      "    Use ``@`` for matrix-matrix and matrix-vector multiplication.\n",
      "    Use ``multiply`` for elementwise multiplication.\n",
      "This code path has been hit 197 times so far.\n",
      "\n",
      "  warnings.warn(msg, UserWarning)\n"
     ]
    },
    {
     "name": "stdout",
     "output_type": "stream",
     "text": [
      "Iter 95: C = 3.8991, R_a = 5.1125, rmse = 0.1669, grad = 0.031517\n"
     ]
    },
    {
     "name": "stderr",
     "output_type": "stream",
     "text": [
      "/Users/levipremer/PycharmProjects/uk_data_electric_heating/.venv/lib/python3.12/site-packages/cvxpy/expressions/expression.py:674: UserWarning: \n",
      "This use of ``*`` has resulted in matrix multiplication.\n",
      "Using ``*`` for matrix multiplication has been deprecated since CVXPY 1.1.\n",
      "    Use ``*`` for matrix-scalar and vector-scalar multiplication.\n",
      "    Use ``@`` for matrix-matrix and matrix-vector multiplication.\n",
      "    Use ``multiply`` for elementwise multiplication.\n",
      "This code path has been hit 198 times so far.\n",
      "\n",
      "  warnings.warn(msg, UserWarning)\n"
     ]
    },
    {
     "name": "stdout",
     "output_type": "stream",
     "text": [
      "Iter 96: C = 3.8676, R_a = 5.1060, rmse = 0.1664, grad = 0.031553\n"
     ]
    },
    {
     "name": "stderr",
     "output_type": "stream",
     "text": [
      "/Users/levipremer/PycharmProjects/uk_data_electric_heating/.venv/lib/python3.12/site-packages/cvxpy/expressions/expression.py:674: UserWarning: \n",
      "This use of ``*`` has resulted in matrix multiplication.\n",
      "Using ``*`` for matrix multiplication has been deprecated since CVXPY 1.1.\n",
      "    Use ``*`` for matrix-scalar and vector-scalar multiplication.\n",
      "    Use ``@`` for matrix-matrix and matrix-vector multiplication.\n",
      "    Use ``multiply`` for elementwise multiplication.\n",
      "This code path has been hit 199 times so far.\n",
      "\n",
      "  warnings.warn(msg, UserWarning)\n"
     ]
    },
    {
     "name": "stdout",
     "output_type": "stream",
     "text": [
      "Iter 97: C = 3.8354, R_a = 5.1058, rmse = 0.1649, grad = 0.032211\n"
     ]
    },
    {
     "name": "stderr",
     "output_type": "stream",
     "text": [
      "/Users/levipremer/PycharmProjects/uk_data_electric_heating/.venv/lib/python3.12/site-packages/cvxpy/expressions/expression.py:674: UserWarning: \n",
      "This use of ``*`` has resulted in matrix multiplication.\n",
      "Using ``*`` for matrix multiplication has been deprecated since CVXPY 1.1.\n",
      "    Use ``*`` for matrix-scalar and vector-scalar multiplication.\n",
      "    Use ``@`` for matrix-matrix and matrix-vector multiplication.\n",
      "    Use ``multiply`` for elementwise multiplication.\n",
      "This code path has been hit 200 times so far.\n",
      "\n",
      "  warnings.warn(msg, UserWarning)\n"
     ]
    },
    {
     "name": "stdout",
     "output_type": "stream",
     "text": [
      "Iter 98: C = 3.8043, R_a = 5.0970, rmse = 0.1660, grad = 0.031082\n"
     ]
    },
    {
     "name": "stderr",
     "output_type": "stream",
     "text": [
      "/Users/levipremer/PycharmProjects/uk_data_electric_heating/.venv/lib/python3.12/site-packages/cvxpy/expressions/expression.py:674: UserWarning: \n",
      "This use of ``*`` has resulted in matrix multiplication.\n",
      "Using ``*`` for matrix multiplication has been deprecated since CVXPY 1.1.\n",
      "    Use ``*`` for matrix-scalar and vector-scalar multiplication.\n",
      "    Use ``@`` for matrix-matrix and matrix-vector multiplication.\n",
      "    Use ``multiply`` for elementwise multiplication.\n",
      "This code path has been hit 201 times so far.\n",
      "\n",
      "  warnings.warn(msg, UserWarning)\n"
     ]
    },
    {
     "name": "stdout",
     "output_type": "stream",
     "text": [
      "Iter 99: C = 3.7714, R_a = 5.0896, rmse = 0.1629, grad = 0.032890\n"
     ]
    },
    {
     "name": "stderr",
     "output_type": "stream",
     "text": [
      "/Users/levipremer/PycharmProjects/uk_data_electric_heating/.venv/lib/python3.12/site-packages/cvxpy/expressions/expression.py:674: UserWarning: \n",
      "This use of ``*`` has resulted in matrix multiplication.\n",
      "Using ``*`` for matrix multiplication has been deprecated since CVXPY 1.1.\n",
      "    Use ``*`` for matrix-scalar and vector-scalar multiplication.\n",
      "    Use ``@`` for matrix-matrix and matrix-vector multiplication.\n",
      "    Use ``multiply`` for elementwise multiplication.\n",
      "This code path has been hit 202 times so far.\n",
      "\n",
      "  warnings.warn(msg, UserWarning)\n"
     ]
    },
    {
     "name": "stdout",
     "output_type": "stream",
     "text": [
      "Iter 100: C = 3.7381, R_a = 5.0844, rmse = 0.1619, grad = 0.033236\n",
      "⚠️ Exited after 100 iterations (not fully converged). Final |grad|=3.323578e-02\n"
     ]
    }
   ],
   "execution_count": 63
  },
  {
   "metadata": {
    "ExecuteTime": {
     "end_time": "2025-07-18T11:37:42.971675Z",
     "start_time": "2025-07-18T11:37:20.476457Z"
    }
   },
   "cell_type": "code",
   "source": [
    "def solve_inner(C):\n",
    "    \"\"\"Solve inner CVXPY problem for a given C and return parameters + metrics.\"\"\"\n",
    "    N = len(delta_T_i)\n",
    "    Q_sc = np.sum(q_hp) - 4075 - SPC_sum + DHW_sum\n",
    "\n",
    "    # CVXPY variables\n",
    "    a   = cp.Variable(pos=True)\n",
    "    w_s = cp.Variable(nonneg=True)\n",
    "    w_w = cp.Variable(nonneg=True)\n",
    "    w   = cp.Variable()\n",
    "    e   = cp.Variable()\n",
    "    z   = cp.Variable(N, nonneg=True)\n",
    "    u   = cp.Variable(N)\n",
    "    q_hat = cp.Variable(N)\n",
    "\n",
    "    # Expression\n",
    "    expr = (delta_T_a * a * delta_t + q_hat + w_s * q_solar + w * np.ones\n",
    "    (N) * delta_t)\n",
    "\n",
    "    # Constraints\n",
    "    constraints = [\n",
    "        cp.sum(q_hat) - Q_sc == e,\n",
    "        delta_T_i + u == expr / C,\n",
    "        q_hat >= 0,\n",
    "        q_hat <= q_hp + z,\n",
    "        q_hat <= 9,\n",
    "        a >= 1/30,\n",
    "        a <= 1/5\n",
    "    ]\n",
    "\n",
    "    # Objective weights\n",
    "    phi_e = 0.1\n",
    "    phi_z = 0.001\n",
    "    phi_u = 2000\n",
    "    objective = cp.Minimize(\n",
    "        phi_e * e**2 +\n",
    "        phi_z * cp.norm2(z) +\n",
    "        phi_u * cp.norm2(u) +\n",
    "        phi_z * cp.maximum(0, -(q_hat+z)).sum()\n",
    "    )\n",
    "\n",
    "    prob = cp.Problem(objective, constraints)\n",
    "    _ = prob.solve(solver=cp.GUROBI, verbose=False)\n",
    "\n",
    "    # Extract values\n",
    "    R_a = 1 / a.value \n",
    "    ws_val = w_s.value\n",
    "    ww_val = w_w.value\n",
    "    w_val = w.value\n",
    "    q_hat_val = q_hat.value\n",
    "\n",
    "\n",
    "    # RMSE for dTi (u)\n",
    "    rmse_dTi = np.sqrt(np.mean(u.value**2))\n",
    "\n",
    "    # RMSE for q_hat vs q_hp\n",
    "    rmse_q = np.sqrt(np.mean((q_hat.value - q_hp * delta_t)**2))\n",
    "    \n",
    "    return R_a, ws_val, ww_val, w_val, rmse_q, rmse_dTi, q_hat_val\n",
    "\n",
    "\n",
    "# Create time index for q_hat arrays\n",
    "time_index = df_heating_annual.index[:-1]\n",
    "\n",
    "# Initialize DataFrame to hold all q_hat results\n",
    "df_q_results = pd.DataFrame(index=time_index)\n",
    "\n",
    "# Grid search and store results\n",
    "C_values = np.arange(1, 3.1, 0.1)\n",
    "results = []\n",
    "\n",
    "for C in C_values:\n",
    "    R_a, ws, ww, w, rmse_q, rmse_dTi,q_hat_val = solve_inner(C)\n",
    "    # Save q_hat for this C\n",
    "    # Add q_hat as a new column\n",
    "    df_q_results[f\"C_{C:.1f}\"] = q_hat_val\n",
    "    \n",
    "    results.append({\n",
    "        \"C\": C,\n",
    "        \"R_a\": R_a,\n",
    "        \"w_s\": ws,\n",
    "        #\"w_w\": ww,\n",
    "        \"w\": w,\n",
    "        \"rmse_q\": rmse_q,\n",
    "        \"rmse_dTi\": rmse_dTi\n",
    "    })\n",
    "    print(f\"C={C:.2f} | R_a={R_a:.4f} | w_s={ws:.4f} | w={w:.4f} | \"\n",
    "          f\"rmse_q={rmse_q:.4f} | rmse_dTi={rmse_dTi:.4f}\")\n",
    "\n",
    "# Convert to DataFrame\n",
    "df_results = pd.DataFrame(results)\n",
    "\n",
    "# Display or save\n",
    "print(df_results.head())#%%\n",
    "print(grad)\n"
   ],
   "id": "6c7f42c7ef72666c",
   "outputs": [
    {
     "name": "stdout",
     "output_type": "stream",
     "text": [
      "C=1.00 | R_a=15.6452 | w_s=0.0000 | w=-0.2864 | rmse_q=0.3606 | rmse_dTi=0.0195\n",
      "C=1.10 | R_a=14.4328 | w_s=0.0000 | w=-0.2400 | rmse_q=0.3442 | rmse_dTi=0.0245\n",
      "C=1.20 | R_a=13.5479 | w_s=0.0000 | w=-0.2009 | rmse_q=0.3310 | rmse_dTi=0.0301\n",
      "C=1.30 | R_a=12.9181 | w_s=0.0000 | w=-0.1699 | rmse_q=0.3211 | rmse_dTi=0.0361\n",
      "C=1.40 | R_a=12.4205 | w_s=0.0000 | w=-0.1431 | rmse_q=0.3145 | rmse_dTi=0.0425\n",
      "C=1.50 | R_a=12.0038 | w_s=0.0000 | w=-0.1190 | rmse_q=0.3110 | rmse_dTi=0.0489\n",
      "C=1.60 | R_a=11.6480 | w_s=0.0000 | w=-0.0970 | rmse_q=0.3104 | rmse_dTi=0.0554\n",
      "C=1.70 | R_a=11.4077 | w_s=0.0000 | w=-0.0838 | rmse_q=0.3124 | rmse_dTi=0.0618\n",
      "C=1.80 | R_a=11.2080 | w_s=0.0000 | w=-0.0731 | rmse_q=0.3167 | rmse_dTi=0.0681\n",
      "C=1.90 | R_a=11.0284 | w_s=0.0000 | w=-0.0632 | rmse_q=0.3233 | rmse_dTi=0.0743\n",
      "C=2.00 | R_a=10.8720 | w_s=0.0001 | w=-0.0549 | rmse_q=0.3317 | rmse_dTi=0.0804\n",
      "C=2.10 | R_a=10.7361 | w_s=0.0001 | w=-0.0478 | rmse_q=0.3416 | rmse_dTi=0.0863\n",
      "C=2.20 | R_a=10.6230 | w_s=0.0001 | w=-0.0426 | rmse_q=0.3528 | rmse_dTi=0.0920\n",
      "C=2.30 | R_a=10.5471 | w_s=0.0001 | w=-0.0403 | rmse_q=0.3650 | rmse_dTi=0.0975\n",
      "C=2.40 | R_a=10.4979 | w_s=0.0002 | w=-0.0400 | rmse_q=0.3780 | rmse_dTi=0.1029\n",
      "C=2.50 | R_a=10.4863 | w_s=0.0002 | w=-0.0427 | rmse_q=0.3917 | rmse_dTi=0.1081\n",
      "C=2.60 | R_a=10.4998 | w_s=0.0002 | w=-0.0474 | rmse_q=0.4058 | rmse_dTi=0.1132\n",
      "C=2.70 | R_a=10.5428 | w_s=0.0002 | w=-0.0543 | rmse_q=0.4204 | rmse_dTi=0.1181\n",
      "C=2.80 | R_a=10.6162 | w_s=0.0002 | w=-0.0635 | rmse_q=0.4352 | rmse_dTi=0.1228\n",
      "C=2.90 | R_a=10.7016 | w_s=0.0003 | w=-0.0735 | rmse_q=0.4501 | rmse_dTi=0.1274\n",
      "C=3.00 | R_a=10.7991 | w_s=0.0003 | w=-0.0842 | rmse_q=0.4652 | rmse_dTi=0.1318\n",
      "     C        R_a           w_s                     w    rmse_q  rmse_dTi\n",
      "0  1.0  15.645221  1.522909e-12   -0.2864190084790293  0.360572  0.019504\n",
      "1  1.1  14.432798  1.098246e-10  -0.24002643893754266  0.344168  0.024454\n",
      "2  1.2  13.547917  1.335077e-12  -0.20094382660950097  0.330984  0.030058\n",
      "3  1.3  12.918066  1.785825e-10  -0.16990731746480048  0.321137  0.036144\n",
      "4  1.4  12.420452  1.100756e-11  -0.14313776318813748  0.314512  0.042484\n",
      "0.033235782505842304\n"
     ]
    }
   ],
   "execution_count": 64
  },
  {
   "metadata": {
    "ExecuteTime": {
     "end_time": "2025-07-18T11:37:43.119249Z",
     "start_time": "2025-07-18T11:37:43.116778Z"
    }
   },
   "cell_type": "code",
   "source": [
    "df_results.sort_values(by=\"rmse_dTi\", ascending=True, inplace=True)\n",
    "top_result = df_results.iloc[0]\n",
    "top_result"
   ],
   "id": "f808fd4ca01a431c",
   "outputs": [
    {
     "data": {
      "text/plain": [
       "C                           1.0\n",
       "R_a                   15.645221\n",
       "w_s                         0.0\n",
       "w           -0.2864190084790293\n",
       "rmse_q                 0.360572\n",
       "rmse_dTi               0.019504\n",
       "Name: 0, dtype: object"
      ]
     },
     "execution_count": 65,
     "metadata": {},
     "output_type": "execute_result"
    }
   ],
   "execution_count": 65
  },
  {
   "metadata": {
    "ExecuteTime": {
     "end_time": "2025-07-18T11:49:22.375869Z",
     "start_time": "2025-07-18T11:49:22.361054Z"
    }
   },
   "cell_type": "code",
   "source": "df_heating_single",
   "id": "6ab78a18d078b266",
   "outputs": [
    {
     "data": {
      "text/plain": [
       "                    Property_ID half-hour  Circulation_Pump_Energy_Consumed  \\\n",
       "Timestamp                                                                     \n",
       "2020-10-26 00:00:00     EOH0279  00:00:00                              0.00   \n",
       "2020-10-26 00:30:00     EOH0279  00:30:00                              0.00   \n",
       "2020-10-26 01:00:00     EOH0279  01:00:00                              0.00   \n",
       "2020-10-26 01:30:00     EOH0279  01:30:00                              0.00   \n",
       "2020-10-26 02:00:00     EOH0279  02:00:00                              0.00   \n",
       "...                         ...       ...                               ...   \n",
       "2023-09-28 22:00:00     EOH0279  22:00:00                             86.84   \n",
       "2023-09-28 22:30:00     EOH0279  22:30:00                             86.84   \n",
       "2023-09-28 23:00:00     EOH0279  23:00:00                             86.84   \n",
       "2023-09-28 23:30:00     EOH0279  23:30:00                             86.84   \n",
       "2023-09-29 00:00:00     EOH0279  00:00:00                             86.84   \n",
       "\n",
       "                     Heat_Pump_Energy_Output  Whole_System_Energy_Consumed  \\\n",
       "Timestamp                                                                    \n",
       "2020-10-26 00:00:00                    0.000                         0.008   \n",
       "2020-10-26 00:30:00                    0.000                         0.019   \n",
       "2020-10-26 01:00:00                    2.730                         0.967   \n",
       "2020-10-26 01:30:00                    4.312                         1.647   \n",
       "2020-10-26 02:00:00                    4.312                         1.657   \n",
       "...                                      ...                           ...   \n",
       "2023-09-28 22:00:00                29033.384                      8687.249   \n",
       "2023-09-28 22:30:00                29033.384                      8687.259   \n",
       "2023-09-28 23:00:00                29033.384                      8687.270   \n",
       "2023-09-28 23:30:00                29033.384                      8687.280   \n",
       "2023-09-29 00:00:00                29033.384                      8687.280   \n",
       "\n",
       "                     External_Air_Temperature  \\\n",
       "Timestamp                                       \n",
       "2020-10-26 00:00:00                      9.38   \n",
       "2020-10-26 00:30:00                      9.33   \n",
       "2020-10-26 01:00:00                      9.21   \n",
       "2020-10-26 01:30:00                      9.01   \n",
       "2020-10-26 02:00:00                      8.88   \n",
       "...                                       ...   \n",
       "2023-09-28 22:00:00                     13.39   \n",
       "2023-09-28 22:30:00                     13.08   \n",
       "2023-09-28 23:00:00                     12.77   \n",
       "2023-09-28 23:30:00                     12.44   \n",
       "2023-09-29 00:00:00                     12.44   \n",
       "\n",
       "                     Heat_Pump_Heating_Flow_Temperature  \\\n",
       "Timestamp                                                 \n",
       "2020-10-26 00:00:00                               23.14   \n",
       "2020-10-26 00:30:00                               22.54   \n",
       "2020-10-26 01:00:00                               35.27   \n",
       "2020-10-26 01:30:00                               52.94   \n",
       "2020-10-26 02:00:00                               41.04   \n",
       "...                                                 ...   \n",
       "2023-09-28 22:00:00                               23.06   \n",
       "2023-09-28 22:30:00                               22.80   \n",
       "2023-09-28 23:00:00                               22.59   \n",
       "2023-09-28 23:30:00                               22.41   \n",
       "2023-09-29 00:00:00                               22.33   \n",
       "\n",
       "                     Heat_Pump_Return_Temperature  Internal_Air_Temperature  \\\n",
       "Timestamp                                                                     \n",
       "2020-10-26 00:00:00                         23.35                     17.21   \n",
       "2020-10-26 00:30:00                         22.80                     17.02   \n",
       "2020-10-26 01:00:00                         30.93                     16.87   \n",
       "2020-10-26 01:30:00                         46.32                     16.76   \n",
       "2020-10-26 02:00:00                         42.52                     16.68   \n",
       "...                                           ...                       ...   \n",
       "2023-09-28 22:00:00                         23.19                     17.87   \n",
       "2023-09-28 22:30:00                         22.92                     17.76   \n",
       "2023-09-28 23:00:00                         22.68                     17.72   \n",
       "2023-09-28 23:30:00                         22.49                     17.62   \n",
       "2023-09-29 00:00:00                         22.40                     17.62   \n",
       "\n",
       "                     Hot_Water_Flow_Temperature  ...  Temperature FeelsLike  \\\n",
       "Timestamp                                        ...                          \n",
       "2020-10-26 00:00:00                       22.68  ...         8.90      6.10   \n",
       "2020-10-26 00:30:00                       22.68  ...         8.85      6.30   \n",
       "2020-10-26 01:00:00                       22.68  ...         8.80      6.50   \n",
       "2020-10-26 01:30:00                       22.68  ...         8.65      6.15   \n",
       "2020-10-26 02:00:00                       22.68  ...         8.50      5.80   \n",
       "...                                         ...  ...          ...       ...   \n",
       "2023-09-28 22:00:00                       55.42  ...        14.20     14.20   \n",
       "2023-09-28 22:30:00                       55.42  ...        13.75     13.75   \n",
       "2023-09-28 23:00:00                       55.42  ...        13.30     13.30   \n",
       "2023-09-28 23:30:00                       55.42  ...        12.95     12.95   \n",
       "2023-09-29 00:00:00                       55.42  ...        12.60     12.60   \n",
       "\n",
       "                     Humidity    Dew Precipitation SolarRadiation  \\\n",
       "Timestamp                                                           \n",
       "2020-10-26 00:00:00    79.750   5.60        0.1540            0.0   \n",
       "2020-10-26 00:30:00    79.940   5.60        0.0770            0.0   \n",
       "2020-10-26 01:00:00    80.130   5.60        0.0000            0.0   \n",
       "2020-10-26 01:30:00    82.785   5.90        0.0000            0.0   \n",
       "2020-10-26 02:00:00    85.440   6.20        0.0000            0.0   \n",
       "...                       ...    ...           ...            ...   \n",
       "2023-09-28 22:00:00    79.140  10.60        0.0790            0.0   \n",
       "2023-09-28 22:30:00    83.800  11.05        0.3500            0.0   \n",
       "2023-09-28 23:00:00    88.460  11.50        0.6210            0.0   \n",
       "2023-09-28 23:30:00    88.495  11.15        0.4925            0.0   \n",
       "2023-09-29 00:00:00    88.530  10.80        0.3640            0.0   \n",
       "\n",
       "                     SolarEnergy  Windspeed  Internal_Temperature_Diff  \\\n",
       "Timestamp                                                                \n",
       "2020-10-26 00:00:00          0.0      19.30                      -0.19   \n",
       "2020-10-26 00:30:00          0.0      17.00                      -0.19   \n",
       "2020-10-26 01:00:00          0.0      14.70                      -0.15   \n",
       "2020-10-26 01:30:00          0.0      15.75                      -0.11   \n",
       "2020-10-26 02:00:00          0.0      16.80                      -0.08   \n",
       "...                          ...        ...                        ...   \n",
       "2023-09-28 22:00:00          0.0      18.00                      -0.04   \n",
       "2023-09-28 22:30:00          0.0      19.60                      -0.11   \n",
       "2023-09-28 23:00:00          0.0      21.20                      -0.04   \n",
       "2023-09-28 23:30:00          0.0      19.80                      -0.10   \n",
       "2023-09-29 00:00:00          0.0      18.40                       0.00   \n",
       "\n",
       "                     Internal_Ambient_Temperature_Diff  \n",
       "Timestamp                                               \n",
       "2020-10-26 00:00:00                              -7.83  \n",
       "2020-10-26 00:30:00                              -7.69  \n",
       "2020-10-26 01:00:00                              -7.66  \n",
       "2020-10-26 01:30:00                              -7.75  \n",
       "2020-10-26 02:00:00                              -7.80  \n",
       "...                                                ...  \n",
       "2023-09-28 22:00:00                              -4.48  \n",
       "2023-09-28 22:30:00                              -4.68  \n",
       "2023-09-28 23:00:00                              -4.95  \n",
       "2023-09-28 23:30:00                              -5.18  \n",
       "2023-09-29 00:00:00                              -5.18  \n",
       "\n",
       "[51263 rows x 26 columns]"
      ],
      "text/html": [
       "<div>\n",
       "<style scoped>\n",
       "    .dataframe tbody tr th:only-of-type {\n",
       "        vertical-align: middle;\n",
       "    }\n",
       "\n",
       "    .dataframe tbody tr th {\n",
       "        vertical-align: top;\n",
       "    }\n",
       "\n",
       "    .dataframe thead th {\n",
       "        text-align: right;\n",
       "    }\n",
       "</style>\n",
       "<table border=\"1\" class=\"dataframe\">\n",
       "  <thead>\n",
       "    <tr style=\"text-align: right;\">\n",
       "      <th></th>\n",
       "      <th>Property_ID</th>\n",
       "      <th>half-hour</th>\n",
       "      <th>Circulation_Pump_Energy_Consumed</th>\n",
       "      <th>Heat_Pump_Energy_Output</th>\n",
       "      <th>Whole_System_Energy_Consumed</th>\n",
       "      <th>External_Air_Temperature</th>\n",
       "      <th>Heat_Pump_Heating_Flow_Temperature</th>\n",
       "      <th>Heat_Pump_Return_Temperature</th>\n",
       "      <th>Internal_Air_Temperature</th>\n",
       "      <th>Hot_Water_Flow_Temperature</th>\n",
       "      <th>...</th>\n",
       "      <th>Temperature</th>\n",
       "      <th>FeelsLike</th>\n",
       "      <th>Humidity</th>\n",
       "      <th>Dew</th>\n",
       "      <th>Precipitation</th>\n",
       "      <th>SolarRadiation</th>\n",
       "      <th>SolarEnergy</th>\n",
       "      <th>Windspeed</th>\n",
       "      <th>Internal_Temperature_Diff</th>\n",
       "      <th>Internal_Ambient_Temperature_Diff</th>\n",
       "    </tr>\n",
       "    <tr>\n",
       "      <th>Timestamp</th>\n",
       "      <th></th>\n",
       "      <th></th>\n",
       "      <th></th>\n",
       "      <th></th>\n",
       "      <th></th>\n",
       "      <th></th>\n",
       "      <th></th>\n",
       "      <th></th>\n",
       "      <th></th>\n",
       "      <th></th>\n",
       "      <th></th>\n",
       "      <th></th>\n",
       "      <th></th>\n",
       "      <th></th>\n",
       "      <th></th>\n",
       "      <th></th>\n",
       "      <th></th>\n",
       "      <th></th>\n",
       "      <th></th>\n",
       "      <th></th>\n",
       "      <th></th>\n",
       "    </tr>\n",
       "  </thead>\n",
       "  <tbody>\n",
       "    <tr>\n",
       "      <th>2020-10-26 00:00:00</th>\n",
       "      <td>EOH0279</td>\n",
       "      <td>00:00:00</td>\n",
       "      <td>0.00</td>\n",
       "      <td>0.000</td>\n",
       "      <td>0.008</td>\n",
       "      <td>9.38</td>\n",
       "      <td>23.14</td>\n",
       "      <td>23.35</td>\n",
       "      <td>17.21</td>\n",
       "      <td>22.68</td>\n",
       "      <td>...</td>\n",
       "      <td>8.90</td>\n",
       "      <td>6.10</td>\n",
       "      <td>79.750</td>\n",
       "      <td>5.60</td>\n",
       "      <td>0.1540</td>\n",
       "      <td>0.0</td>\n",
       "      <td>0.0</td>\n",
       "      <td>19.30</td>\n",
       "      <td>-0.19</td>\n",
       "      <td>-7.83</td>\n",
       "    </tr>\n",
       "    <tr>\n",
       "      <th>2020-10-26 00:30:00</th>\n",
       "      <td>EOH0279</td>\n",
       "      <td>00:30:00</td>\n",
       "      <td>0.00</td>\n",
       "      <td>0.000</td>\n",
       "      <td>0.019</td>\n",
       "      <td>9.33</td>\n",
       "      <td>22.54</td>\n",
       "      <td>22.80</td>\n",
       "      <td>17.02</td>\n",
       "      <td>22.68</td>\n",
       "      <td>...</td>\n",
       "      <td>8.85</td>\n",
       "      <td>6.30</td>\n",
       "      <td>79.940</td>\n",
       "      <td>5.60</td>\n",
       "      <td>0.0770</td>\n",
       "      <td>0.0</td>\n",
       "      <td>0.0</td>\n",
       "      <td>17.00</td>\n",
       "      <td>-0.19</td>\n",
       "      <td>-7.69</td>\n",
       "    </tr>\n",
       "    <tr>\n",
       "      <th>2020-10-26 01:00:00</th>\n",
       "      <td>EOH0279</td>\n",
       "      <td>01:00:00</td>\n",
       "      <td>0.00</td>\n",
       "      <td>2.730</td>\n",
       "      <td>0.967</td>\n",
       "      <td>9.21</td>\n",
       "      <td>35.27</td>\n",
       "      <td>30.93</td>\n",
       "      <td>16.87</td>\n",
       "      <td>22.68</td>\n",
       "      <td>...</td>\n",
       "      <td>8.80</td>\n",
       "      <td>6.50</td>\n",
       "      <td>80.130</td>\n",
       "      <td>5.60</td>\n",
       "      <td>0.0000</td>\n",
       "      <td>0.0</td>\n",
       "      <td>0.0</td>\n",
       "      <td>14.70</td>\n",
       "      <td>-0.15</td>\n",
       "      <td>-7.66</td>\n",
       "    </tr>\n",
       "    <tr>\n",
       "      <th>2020-10-26 01:30:00</th>\n",
       "      <td>EOH0279</td>\n",
       "      <td>01:30:00</td>\n",
       "      <td>0.00</td>\n",
       "      <td>4.312</td>\n",
       "      <td>1.647</td>\n",
       "      <td>9.01</td>\n",
       "      <td>52.94</td>\n",
       "      <td>46.32</td>\n",
       "      <td>16.76</td>\n",
       "      <td>22.68</td>\n",
       "      <td>...</td>\n",
       "      <td>8.65</td>\n",
       "      <td>6.15</td>\n",
       "      <td>82.785</td>\n",
       "      <td>5.90</td>\n",
       "      <td>0.0000</td>\n",
       "      <td>0.0</td>\n",
       "      <td>0.0</td>\n",
       "      <td>15.75</td>\n",
       "      <td>-0.11</td>\n",
       "      <td>-7.75</td>\n",
       "    </tr>\n",
       "    <tr>\n",
       "      <th>2020-10-26 02:00:00</th>\n",
       "      <td>EOH0279</td>\n",
       "      <td>02:00:00</td>\n",
       "      <td>0.00</td>\n",
       "      <td>4.312</td>\n",
       "      <td>1.657</td>\n",
       "      <td>8.88</td>\n",
       "      <td>41.04</td>\n",
       "      <td>42.52</td>\n",
       "      <td>16.68</td>\n",
       "      <td>22.68</td>\n",
       "      <td>...</td>\n",
       "      <td>8.50</td>\n",
       "      <td>5.80</td>\n",
       "      <td>85.440</td>\n",
       "      <td>6.20</td>\n",
       "      <td>0.0000</td>\n",
       "      <td>0.0</td>\n",
       "      <td>0.0</td>\n",
       "      <td>16.80</td>\n",
       "      <td>-0.08</td>\n",
       "      <td>-7.80</td>\n",
       "    </tr>\n",
       "    <tr>\n",
       "      <th>...</th>\n",
       "      <td>...</td>\n",
       "      <td>...</td>\n",
       "      <td>...</td>\n",
       "      <td>...</td>\n",
       "      <td>...</td>\n",
       "      <td>...</td>\n",
       "      <td>...</td>\n",
       "      <td>...</td>\n",
       "      <td>...</td>\n",
       "      <td>...</td>\n",
       "      <td>...</td>\n",
       "      <td>...</td>\n",
       "      <td>...</td>\n",
       "      <td>...</td>\n",
       "      <td>...</td>\n",
       "      <td>...</td>\n",
       "      <td>...</td>\n",
       "      <td>...</td>\n",
       "      <td>...</td>\n",
       "      <td>...</td>\n",
       "      <td>...</td>\n",
       "    </tr>\n",
       "    <tr>\n",
       "      <th>2023-09-28 22:00:00</th>\n",
       "      <td>EOH0279</td>\n",
       "      <td>22:00:00</td>\n",
       "      <td>86.84</td>\n",
       "      <td>29033.384</td>\n",
       "      <td>8687.249</td>\n",
       "      <td>13.39</td>\n",
       "      <td>23.06</td>\n",
       "      <td>23.19</td>\n",
       "      <td>17.87</td>\n",
       "      <td>55.42</td>\n",
       "      <td>...</td>\n",
       "      <td>14.20</td>\n",
       "      <td>14.20</td>\n",
       "      <td>79.140</td>\n",
       "      <td>10.60</td>\n",
       "      <td>0.0790</td>\n",
       "      <td>0.0</td>\n",
       "      <td>0.0</td>\n",
       "      <td>18.00</td>\n",
       "      <td>-0.04</td>\n",
       "      <td>-4.48</td>\n",
       "    </tr>\n",
       "    <tr>\n",
       "      <th>2023-09-28 22:30:00</th>\n",
       "      <td>EOH0279</td>\n",
       "      <td>22:30:00</td>\n",
       "      <td>86.84</td>\n",
       "      <td>29033.384</td>\n",
       "      <td>8687.259</td>\n",
       "      <td>13.08</td>\n",
       "      <td>22.80</td>\n",
       "      <td>22.92</td>\n",
       "      <td>17.76</td>\n",
       "      <td>55.42</td>\n",
       "      <td>...</td>\n",
       "      <td>13.75</td>\n",
       "      <td>13.75</td>\n",
       "      <td>83.800</td>\n",
       "      <td>11.05</td>\n",
       "      <td>0.3500</td>\n",
       "      <td>0.0</td>\n",
       "      <td>0.0</td>\n",
       "      <td>19.60</td>\n",
       "      <td>-0.11</td>\n",
       "      <td>-4.68</td>\n",
       "    </tr>\n",
       "    <tr>\n",
       "      <th>2023-09-28 23:00:00</th>\n",
       "      <td>EOH0279</td>\n",
       "      <td>23:00:00</td>\n",
       "      <td>86.84</td>\n",
       "      <td>29033.384</td>\n",
       "      <td>8687.270</td>\n",
       "      <td>12.77</td>\n",
       "      <td>22.59</td>\n",
       "      <td>22.68</td>\n",
       "      <td>17.72</td>\n",
       "      <td>55.42</td>\n",
       "      <td>...</td>\n",
       "      <td>13.30</td>\n",
       "      <td>13.30</td>\n",
       "      <td>88.460</td>\n",
       "      <td>11.50</td>\n",
       "      <td>0.6210</td>\n",
       "      <td>0.0</td>\n",
       "      <td>0.0</td>\n",
       "      <td>21.20</td>\n",
       "      <td>-0.04</td>\n",
       "      <td>-4.95</td>\n",
       "    </tr>\n",
       "    <tr>\n",
       "      <th>2023-09-28 23:30:00</th>\n",
       "      <td>EOH0279</td>\n",
       "      <td>23:30:00</td>\n",
       "      <td>86.84</td>\n",
       "      <td>29033.384</td>\n",
       "      <td>8687.280</td>\n",
       "      <td>12.44</td>\n",
       "      <td>22.41</td>\n",
       "      <td>22.49</td>\n",
       "      <td>17.62</td>\n",
       "      <td>55.42</td>\n",
       "      <td>...</td>\n",
       "      <td>12.95</td>\n",
       "      <td>12.95</td>\n",
       "      <td>88.495</td>\n",
       "      <td>11.15</td>\n",
       "      <td>0.4925</td>\n",
       "      <td>0.0</td>\n",
       "      <td>0.0</td>\n",
       "      <td>19.80</td>\n",
       "      <td>-0.10</td>\n",
       "      <td>-5.18</td>\n",
       "    </tr>\n",
       "    <tr>\n",
       "      <th>2023-09-29 00:00:00</th>\n",
       "      <td>EOH0279</td>\n",
       "      <td>00:00:00</td>\n",
       "      <td>86.84</td>\n",
       "      <td>29033.384</td>\n",
       "      <td>8687.280</td>\n",
       "      <td>12.44</td>\n",
       "      <td>22.33</td>\n",
       "      <td>22.40</td>\n",
       "      <td>17.62</td>\n",
       "      <td>55.42</td>\n",
       "      <td>...</td>\n",
       "      <td>12.60</td>\n",
       "      <td>12.60</td>\n",
       "      <td>88.530</td>\n",
       "      <td>10.80</td>\n",
       "      <td>0.3640</td>\n",
       "      <td>0.0</td>\n",
       "      <td>0.0</td>\n",
       "      <td>18.40</td>\n",
       "      <td>0.00</td>\n",
       "      <td>-5.18</td>\n",
       "    </tr>\n",
       "  </tbody>\n",
       "</table>\n",
       "<p>51263 rows × 26 columns</p>\n",
       "</div>"
      ]
     },
     "execution_count": 76,
     "metadata": {},
     "output_type": "execute_result"
    }
   ],
   "execution_count": 76
  },
  {
   "metadata": {
    "ExecuteTime": {
     "end_time": "2025-07-18T11:45:13.339487Z",
     "start_time": "2025-07-18T11:45:13.280203Z"
    }
   },
   "cell_type": "code",
   "source": [
    "C = top_result[0]\n",
    "R_a = top_result[1]\n",
    "w_s=top_result[2]\n",
    "w = top_result[3]\n",
    "\n",
    "\n",
    "# Validate results\n",
    "t_start = pd.to_datetime(\"2022 01 01 00:00:00\")\n",
    "t_end = pd.to_datetime(\"2022 01 05 23:59:00\")\n",
    "df_q_opt = df_q_results[(df_q_results.index>=t_start) & (df_q_results.index<=t_end)]\n",
    "df_heating_val = df_heating_single[df_heating_single.index>=t_start]\n",
    "df_heating_val = df_heating_val[df_heating_val.index<=t_end]\n",
    "\n",
    "\n",
    "\n",
    "T_a_val = (df_heating_val[\"External_Air_Temperature\"].iloc[:-1].reset_index\n",
    "       (drop=True).to_numpy()) \n",
    "T_i_val = (df_heating_val[\"Internal_Air_Temperature\"].iloc[:-1].reset_index\n",
    "       (drop=True).to_numpy()) \n",
    "delta_T_a_val = (df_heating_val[\"Internal_Ambient_Temperature_Diff\"].iloc[:-1]\n",
    "             .reset_index(drop=True).to_numpy()) \n",
    "delta_T_i_val = (df_heating_val[\"Internal_Temperature_Diff\"].iloc[1:]\n",
    "             .reset_index(drop=True).to_numpy() / delta_t) \n",
    "q_hp_val = (df_heating_val[\"Heat_Pump_Energy_Output_Diff\"].iloc[:-1]\n",
    "        .reset_index(drop=True).to_numpy()) \n",
    "q_opt = df_q_opt[f\"C_{C:.1f}\"].iloc[:-1].reset_index(drop=True).to_numpy()\n",
    "q_solar_val = (df_heating_val[\"SolarRadiation\"].iloc[:-1].reset_index\n",
    "           (drop=True).to_numpy()) \n",
    "v_wind_val = (df_heating_val[\"Windspeed\"].iloc[:-1].reset_index(drop=True)\n",
    "          .to_numpy()) \n",
    "\n",
    "\n",
    "\n",
    "q_hat_sim = (delta_T_i_val * C -  delta_T_a_val / R_a * delta_t  + w_s *  \n",
    "         q_solar_val  + w * np.ones(len(T_a_val), )* delta_t )\n",
    "\n",
    "e_q = q_hat_sim - q_hp_val\n",
    "rmse_q_val = np.sqrt(np.mean(e_q**2))\n",
    "print(f\"RMSE of q_hp: {rmse_q_val}\")\n",
    "\n",
    "plt.plot(df_heating_val.index[1:],q_hat_sim, label = \"Sim\")\n",
    "plt.plot(df_heating_val.index[1:], q_hp_val, label = \"Measured\")\n",
    "plt.legend()\n",
    "plt.xlabel(\"Time\")\n",
    "plt.ylabel(\"kWh\")\n",
    "plt.show()\n",
    "\n"
   ],
   "id": "11bb73f0c3252d24",
   "outputs": [
    {
     "name": "stdout",
     "output_type": "stream",
     "text": [
      "RMSE of q_hp: 1.0413116315095914\n"
     ]
    },
    {
     "name": "stderr",
     "output_type": "stream",
     "text": [
      "/var/folders/fk/0m0g9qgs7y5fc0br86wht_1m0000gn/T/ipykernel_30285/434870142.py:3: FutureWarning: Series.__getitem__ treating keys as positions is deprecated. In a future version, integer keys will always be treated as labels (consistent with DataFrame behavior). To access a value by position, use `ser.iloc[pos]`\n",
      "  w_s=top_result[2]\n",
      "/var/folders/fk/0m0g9qgs7y5fc0br86wht_1m0000gn/T/ipykernel_30285/434870142.py:4: FutureWarning: Series.__getitem__ treating keys as positions is deprecated. In a future version, integer keys will always be treated as labels (consistent with DataFrame behavior). To access a value by position, use `ser.iloc[pos]`\n",
      "  w = top_result[3]\n"
     ]
    },
    {
     "data": {
      "text/plain": [
       "<Figure size 640x480 with 1 Axes>"
      ],
      "image/png": "[encoded data removed]"
     },
     "metadata": {},
     "output_type": "display_data"
    }
   ],
   "execution_count": 75
  },
  {
   "metadata": {
    "ExecuteTime": {
     "end_time": "2025-07-18T11:38:02.503602Z",
     "start_time": "2025-07-18T11:38:02.415627Z"
    }
   },
   "cell_type": "code",
   "source": [
    "C = top_result[0]\n",
    "R_a = top_result[1]\n",
    "w_s=top_result[2]\n",
    "w = top_result[3]\n",
    "\n",
    "\n",
    "# Validate results\n",
    "t_start = pd.to_datetime(\"2022 01 01 00:00:00\")\n",
    "t_end = pd.to_datetime(\"2022 01 05 23:59:00\")\n",
    "df_q_opt = df_q_results[(df_q_results.index>=t_start) & (df_q_results.index<=t_end)]\n",
    "df_heating_val = df_heating_single[df_heating_single.index>=t_start]\n",
    "df_heating_val = df_heating_val[df_heating_val.index<=t_end]\n",
    "\n",
    "\n",
    "\n",
    "T_a_val = (df_heating_val[\"External_Air_Temperature\"].iloc[:-1].reset_index\n",
    "       (drop=True).to_numpy()) \n",
    "T_i_val = (df_heating_val[\"Internal_Air_Temperature\"].iloc[:-1].reset_index\n",
    "       (drop=True).to_numpy()) \n",
    "delta_T_a_val = (df_heating_val[\"Internal_Ambient_Temperature_Diff\"].iloc[:-1]\n",
    "             .reset_index(drop=True).to_numpy()) \n",
    "delta_T_i_val = (df_heating_val[\"Internal_Temperature_Diff\"].iloc[1:]\n",
    "             .reset_index(drop=True).to_numpy() / delta_t) \n",
    "q_hp_val = (df_heating_val[\"Heat_Pump_Energy_Output_Diff\"].iloc[:-1]\n",
    "        .reset_index(drop=True).to_numpy()) \n",
    "q_opt = df_q_opt[f\"C_{C:.1f}\"].iloc[:-1].reset_index(drop=True).to_numpy()\n",
    "q_solar_val = (df_heating_val[\"SolarRadiation\"].iloc[:-1].reset_index\n",
    "           (drop=True).to_numpy()) \n",
    "v_wind_val = (df_heating_val[\"Windspeed\"].iloc[:-1].reset_index(drop=True)\n",
    "          .to_numpy()) \n",
    "\n",
    "\n",
    "delta_T_i_sim = (delta_T_a_val / R_a *delta_t + q_opt + w_s* q_solar_val + w\n",
    "                 * np\n",
    "                 .ones(len(T_a_val), )* delta_t) / C\n",
    "\n",
    "T_i_sim = np.zeros_like(T_i_val)\n",
    "T_i_prev = T_i_val[0]\n",
    "for i in range(len(delta_T_i_sim)):\n",
    "    T_i_sim[i] = T_i_prev + delta_T_i_sim[i]*delta_t\n",
    "    T_i_prev = T_i_sim[i]\n",
    "\n",
    "\n",
    "plt.plot(df_heating_val.index[1:],delta_T_i_sim, label = \"Sim\")\n",
    "plt.plot(df_heating_val.index[1:], delta_T_i_val, label = \"Measured\")\n",
    "plt.legend()\n",
    "plt.xlabel(\"Time\")\n",
    "plt.ylabel(\"Delta T\")\n",
    "plt.show()\n",
    "\n",
    "plt.plot(df_heating_val.index[1:],T_i_sim, label = \"Sim\")\n",
    "plt.plot(df_heating_val.index[1:], df_heating_val[\"Internal_Air_Temperature\"]\n",
    "         .iloc[1:].reset_index\n",
    "       (drop=True).to_numpy(), label = \"Measured\")\n",
    "plt.legend()\n",
    "plt.xlabel(\"Time\")\n",
    "plt.ylabel(\"Celsius\")\n",
    "plt.show()"
   ],
   "id": "66f2bd8743286bfc",
   "outputs": [
    {
     "name": "stderr",
     "output_type": "stream",
     "text": [
      "/var/folders/fk/0m0g9qgs7y5fc0br86wht_1m0000gn/T/ipykernel_30285/1312466956.py:1: FutureWarning: Series.__getitem__ treating keys as positions is deprecated. In a future version, integer keys will always be treated as labels (consistent with DataFrame behavior). To access a value by position, use `ser.iloc[pos]`\n",
      "  C = top_result[0]\n",
      "/var/folders/fk/0m0g9qgs7y5fc0br86wht_1m0000gn/T/ipykernel_30285/1312466956.py:2: FutureWarning: Series.__getitem__ treating keys as positions is deprecated. In a future version, integer keys will always be treated as labels (consistent with DataFrame behavior). To access a value by position, use `ser.iloc[pos]`\n",
      "  R_a = top_result[1]\n",
      "/var/folders/fk/0m0g9qgs7y5fc0br86wht_1m0000gn/T/ipykernel_30285/1312466956.py:3: FutureWarning: Series.__getitem__ treating keys as positions is deprecated. In a future version, integer keys will always be treated as labels (consistent with DataFrame behavior). To access a value by position, use `ser.iloc[pos]`\n",
      "  w_s=top_result[2]\n",
      "/var/folders/fk/0m0g9qgs7y5fc0br86wht_1m0000gn/T/ipykernel_30285/1312466956.py:4: FutureWarning: Series.__getitem__ treating keys as positions is deprecated. In a future version, integer keys will always be treated as labels (consistent with DataFrame behavior). To access a value by position, use `ser.iloc[pos]`\n",
      "  w = top_result[3]\n"
     ]
    },
    {
     "data": {
      "text/plain": [
       "<Figure size 640x480 with 1 Axes>"
      ],
      "image/png": "[encoded data removed]"
     },
     "metadata": {},
     "output_type": "display_data"
    },
    {
     "data": {
      "text/plain": [
       "<Figure size 640x480 with 1 Axes>"
      ],
      "image/png": "[encoded data removed]"
     },
     "metadata": {},
     "output_type": "display_data"
    }
   ],
   "execution_count": 74
  },
  {
   "metadata": {
    "ExecuteTime": {
     "end_time": "2025-07-18T11:37:43.416919Z",
     "start_time": "2025-07-18T11:37:43.414950Z"
    }
   },
   "cell_type": "code",
   "source": "q_hat.value",
   "id": "270b024b6e23a4cd",
   "outputs": [
    {
     "data": {
      "text/plain": [
       "array([6.67236099e-08, 8.81774114e-08, 8.70854547e-08, ...,\n",
       "       9.30310987e-08, 4.92987206e-08, 5.34196459e-08], shape=(13106,))"
      ]
     },
     "execution_count": 68,
     "metadata": {},
     "output_type": "execute_result"
    }
   ],
   "execution_count": 68
  },
  {
   "metadata": {
    "ExecuteTime": {
     "end_time": "2025-07-18T11:37:43.544702Z",
     "start_time": "2025-07-18T11:37:43.542753Z"
    }
   },
   "cell_type": "code",
   "source": "q_hp",
   "id": "e97b6cd3a8274a65",
   "outputs": [
    {
     "data": {
      "text/plain": [
       "array([0.   , 0.   , 2.304, ..., 0.   , 0.   , 0.   ], shape=(13106,))"
      ]
     },
     "execution_count": 69,
     "metadata": {},
     "output_type": "execute_result"
    }
   ],
   "execution_count": 69
  },
  {
   "metadata": {
    "ExecuteTime": {
     "end_time": "2025-07-18T11:37:43.766501Z",
     "start_time": "2025-07-18T11:37:43.673868Z"
    }
   },
   "cell_type": "code",
   "source": [
    "# compare q_hat with q_hp\n",
    "plt.plot(df_heating_annual.index[:-1],q_hat.value, label = \"q_optimize\")\n",
    "plt.plot(df_heating_annual.index[:-1],q_hp, label = \"q_meas\")\n",
    "plt.legend()\n",
    "plt.xlabel(\"Time\")\n",
    "plt.ylabel(\"kWh\")\n",
    "plt.show()"
   ],
   "id": "a66d27946acc68c0",
   "outputs": [
    {
     "data": {
      "text/plain": [
       "<Figure size 640x480 with 1 Axes>"
      ],
      "image/png": "[encoded data removed]"
     },
     "metadata": {},
     "output_type": "display_data"
    }
   ],
   "execution_count": 70
  },
  {
   "metadata": {
    "ExecuteTime": {
     "end_time": "2025-07-18T11:37:43.959449Z",
     "start_time": "2025-07-18T11:37:43.886296Z"
    }
   },
   "cell_type": "code",
   "source": [
    "# compare delt T_i with u\n",
    "plt.plot(df_heating_annual.index[1:],delta_T_i + u.value, label = \n",
    "\"q_optimize\")\n",
    "plt.plot(df_heating_annual.index[1:],delta_T_i, label = \"q_meas\")\n",
    "plt.legend()\n",
    "plt.xlabel(\"Time\")\n",
    "plt.ylabel(\"Temp\")\n",
    "plt.show()"
   ],
   "id": "b0de08d808e03d81",
   "outputs": [
    {
     "data": {
      "text/plain": [
       "<Figure size 640x480 with 1 Axes>"
      ],
      "image/png": "[encoded data removed]"
     },
     "metadata": {},
     "output_type": "display_data"
    }
   ],
   "execution_count": 71
  },
  {
   "metadata": {
    "ExecuteTime": {
     "end_time": "2025-07-18T11:37:44.097141Z",
     "start_time": "2025-07-18T11:37:44.077079Z"
    }
   },
   "cell_type": "code",
   "source": [
    "# Validate results\n",
    "t_start = pd.to_datetime(\"2023 01 01 00:00:00\")\n",
    "t_end = pd.to_datetime(\"2023 01 03 23:59:00\")\n",
    "df_heating_val = df_heating_single[df_heating_single.index>=t_start]\n",
    "df_heating_val = df_heating_val[df_heating_val.index<=t_end]\n",
    "\n",
    "T_a_val = (df_heating_val[\"External_Air_Temperature\"].iloc[:-1].reset_index\n",
    "       (drop=True).to_numpy()) \n",
    "T_i_val = (df_heating_val[\"Internal_Air_Temperature\"].iloc[:-1].reset_index\n",
    "       (drop=True).to_numpy()) \n",
    "delta_T_a_val = (df_heating_val[\"Internal_Ambient_Temperature_Diff\"].iloc[:-1]\n",
    "             .reset_index(drop=True).to_numpy()) \n",
    "delta_T_i_val = (df_heating_val[\"Internal_Temperature_Diff\"].iloc[1:]\n",
    "             .reset_index(drop=True).to_numpy() / delta_t) \n",
    "q_hp_val = (df_heating_val[\"Heat_Pump_Energy_Output_Diff\"].iloc[:-1]\n",
    "        .reset_index(drop=True).to_numpy()) \n",
    "q_solar_val = (df_heating_val[\"SolarRadiation\"].iloc[:-1].reset_index\n",
    "           (drop=True).to_numpy()) \n",
    "v_wind_val = (df_heating_val[\"Windspeed\"].iloc[:-1].reset_index(drop=True)\n",
    "          .to_numpy()) \n",
    "\n",
    "\n",
    "delta_T_i_sim = (delta_T_a_val * a.value + q_hp_val + w_s.value * q_solar_val * \n",
    "                 T_a_val + w_w.value * delta_T_a_val @ v_wind_val.T + w.value \n",
    "                 * np\n",
    "                 .ones(len(T_a_val), )) / C\n",
    "\n",
    "T_i_sim = np.zeros_like(T_i_val)\n",
    "T_i_prev = T_i_val[0]\n",
    "for i in range(len(delta_T_i_sim)):\n",
    "    print(i)\n",
    "    T_i_sim[i] = T_i_prev + delta_T_i_sim[i]*delta_t\n",
    "    T_i_prev = T_i_sim[i]\n",
    "\n",
    "plt.plot(df_heating_val.index[1:],delta_T_i_sim, label = \"Sim\")\n",
    "plt.plot(df_heating_val.index[1:], delta_T_i_val, label = \"Measured\")\n",
    "plt.legend()\n",
    "plt.xlabel(\"Time\")\n",
    "plt.ylabel(\"kWh\")\n",
    "plt.show()\n",
    "\n",
    "plt.plot(df_heating_val.index[1:],T_i_sim, label = \"Sim\")\n",
    "plt.plot(df_heating_val.index[1:], df_heating_val[\"Internal_Air_Temperature\"]\n",
    "         .iloc[1:].reset_index\n",
    "       (drop=True).to_numpy(), label = \"Measured\")\n",
    "plt.legend()\n",
    "plt.xlabel(\"Time\")\n",
    "plt.ylabel(\"Celsius\")\n",
    "plt.show()"
   ],
   "id": "b44c5ab5fed0afa7",
   "outputs": [
    {
     "ename": "AttributeError",
     "evalue": "'numpy.float64' object has no attribute 'value'",
     "output_type": "error",
     "traceback": [
      "\u001B[31m---------------------------------------------------------------------------\u001B[39m",
      "\u001B[31mAttributeError\u001B[39m                            Traceback (most recent call last)",
      "\u001B[36mCell\u001B[39m\u001B[36m \u001B[39m\u001B[32mIn[72]\u001B[39m\u001B[32m, line 23\u001B[39m\n\u001B[32m     17\u001B[39m q_solar_val = (df_heating_val[\u001B[33m\"\u001B[39m\u001B[33mSolarRadiation\u001B[39m\u001B[33m\"\u001B[39m].iloc[:-\u001B[32m1\u001B[39m].reset_index\n\u001B[32m     18\u001B[39m            (drop=\u001B[38;5;28;01mTrue\u001B[39;00m).to_numpy()) \n\u001B[32m     19\u001B[39m v_wind_val = (df_heating_val[\u001B[33m\"\u001B[39m\u001B[33mWindspeed\u001B[39m\u001B[33m\"\u001B[39m].iloc[:-\u001B[32m1\u001B[39m].reset_index(drop=\u001B[38;5;28;01mTrue\u001B[39;00m)\n\u001B[32m     20\u001B[39m           .to_numpy()) \n\u001B[32m---> \u001B[39m\u001B[32m23\u001B[39m delta_T_i_sim = (delta_T_a_val * a.value + q_hp_val + \u001B[43mw_s\u001B[49m\u001B[43m.\u001B[49m\u001B[43mvalue\u001B[49m * q_solar_val * \n\u001B[32m     24\u001B[39m                  T_a_val + w_w.value * delta_T_a_val @ v_wind_val.T + w.value \n\u001B[32m     25\u001B[39m                  * np\n\u001B[32m     26\u001B[39m                  .ones(\u001B[38;5;28mlen\u001B[39m(T_a_val), )) / C\n\u001B[32m     28\u001B[39m T_i_sim = np.zeros_like(T_i_val)\n\u001B[32m     29\u001B[39m T_i_prev = T_i_val[\u001B[32m0\u001B[39m]\n",
      "\u001B[31mAttributeError\u001B[39m: 'numpy.float64' object has no attribute 'value'"
     ]
    }
   ],
   "execution_count": 72
  },
  {
   "metadata": {
    "ExecuteTime": {
     "end_time": "2025-07-18T11:37:44.100050Z",
     "start_time": "2025-07-16T16:27:14.375573Z"
    }
   },
   "cell_type": "code",
   "source": "delta_T_i_sim[0]",
   "id": "3850b28b4add034a",
   "outputs": [
    {
     "data": {
      "text/plain": [
       "np.float64(-0.20043989445326418)"
      ]
     },
     "execution_count": 122,
     "metadata": {},
     "output_type": "execute_result"
    }
   ],
   "execution_count": 122
  },
  {
   "metadata": {
    "ExecuteTime": {
     "end_time": "2025-07-18T11:37:44.100174Z",
     "start_time": "2025-07-16T16:27:14.491643Z"
    }
   },
   "cell_type": "code",
   "source": [
    "# Validate results\n",
    "t_start = pd.to_datetime(\"2023 01 01 00:00:00\")\n",
    "t_end = pd.to_datetime(\"2023 01 5 23:59:00\")\n",
    "df_heating_val = df_heating_single[df_heating_single.index>=t_start]\n",
    "df_heating_val = df_heating_val[df_heating_val.index<=t_end]\n",
    "\n",
    "T_a_val = (df_heating_val[\"External_Air_Temperature\"].iloc[:-1].reset_index\n",
    "       (drop=True).to_numpy()) \n",
    "T_i_val = (df_heating_val[\"Internal_Air_Temperature\"].iloc[:-1].reset_index\n",
    "       (drop=True).to_numpy()) \n",
    "delta_T_a_val = (df_heating_val[\"Internal_Ambient_Temperature_Diff\"].iloc[:-1]\n",
    "             .reset_index(drop=True).to_numpy()) \n",
    "delta_T_i_val = (df_heating_val[\"Internal_Temperature_Diff\"].iloc[1:]\n",
    "             .reset_index(drop=True).to_numpy() / delta_t) \n",
    "q_hp_val = (df_heating_val[\"Heat_Pump_Energy_Output_Diff\"].iloc[:-1]\n",
    "        .reset_index(drop=True).to_numpy()) \n",
    "q_solar_val = (df_heating_val[\"SolarRadiation\"].iloc[:-1].reset_index\n",
    "           (drop=True).to_numpy()) \n",
    "v_wind_val = (df_heating_val[\"Windspeed\"].iloc[:-1].reset_index(drop=True)\n",
    "          .to_numpy()) \n",
    "\n",
    "\n",
    "q_hat_sim = (delta_T_i_val * C -  delta_T_a_val * a.value + w_s.value *  \n",
    "         q_solar_val * T_a_val + w_w.value * delta_T_a_val @ v_wind_val.T + w\n",
    "         .value * np.ones(len(T_a_val), ) )\n",
    "\n",
    "e_q = q_hat_sim - q_hp_val\n",
    "rmse_q_val = np.sqrt(np.mean(e_q**2))\n",
    "print(f\"RMSE of q_hp: {rmse_q_val}\")\n",
    "\n",
    "plt.plot(df_heating_val.index[1:],q_hat_sim, label = \"Sim\")\n",
    "plt.plot(df_heating_val.index[1:], q_hp_val, label = \"Measured\")\n",
    "plt.legend()\n",
    "plt.xlabel(\"Time\")\n",
    "plt.ylabel(\"kWh\")\n",
    "plt.show()"
   ],
   "id": "9f444d2b4e7ab468",
   "outputs": [
    {
     "name": "stdout",
     "output_type": "stream",
     "text": [
      "RMSE of q_hp: 1.2250702367243977\n"
     ]
    },
    {
     "data": {
      "text/plain": [
       "<Figure size 640x480 with 1 Axes>"
      ],
      "image/png": "[encoded data removed]"
     },
     "metadata": {},
     "output_type": "display_data"
    }
   ],
   "execution_count": 123
  },
  {
   "metadata": {
    "ExecuteTime": {
     "end_time": "2025-07-18T11:37:44.100268Z",
     "start_time": "2025-07-16T16:27:14.653020Z"
    }
   },
   "cell_type": "code",
   "source": [
    "# Less than 18 C\n",
    "df_heating_single = df_single_processed.copy()\n",
    "\n",
    "# Time range\n",
    "t_start = pd.to_datetime(\"2021-10-01 00:00:00\")\n",
    "t_end = pd.to_datetime(\"2022-03-31 23:59:00\")\n",
    "df_heating_only = df_heating_single[\n",
    "    (df_heating_single.index >= t_start) & (df_heating_single.index <= t_end)\n",
    "].copy()\n",
    "\n",
    "df_heating_only.drop(\"Property_ID\", axis=1, inplace=True)\n",
    "df_heating_only.drop(\"half-hour\", axis=1, inplace=True)\n",
    "df_heating_only.drop(\"Date\", axis=1, inplace=True)\n",
    "df_heating_only.drop(\"has_data\", axis=1, inplace=True)\n",
    "\n"
   ],
   "id": "af66bea0b944579b",
   "outputs": [],
   "execution_count": 124
  },
  {
   "metadata": {
    "ExecuteTime": {
     "end_time": "2025-07-18T11:37:44.100325Z",
     "start_time": "2025-07-16T16:27:14.780143Z"
    }
   },
   "cell_type": "code",
   "source": [
    "\n",
    "# Less than 18 C\n",
    "df_heating_single = df_single_processed.copy()\n",
    "\n",
    "# Time range\n",
    "t_start = pd.to_datetime(\"2021-10-01 00:00:00\")\n",
    "t_end = pd.to_datetime(\"2022-03-31 23:59:00\")\n",
    "df_heating_only = df_heating_single[\n",
    "    (df_heating_single.index >= t_start) & (df_heating_single.index <= t_end)\n",
    "].copy()\n",
    "\n",
    "df_heating_only.drop(\"Property_ID\", axis=1, inplace=True)\n",
    "df_heating_only.drop(\"half-hour\", axis=1, inplace=True)\n",
    "df_heating_only.drop(\"Date\", axis=1, inplace=True)\n",
    "df_heating_only.drop(\"has_data\", axis=1, inplace=True)\n",
    "\n",
    "\n",
    "t_step_try = [1, 6, 12, 24]\n",
    "\n",
    "for i in t_step_try:\n",
    "    df_numeric = df_heating_only.select_dtypes(include='number')\n",
    "\n",
    "    # Resample and compute mean\n",
    "    df_resampled = df_numeric.resample(f'{i}h').mean()\n",
    "\n",
    "    # Extract variables\n",
    "    delta_T_a_heat = df_resampled[\"Internal_Ambient_Temperature_Diff\"]\n",
    "    q_heat_only = df_resampled[\"Heat_Pump_Energy_Output_Diff\"]\n",
    "\n",
    "    # Create new scatter plot\n",
    "    plt.figure()\n",
    "    plt.scatter(delta_T_a_heat, q_heat_only)\n",
    "    plt.title(f\"Scatter Plot for Time Step = {i} Hour(s)\")\n",
    "    plt.xlabel(\"Delta Temperature\")\n",
    "    plt.ylabel(\"Heat Input Q\")\n",
    "    plt.grid(True)\n",
    "    plt.tight_layout()\n",
    "    plt.show()\n",
    "    \n"
   ],
   "id": "d221cb13da304222",
   "outputs": [
    {
     "data": {
      "text/plain": [
       "<Figure size 640x480 with 1 Axes>"
      ],
      "image/png": "[encoded data removed]"
     },
     "metadata": {},
     "output_type": "display_data"
    },
    {
     "data": {
      "text/plain": [
       "<Figure size 640x480 with 1 Axes>"
      ],
      "image/png": "[encoded data removed]"
     },
     "metadata": {},
     "output_type": "display_data"
    },
    {
     "data": {
      "text/plain": [
       "<Figure size 640x480 with 1 Axes>"
      ],
      "image/png": "[encoded data removed]"
     },
     "metadata": {},
     "output_type": "display_data"
    },
    {
     "data": {
      "text/plain": [
       "<Figure size 640x480 with 1 Axes>"
      ],
      "image/png": "[encoded data removed]"
     },
     "metadata": {},
     "output_type": "display_data"
    }
   ],
   "execution_count": 125
  },
  {
   "metadata": {
    "ExecuteTime": {
     "end_time": "2025-07-18T11:37:44.100390Z",
     "start_time": "2025-07-16T16:27:15.097870Z"
    }
   },
   "cell_type": "code",
   "source": [
    "# Less than 18 C\n",
    "df_heating_single = df_single_processed.copy()\n",
    "\n",
    "# Time range\n",
    "t_start = pd.to_datetime(\"2022-6-01 00:00:00\")\n",
    "t_end = pd.to_datetime(\"2022-08-30 23:59:00\")\n",
    "df_DHW = df_heating_single[\n",
    "    (df_heating_single.index >= t_start) & (df_heating_single.index <= t_end)\n",
    "].copy()\n",
    "\n",
    "df_DHW.drop(\"Property_ID\", axis=1, inplace=True)\n",
    "df_DHW.drop(\"half-hour\", axis=1, inplace=True)\n",
    "df_DHW.drop(\"Date\", axis=1, inplace=True)\n",
    "df_DHW.drop(\"has_data\", axis=1, inplace=True)\n",
    "\n",
    "\n",
    "t_step_try = [1, 6, 12, 24]\n",
    "\n",
    "for i in t_step_try:\n",
    "    df_numeric = df_DHW.select_dtypes(include='number')\n",
    "\n",
    "    # Resample and compute mean\n",
    "    df_resampled = df_numeric.resample(f'{i}h').mean()\n",
    "\n",
    "    # Extract variables\n",
    "    delta_T_a_heat = df_resampled[\"Internal_Ambient_Temperature_Diff\"]\n",
    "    q_heat_only = df_resampled[\"Heat_Pump_Energy_Output_Diff\"]\n",
    "\n",
    "    # Create new scatter plot\n",
    "    plt.figure()\n",
    "    plt.scatter(delta_T_a_heat, q_heat_only)\n",
    "    plt.title(f\"Scatter Plot for Time Step = {i} Hour(s)\")\n",
    "    plt.xlabel(\"Delta Temperature\")\n",
    "    plt.ylabel(\"Heat Input Q\")\n",
    "    plt.grid(True)\n",
    "    plt.tight_layout()\n",
    "    plt.show()"
   ],
   "id": "2037a5092cccae47",
   "outputs": [
    {
     "data": {
      "text/plain": [
       "<Figure size 640x480 with 1 Axes>"
      ],
      "image/png": "[encoded data removed]"
     },
     "metadata": {},
     "output_type": "display_data"
    },
    {
     "data": {
      "text/plain": [
       "<Figure size 640x480 with 1 Axes>"
      ],
      "image/png": "[encoded data removed]"
     },
     "metadata": {},
     "output_type": "display_data"
    },
    {
     "data": {
      "text/plain": [
       "<Figure size 640x480 with 1 Axes>"
      ],
      "image/png": "[encoded data removed]"
     },
     "metadata": {},
     "output_type": "display_data"
    },
    {
     "data": {
      "text/plain": [
       "<Figure size 640x480 with 1 Axes>"
      ],
      "image/png": "[encoded data removed]"
     },
     "metadata": {},
     "output_type": "display_data"
    }
   ],
   "execution_count": 126
  },
  {
   "metadata": {
    "ExecuteTime": {
     "end_time": "2025-07-18T11:37:44.100440Z",
     "start_time": "2025-07-16T16:27:15.413859Z"
    }
   },
   "cell_type": "code",
   "source": [
    "i = 24\n",
    "\n",
    "df_numeric = df_DHW.select_dtypes(include='number')\n",
    "\n",
    "# Resample and compute mean\n",
    "df_resampled = df_numeric.resample(f'{i}h').mean()\n",
    "\n",
    "df_DHW_only = df_resampled[df_resampled[\"Heat_Pump_Energy_Output_Diff\"] <=0.15]\n",
    "\n",
    "DHW_sum = []\n",
    "DHW_sum = df_DHW_only[\"Heat_Pump_Energy_Output_Diff\"].sum()*24\n",
    "\n",
    "df_spc_only = df_resampled[df_resampled[\"Heat_Pump_Energy_Output_Diff\"] >0.15]\n",
    "SPC_sum = df_spc_only[\"Heat_Pump_Energy_Output_Diff\"].sum()*24\n",
    "\n",
    "DHW_sum"
   ],
   "id": "7a9cafcddba024e1",
   "outputs": [
    {
     "data": {
      "text/plain": [
       "np.float64(101.26949999999852)"
      ]
     },
     "execution_count": 127,
     "metadata": {},
     "output_type": "execute_result"
    }
   ],
   "execution_count": 127
  }
 ],
 "metadata": {
  "kernelspec": {
   "display_name": "Python 3",
   "language": "python",
   "name": "python3"
  },
  "language_info": {
   "codemirror_mode": {
    "name": "ipython",
    "version": 2
   },
   "file_extension": ".py",
   "mimetype": "text/x-python",
   "name": "python",
   "nbconvert_exporter": "python",
   "pygments_lexer": "ipython2",
   "version": "2.7.6"
  }
 },
 "nbformat": 4,
 "nbformat_minor": 5
}
